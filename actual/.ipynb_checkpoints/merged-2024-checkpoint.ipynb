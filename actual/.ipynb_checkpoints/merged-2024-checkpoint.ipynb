{
 "cells": [
  {
   "cell_type": "raw",
   "id": "f43acc09-5214-43db-bf0f-cc4f3845b62d",
   "metadata": {},
   "source": [
    "---\n",
    "format:\n",
    "  pdf:\n",
    "    toc: true\n",
    "    toc-title: Tabla de contenido\n",
    "    toc-depth: 4\n",
    "    documentclass: scrreprt\n",
    "    echo: false\n",
    "    warning: false\n",
    "    geometry:\n",
    "      - left=20mm\n",
    "      - right=20mm\n",
    "      - heightrounded\n",
    "    include-in-header: \n",
    "      text: |\n",
    "        \\usepackage{makeidx}\n",
    "        \\makeindex\n",
    "    include-after-body: \n",
    "      text: |\n",
    "        \\printindex\n",
    "jupyter: python3\n",
    "---"
   ]
  },
  {
   "cell_type": "code",
   "execution_count": 1,
   "id": "a415782d-a0e7-488d-bf7e-14ee604a8246",
   "metadata": {
    "scrolled": true,
    "slideshow": {
     "slide_type": "skip"
    },
    "tags": []
   },
   "outputs": [],
   "source": [
    "%load_ext jupyter_black\n",
    "\n",
    "import warnings\n",
    "\n",
    "warnings.filterwarnings(\"ignore\")\n",
    "\n",
    "from IPython.display import display, HTML"
   ]
  },
  {
   "cell_type": "code",
   "execution_count": 2,
   "id": "cf7be17f-a075-4643-8126-f611bc7cdd28",
   "metadata": {
    "slideshow": {
     "slide_type": "skip"
    },
    "tags": []
   },
   "outputs": [],
   "source": [
    "import funciones_graficos as fg"
   ]
  },
  {
   "cell_type": "code",
   "execution_count": 3,
   "id": "de4a85f2-8027-43ca-9e80-4decad568bea",
   "metadata": {
    "slideshow": {
     "slide_type": "skip"
    },
    "tags": []
   },
   "outputs": [],
   "source": [
    "import numpy as np\n",
    "import pandas as pd\n",
    "import geopandas as gpd\n",
    "import seaborn as sns\n",
    "import plotly.express as px\n",
    "import plotly.graph_objects as go\n",
    "\n",
    "layout = go.Layout"
   ]
  },
  {
   "cell_type": "code",
   "execution_count": 9,
   "id": "5a98790c-6a13-41a8-9fec-04e1844b2a5b",
   "metadata": {
    "slideshow": {
     "slide_type": "skip"
    },
    "tags": []
   },
   "outputs": [
    {
     "ename": "FileNotFoundError",
     "evalue": "[Errno 2] No such file or directory: 'raw/datos_2024.csv'",
     "output_type": "error",
     "traceback": [
      "\u001b[0;31m---------------------------------------------------------------------------\u001b[0m",
      "\u001b[0;31mFileNotFoundError\u001b[0m                         Traceback (most recent call last)",
      "Cell \u001b[0;32mIn[9], line 3\u001b[0m\n\u001b[1;32m      1\u001b[0m \u001b[38;5;66;03m# data = pd.read_pickle(\"vdbg_final.pkl\")\u001b[39;00m\n\u001b[0;32m----> 3\u001b[0m data \u001b[38;5;241m=\u001b[39m \u001b[43mpd\u001b[49m\u001b[38;5;241;43m.\u001b[39;49m\u001b[43mread_csv\u001b[49m\u001b[43m(\u001b[49m\u001b[38;5;124;43m\"\u001b[39;49m\u001b[38;5;124;43mraw/datos_2024.csv\u001b[39;49m\u001b[38;5;124;43m\"\u001b[39;49m\u001b[43m,\u001b[49m\u001b[43m \u001b[49m\u001b[43mindex_col\u001b[49m\u001b[38;5;241;43m=\u001b[39;49m\u001b[38;5;241;43m0\u001b[39;49m\u001b[43m)\u001b[49m\n",
      "File \u001b[0;32m~/miniconda3/envs/vdbg/lib/python3.13/site-packages/pandas/io/parsers/readers.py:1026\u001b[0m, in \u001b[0;36mread_csv\u001b[0;34m(filepath_or_buffer, sep, delimiter, header, names, index_col, usecols, dtype, engine, converters, true_values, false_values, skipinitialspace, skiprows, skipfooter, nrows, na_values, keep_default_na, na_filter, verbose, skip_blank_lines, parse_dates, infer_datetime_format, keep_date_col, date_parser, date_format, dayfirst, cache_dates, iterator, chunksize, compression, thousands, decimal, lineterminator, quotechar, quoting, doublequote, escapechar, comment, encoding, encoding_errors, dialect, on_bad_lines, delim_whitespace, low_memory, memory_map, float_precision, storage_options, dtype_backend)\u001b[0m\n\u001b[1;32m   1013\u001b[0m kwds_defaults \u001b[38;5;241m=\u001b[39m _refine_defaults_read(\n\u001b[1;32m   1014\u001b[0m     dialect,\n\u001b[1;32m   1015\u001b[0m     delimiter,\n\u001b[0;32m   (...)\u001b[0m\n\u001b[1;32m   1022\u001b[0m     dtype_backend\u001b[38;5;241m=\u001b[39mdtype_backend,\n\u001b[1;32m   1023\u001b[0m )\n\u001b[1;32m   1024\u001b[0m kwds\u001b[38;5;241m.\u001b[39mupdate(kwds_defaults)\n\u001b[0;32m-> 1026\u001b[0m \u001b[38;5;28;01mreturn\u001b[39;00m \u001b[43m_read\u001b[49m\u001b[43m(\u001b[49m\u001b[43mfilepath_or_buffer\u001b[49m\u001b[43m,\u001b[49m\u001b[43m \u001b[49m\u001b[43mkwds\u001b[49m\u001b[43m)\u001b[49m\n",
      "File \u001b[0;32m~/miniconda3/envs/vdbg/lib/python3.13/site-packages/pandas/io/parsers/readers.py:620\u001b[0m, in \u001b[0;36m_read\u001b[0;34m(filepath_or_buffer, kwds)\u001b[0m\n\u001b[1;32m    617\u001b[0m _validate_names(kwds\u001b[38;5;241m.\u001b[39mget(\u001b[38;5;124m\"\u001b[39m\u001b[38;5;124mnames\u001b[39m\u001b[38;5;124m\"\u001b[39m, \u001b[38;5;28;01mNone\u001b[39;00m))\n\u001b[1;32m    619\u001b[0m \u001b[38;5;66;03m# Create the parser.\u001b[39;00m\n\u001b[0;32m--> 620\u001b[0m parser \u001b[38;5;241m=\u001b[39m \u001b[43mTextFileReader\u001b[49m\u001b[43m(\u001b[49m\u001b[43mfilepath_or_buffer\u001b[49m\u001b[43m,\u001b[49m\u001b[43m \u001b[49m\u001b[38;5;241;43m*\u001b[39;49m\u001b[38;5;241;43m*\u001b[39;49m\u001b[43mkwds\u001b[49m\u001b[43m)\u001b[49m\n\u001b[1;32m    622\u001b[0m \u001b[38;5;28;01mif\u001b[39;00m chunksize \u001b[38;5;129;01mor\u001b[39;00m iterator:\n\u001b[1;32m    623\u001b[0m     \u001b[38;5;28;01mreturn\u001b[39;00m parser\n",
      "File \u001b[0;32m~/miniconda3/envs/vdbg/lib/python3.13/site-packages/pandas/io/parsers/readers.py:1620\u001b[0m, in \u001b[0;36mTextFileReader.__init__\u001b[0;34m(self, f, engine, **kwds)\u001b[0m\n\u001b[1;32m   1617\u001b[0m     \u001b[38;5;28mself\u001b[39m\u001b[38;5;241m.\u001b[39moptions[\u001b[38;5;124m\"\u001b[39m\u001b[38;5;124mhas_index_names\u001b[39m\u001b[38;5;124m\"\u001b[39m] \u001b[38;5;241m=\u001b[39m kwds[\u001b[38;5;124m\"\u001b[39m\u001b[38;5;124mhas_index_names\u001b[39m\u001b[38;5;124m\"\u001b[39m]\n\u001b[1;32m   1619\u001b[0m \u001b[38;5;28mself\u001b[39m\u001b[38;5;241m.\u001b[39mhandles: IOHandles \u001b[38;5;241m|\u001b[39m \u001b[38;5;28;01mNone\u001b[39;00m \u001b[38;5;241m=\u001b[39m \u001b[38;5;28;01mNone\u001b[39;00m\n\u001b[0;32m-> 1620\u001b[0m \u001b[38;5;28mself\u001b[39m\u001b[38;5;241m.\u001b[39m_engine \u001b[38;5;241m=\u001b[39m \u001b[38;5;28;43mself\u001b[39;49m\u001b[38;5;241;43m.\u001b[39;49m\u001b[43m_make_engine\u001b[49m\u001b[43m(\u001b[49m\u001b[43mf\u001b[49m\u001b[43m,\u001b[49m\u001b[43m \u001b[49m\u001b[38;5;28;43mself\u001b[39;49m\u001b[38;5;241;43m.\u001b[39;49m\u001b[43mengine\u001b[49m\u001b[43m)\u001b[49m\n",
      "File \u001b[0;32m~/miniconda3/envs/vdbg/lib/python3.13/site-packages/pandas/io/parsers/readers.py:1880\u001b[0m, in \u001b[0;36mTextFileReader._make_engine\u001b[0;34m(self, f, engine)\u001b[0m\n\u001b[1;32m   1878\u001b[0m     \u001b[38;5;28;01mif\u001b[39;00m \u001b[38;5;124m\"\u001b[39m\u001b[38;5;124mb\u001b[39m\u001b[38;5;124m\"\u001b[39m \u001b[38;5;129;01mnot\u001b[39;00m \u001b[38;5;129;01min\u001b[39;00m mode:\n\u001b[1;32m   1879\u001b[0m         mode \u001b[38;5;241m+\u001b[39m\u001b[38;5;241m=\u001b[39m \u001b[38;5;124m\"\u001b[39m\u001b[38;5;124mb\u001b[39m\u001b[38;5;124m\"\u001b[39m\n\u001b[0;32m-> 1880\u001b[0m \u001b[38;5;28mself\u001b[39m\u001b[38;5;241m.\u001b[39mhandles \u001b[38;5;241m=\u001b[39m \u001b[43mget_handle\u001b[49m\u001b[43m(\u001b[49m\n\u001b[1;32m   1881\u001b[0m \u001b[43m    \u001b[49m\u001b[43mf\u001b[49m\u001b[43m,\u001b[49m\n\u001b[1;32m   1882\u001b[0m \u001b[43m    \u001b[49m\u001b[43mmode\u001b[49m\u001b[43m,\u001b[49m\n\u001b[1;32m   1883\u001b[0m \u001b[43m    \u001b[49m\u001b[43mencoding\u001b[49m\u001b[38;5;241;43m=\u001b[39;49m\u001b[38;5;28;43mself\u001b[39;49m\u001b[38;5;241;43m.\u001b[39;49m\u001b[43moptions\u001b[49m\u001b[38;5;241;43m.\u001b[39;49m\u001b[43mget\u001b[49m\u001b[43m(\u001b[49m\u001b[38;5;124;43m\"\u001b[39;49m\u001b[38;5;124;43mencoding\u001b[39;49m\u001b[38;5;124;43m\"\u001b[39;49m\u001b[43m,\u001b[49m\u001b[43m \u001b[49m\u001b[38;5;28;43;01mNone\u001b[39;49;00m\u001b[43m)\u001b[49m\u001b[43m,\u001b[49m\n\u001b[1;32m   1884\u001b[0m \u001b[43m    \u001b[49m\u001b[43mcompression\u001b[49m\u001b[38;5;241;43m=\u001b[39;49m\u001b[38;5;28;43mself\u001b[39;49m\u001b[38;5;241;43m.\u001b[39;49m\u001b[43moptions\u001b[49m\u001b[38;5;241;43m.\u001b[39;49m\u001b[43mget\u001b[49m\u001b[43m(\u001b[49m\u001b[38;5;124;43m\"\u001b[39;49m\u001b[38;5;124;43mcompression\u001b[39;49m\u001b[38;5;124;43m\"\u001b[39;49m\u001b[43m,\u001b[49m\u001b[43m \u001b[49m\u001b[38;5;28;43;01mNone\u001b[39;49;00m\u001b[43m)\u001b[49m\u001b[43m,\u001b[49m\n\u001b[1;32m   1885\u001b[0m \u001b[43m    \u001b[49m\u001b[43mmemory_map\u001b[49m\u001b[38;5;241;43m=\u001b[39;49m\u001b[38;5;28;43mself\u001b[39;49m\u001b[38;5;241;43m.\u001b[39;49m\u001b[43moptions\u001b[49m\u001b[38;5;241;43m.\u001b[39;49m\u001b[43mget\u001b[49m\u001b[43m(\u001b[49m\u001b[38;5;124;43m\"\u001b[39;49m\u001b[38;5;124;43mmemory_map\u001b[39;49m\u001b[38;5;124;43m\"\u001b[39;49m\u001b[43m,\u001b[49m\u001b[43m \u001b[49m\u001b[38;5;28;43;01mFalse\u001b[39;49;00m\u001b[43m)\u001b[49m\u001b[43m,\u001b[49m\n\u001b[1;32m   1886\u001b[0m \u001b[43m    \u001b[49m\u001b[43mis_text\u001b[49m\u001b[38;5;241;43m=\u001b[39;49m\u001b[43mis_text\u001b[49m\u001b[43m,\u001b[49m\n\u001b[1;32m   1887\u001b[0m \u001b[43m    \u001b[49m\u001b[43merrors\u001b[49m\u001b[38;5;241;43m=\u001b[39;49m\u001b[38;5;28;43mself\u001b[39;49m\u001b[38;5;241;43m.\u001b[39;49m\u001b[43moptions\u001b[49m\u001b[38;5;241;43m.\u001b[39;49m\u001b[43mget\u001b[49m\u001b[43m(\u001b[49m\u001b[38;5;124;43m\"\u001b[39;49m\u001b[38;5;124;43mencoding_errors\u001b[39;49m\u001b[38;5;124;43m\"\u001b[39;49m\u001b[43m,\u001b[49m\u001b[43m \u001b[49m\u001b[38;5;124;43m\"\u001b[39;49m\u001b[38;5;124;43mstrict\u001b[39;49m\u001b[38;5;124;43m\"\u001b[39;49m\u001b[43m)\u001b[49m\u001b[43m,\u001b[49m\n\u001b[1;32m   1888\u001b[0m \u001b[43m    \u001b[49m\u001b[43mstorage_options\u001b[49m\u001b[38;5;241;43m=\u001b[39;49m\u001b[38;5;28;43mself\u001b[39;49m\u001b[38;5;241;43m.\u001b[39;49m\u001b[43moptions\u001b[49m\u001b[38;5;241;43m.\u001b[39;49m\u001b[43mget\u001b[49m\u001b[43m(\u001b[49m\u001b[38;5;124;43m\"\u001b[39;49m\u001b[38;5;124;43mstorage_options\u001b[39;49m\u001b[38;5;124;43m\"\u001b[39;49m\u001b[43m,\u001b[49m\u001b[43m \u001b[49m\u001b[38;5;28;43;01mNone\u001b[39;49;00m\u001b[43m)\u001b[49m\u001b[43m,\u001b[49m\n\u001b[1;32m   1889\u001b[0m \u001b[43m\u001b[49m\u001b[43m)\u001b[49m\n\u001b[1;32m   1890\u001b[0m \u001b[38;5;28;01massert\u001b[39;00m \u001b[38;5;28mself\u001b[39m\u001b[38;5;241m.\u001b[39mhandles \u001b[38;5;129;01mis\u001b[39;00m \u001b[38;5;129;01mnot\u001b[39;00m \u001b[38;5;28;01mNone\u001b[39;00m\n\u001b[1;32m   1891\u001b[0m f \u001b[38;5;241m=\u001b[39m \u001b[38;5;28mself\u001b[39m\u001b[38;5;241m.\u001b[39mhandles\u001b[38;5;241m.\u001b[39mhandle\n",
      "File \u001b[0;32m~/miniconda3/envs/vdbg/lib/python3.13/site-packages/pandas/io/common.py:873\u001b[0m, in \u001b[0;36mget_handle\u001b[0;34m(path_or_buf, mode, encoding, compression, memory_map, is_text, errors, storage_options)\u001b[0m\n\u001b[1;32m    868\u001b[0m \u001b[38;5;28;01melif\u001b[39;00m \u001b[38;5;28misinstance\u001b[39m(handle, \u001b[38;5;28mstr\u001b[39m):\n\u001b[1;32m    869\u001b[0m     \u001b[38;5;66;03m# Check whether the filename is to be opened in binary mode.\u001b[39;00m\n\u001b[1;32m    870\u001b[0m     \u001b[38;5;66;03m# Binary mode does not support 'encoding' and 'newline'.\u001b[39;00m\n\u001b[1;32m    871\u001b[0m     \u001b[38;5;28;01mif\u001b[39;00m ioargs\u001b[38;5;241m.\u001b[39mencoding \u001b[38;5;129;01mand\u001b[39;00m \u001b[38;5;124m\"\u001b[39m\u001b[38;5;124mb\u001b[39m\u001b[38;5;124m\"\u001b[39m \u001b[38;5;129;01mnot\u001b[39;00m \u001b[38;5;129;01min\u001b[39;00m ioargs\u001b[38;5;241m.\u001b[39mmode:\n\u001b[1;32m    872\u001b[0m         \u001b[38;5;66;03m# Encoding\u001b[39;00m\n\u001b[0;32m--> 873\u001b[0m         handle \u001b[38;5;241m=\u001b[39m \u001b[38;5;28;43mopen\u001b[39;49m\u001b[43m(\u001b[49m\n\u001b[1;32m    874\u001b[0m \u001b[43m            \u001b[49m\u001b[43mhandle\u001b[49m\u001b[43m,\u001b[49m\n\u001b[1;32m    875\u001b[0m \u001b[43m            \u001b[49m\u001b[43mioargs\u001b[49m\u001b[38;5;241;43m.\u001b[39;49m\u001b[43mmode\u001b[49m\u001b[43m,\u001b[49m\n\u001b[1;32m    876\u001b[0m \u001b[43m            \u001b[49m\u001b[43mencoding\u001b[49m\u001b[38;5;241;43m=\u001b[39;49m\u001b[43mioargs\u001b[49m\u001b[38;5;241;43m.\u001b[39;49m\u001b[43mencoding\u001b[49m\u001b[43m,\u001b[49m\n\u001b[1;32m    877\u001b[0m \u001b[43m            \u001b[49m\u001b[43merrors\u001b[49m\u001b[38;5;241;43m=\u001b[39;49m\u001b[43merrors\u001b[49m\u001b[43m,\u001b[49m\n\u001b[1;32m    878\u001b[0m \u001b[43m            \u001b[49m\u001b[43mnewline\u001b[49m\u001b[38;5;241;43m=\u001b[39;49m\u001b[38;5;124;43m\"\u001b[39;49m\u001b[38;5;124;43m\"\u001b[39;49m\u001b[43m,\u001b[49m\n\u001b[1;32m    879\u001b[0m \u001b[43m        \u001b[49m\u001b[43m)\u001b[49m\n\u001b[1;32m    880\u001b[0m     \u001b[38;5;28;01melse\u001b[39;00m:\n\u001b[1;32m    881\u001b[0m         \u001b[38;5;66;03m# Binary mode\u001b[39;00m\n\u001b[1;32m    882\u001b[0m         handle \u001b[38;5;241m=\u001b[39m \u001b[38;5;28mopen\u001b[39m(handle, ioargs\u001b[38;5;241m.\u001b[39mmode)\n",
      "\u001b[0;31mFileNotFoundError\u001b[0m: [Errno 2] No such file or directory: 'raw/datos_2024.csv'"
     ]
    }
   ],
   "source": [
    "# data = pd.read_pickle(\"vdbg_final.pkl\")\n",
    "\n",
    "data = pd.read_csv(\"../raw/datos_2024.csv\", index_col=0)"
   ]
  },
  {
   "cell_type": "code",
   "execution_count": null,
   "id": "597f73b1-4860-46c0-994d-b4e23d05726a",
   "metadata": {
    "slideshow": {
     "slide_type": "skip"
    },
    "tags": []
   },
   "outputs": [],
   "source": [
    "parentesco_lista = [\n",
    "    s for s in list(data.columns) if \"parentesco_\" in s or \"identificacion_\" in s\n",
    "]"
   ]
  },
  {
   "cell_type": "code",
   "execution_count": null,
   "id": "a2fe1f22-b67d-498d-bd46-469b68f4d185",
   "metadata": {
    "slideshow": {
     "slide_type": "skip"
    },
    "tags": []
   },
   "outputs": [],
   "source": [
    "data.loc[:, parentesco_lista] = data[parentesco_lista].astype(\"category\")"
   ]
  },
  {
   "cell_type": "code",
   "execution_count": null,
   "id": "43bb1321-40f9-42bc-b4f2-5ad82fddaf26",
   "metadata": {
    "slideshow": {
     "slide_type": "skip"
    },
    "tags": []
   },
   "outputs": [],
   "source": [
    "data.edad = data.edad.astype(\"category\").cat.set_categories(\n",
    "    [\"14-17\", \"18-25\", \"26-40\", \"41-60\", \"Más de 60\"], ordered=True\n",
    ")"
   ]
  },
  {
   "cell_type": "code",
   "execution_count": null,
   "id": "da3e770c-4b9d-4907-9df5-83fb104375ba",
   "metadata": {
    "slideshow": {
     "slide_type": "skip"
    },
    "tags": []
   },
   "outputs": [],
   "source": [
    "data.horas_internet = data.horas_internet.astype(\"category\").cat.set_categories(\n",
    "    [\n",
    "        \"No lo utilizo diariamente\",\n",
    "        \"Menos de 2 horas\",\n",
    "        \"2-4 horas\",\n",
    "        \"5-7 horas\",\n",
    "        \"Más de 7 horas\",\n",
    "    ],\n",
    "    ordered=True,\n",
    ")"
   ]
  },
  {
   "cell_type": "code",
   "execution_count": null,
   "id": "c43b8372-acac-4135-8901-fe479a32a809",
   "metadata": {},
   "outputs": [],
   "source": [
    "# data.info()"
   ]
  },
  {
   "cell_type": "markdown",
   "id": "4d276330-2f8e-4047-baae-a9728512bf24",
   "metadata": {},
   "source": [
    "# Reporte de resultados"
   ]
  },
  {
   "cell_type": "markdown",
   "id": "c7fb2a53-4584-4c64-83ad-8dc33f709c58",
   "metadata": {},
   "source": [
    "{{< pagebreak >}}"
   ]
  },
  {
   "cell_type": "markdown",
   "id": "2af216f2-afcd-4454-adc9-d90a38e18696",
   "metadata": {
    "tags": []
   },
   "source": [
    "Los resultados corresponden a 386 respuestas obtenidas. A continuación se muestra la cantidad de respuestas por sexo y género."
   ]
  },
  {
   "cell_type": "code",
   "execution_count": null,
   "id": "b69aa77c-25e3-431e-8a71-406d72c39854",
   "metadata": {
    "slideshow": {
     "slide_type": "skip"
    },
    "tags": []
   },
   "outputs": [],
   "source": [
    "tbl_sexo = data.sexo.value_counts()"
   ]
  },
  {
   "cell_type": "code",
   "execution_count": null,
   "id": "fb41acf8-fdbd-4b6e-b267-7391054f4411",
   "metadata": {
    "tags": []
   },
   "outputs": [],
   "source": [
    "fig = go.Figure(\n",
    "    data=[go.Pie(labels=tbl_sexo.index, values=tbl_sexo)],\n",
    ")\n",
    "fig.update_layout(\n",
    "    title_text=\"Respuestas por sexo\",\n",
    "    legend_title=\"Sexo\",\n",
    "    font=dict(family=\"Arial\", size=18, color=\"black\"),\n",
    "    width=1500,\n",
    "    height=900,\n",
    "    legend=dict(font=dict(size=18)),\n",
    ")\n",
    "fig.update_traces(\n",
    "    marker=dict(\n",
    "        colors=[\"rgb(149, 27, 129)\", \"rgb(57, 105, 172)\", \"rgb(7, 171, 157)\"],\n",
    "        line=dict(color=\"white\", width=1),\n",
    "    )\n",
    ")\n",
    "fig.show()\n",
    "fig.write_image(\"img/1.png\");"
   ]
  },
  {
   "cell_type": "code",
   "execution_count": null,
   "id": "29a865e7-d89e-46ca-af62-6933f375cc6d",
   "metadata": {},
   "outputs": [],
   "source": [
    "df_sexo_genero = data.pivot_table(\n",
    "    columns=\"sexo\", index=\"genero\", aggfunc={\"sexo\": \"count\"}\n",
    ").fillna(0)\n",
    "df_sexo_genero.index.name = \"Género\"\n",
    "df_sexo_genero.columns.names = [None, \"Sexo\"]\n",
    "df_sexo_genero.columns = df_sexo_genero.columns.droplevel(0)\n",
    "df_sexo_genero.astype(\"int\")"
   ]
  },
  {
   "cell_type": "code",
   "execution_count": null,
   "id": "3882479c-542b-413b-9a97-010c9b55ba8b",
   "metadata": {
    "slideshow": {
     "slide_type": "subslide"
    },
    "tags": []
   },
   "outputs": [],
   "source": [
    "df_sg = df_sexo_genero.stack(level=0)\n",
    "pd.DataFrame(round(df_sg / df_sg.sum() * 100, 2)).rename(columns={0: \"%\"})"
   ]
  },
  {
   "cell_type": "code",
   "execution_count": null,
   "id": "1832744a-680d-47b2-84b2-5ee92581d773",
   "metadata": {
    "slideshow": {
     "slide_type": "skip"
    },
    "tags": []
   },
   "outputs": [],
   "source": [
    "datos = data.query(\"sexo == 'Mujer'\")"
   ]
  },
  {
   "cell_type": "markdown",
   "id": "438722d2-1257-42d1-8b1f-2e91c2ce189d",
   "metadata": {},
   "source": [
    "{{< pagebreak >}}"
   ]
  },
  {
   "cell_type": "markdown",
   "id": "fad223eb-0377-4035-abed-852b6dcb840a",
   "metadata": {},
   "source": [
    "## Resultados para las mujeres"
   ]
  },
  {
   "cell_type": "markdown",
   "id": "785dcdba-c91b-4f2d-bb69-c802b336962e",
   "metadata": {},
   "source": [
    "{{< pagebreak >}}"
   ]
  },
  {
   "cell_type": "markdown",
   "id": "5b525aae-d58d-4b48-9762-7d427d4ec7d6",
   "metadata": {},
   "source": [
    "Los siguientes resultados corresponden a las **mujeres** que respondieron la encuesta."
   ]
  },
  {
   "cell_type": "markdown",
   "id": "81441e0a-0f61-4515-8de9-25dca641993b",
   "metadata": {},
   "source": [
    "### Respuestas por rangos de edad"
   ]
  },
  {
   "cell_type": "code",
   "execution_count": null,
   "id": "6a39a265-e1d8-4d46-8328-494508d5f8f7",
   "metadata": {
    "slideshow": {
     "slide_type": "skip"
    },
    "tags": []
   },
   "outputs": [],
   "source": [
    "tbl_edad = pd.DataFrame(datos.edad.value_counts()).sort_index()"
   ]
  },
  {
   "cell_type": "code",
   "execution_count": null,
   "id": "61d46189-2e8e-43d5-a26d-3359c932a865",
   "metadata": {
    "slideshow": {
     "slide_type": "skip"
    },
    "tags": []
   },
   "outputs": [],
   "source": [
    "tbl_edad_porcentaje = (\n",
    "    round(tbl_edad / tbl_edad.sum() * 100, 2)[\"count\"].astype(str) + \" %\"\n",
    ")"
   ]
  },
  {
   "cell_type": "code",
   "execution_count": null,
   "id": "91a8c5eb-36b0-48d3-a89a-9c2e60ec2bec",
   "metadata": {
    "tags": []
   },
   "outputs": [],
   "source": [
    "fig = px.bar(tbl_edad, text=tbl_edad_porcentaje)\n",
    "fig.update_layout(\n",
    "    title=\"Rangos de edades\",\n",
    "    xaxis_title=\"Edades\",\n",
    "    yaxis_title=\"% de mujeres\",\n",
    "    font=dict(\n",
    "        family=\"Arial\",\n",
    "        size=18,\n",
    "        color=\"black\",\n",
    "    ),\n",
    "    width=1500,\n",
    "    height=800,\n",
    ")\n",
    "fig.update_traces(\n",
    "    textfont_size=18,\n",
    "    textangle=0,\n",
    "    textposition=\"outside\",\n",
    "    cliponaxis=False,\n",
    "    showlegend=False,\n",
    "    marker_color=\"rgb(7, 171, 157)\",\n",
    "    marker_line_color=\"white\",\n",
    ")\n",
    "fig.show()\n",
    "fig.write_image(\"img/edades.png\")"
   ]
  },
  {
   "cell_type": "markdown",
   "id": "22b6fd74-896a-4e96-be5b-abe46eeec655",
   "metadata": {
    "jp-MarkdownHeadingCollapsed": true,
    "slideshow": {
     "slide_type": "slide"
    },
    "tags": []
   },
   "source": [
    "### Respuestas por estados"
   ]
  },
  {
   "cell_type": "code",
   "execution_count": null,
   "id": "d0c7a63a-7ec1-4890-93c2-a62d56ed238d",
   "metadata": {
    "tags": []
   },
   "outputs": [],
   "source": [
    "serie_estados = datos.estado.value_counts()"
   ]
  },
  {
   "cell_type": "code",
   "execution_count": null,
   "id": "5b6332ae-ab10-40f5-babe-021a17002cb2",
   "metadata": {},
   "outputs": [],
   "source": [
    "fp = \"./Estados_Venezuela/Estados_Venezuela.shp\"\n",
    "df_mapa = gpd.read_file(fp)"
   ]
  },
  {
   "cell_type": "code",
   "execution_count": null,
   "id": "cf87b61c-c846-41dc-ab6f-10c1d7897ea2",
   "metadata": {},
   "outputs": [],
   "source": [
    "ls = []\n",
    "for i in df_mapa.ESTADO:\n",
    "    if i in serie_estados.index:\n",
    "        ls.append(serie_estados.loc[i])\n",
    "    else:\n",
    "        ls.append(0)\n",
    "df_mapa[\"Mujeres\"] = ls"
   ]
  },
  {
   "cell_type": "code",
   "execution_count": null,
   "id": "66150412-36f1-41fc-ac3d-da67e8a11724",
   "metadata": {
    "tags": []
   },
   "outputs": [],
   "source": [
    "df_mapa.plot(\n",
    "    \"Mujeres\",\n",
    "    cmap=\"RdPu\",\n",
    "    edgecolor=\"black\",\n",
    "    categorical=True,\n",
    "    legend=True,\n",
    "    legend_kwds={\"loc\": \"center left\", \"bbox_to_anchor\": (1, 0.5), \"fmt\": \"{:.0f}\"},\n",
    ");"
   ]
  },
  {
   "cell_type": "code",
   "execution_count": null,
   "id": "e58b8978-bbf2-46b3-8a4b-1f8989dcfe6c",
   "metadata": {
    "tags": []
   },
   "outputs": [],
   "source": [
    "informacion_estados = pd.DataFrame(serie_estados.sort_index())\n",
    "informacion_estados[\"%\"] = round(\n",
    "    informacion_estados / informacion_estados.sum() * 100, 2\n",
    ")\n",
    "informacion_estados.rename_axis(index={\"estado\": \"Estado\"}, inplace=True)\n",
    "informacion_estados.rename(columns={\"count\": \"Nº de mujeres\"})"
   ]
  },
  {
   "cell_type": "markdown",
   "id": "efa88f3c-9ecb-4d37-9055-fb963d60b048",
   "metadata": {},
   "source": [
    "### Ocupaciones de las mujeres"
   ]
  },
  {
   "cell_type": "code",
   "execution_count": null,
   "id": "2dfd45d2-2807-47d8-87a5-64c9a0f38beb",
   "metadata": {
    "tags": []
   },
   "outputs": [],
   "source": [
    "for i in [\n",
    "    \"Defensora de DDHH de las mujeres\",\n",
    "    \"Trabajo social \",\n",
    "    \"Trabajador social \",\n",
    "    \"Trabajadora Social\",\n",
    "    \"Trabajadora Social \",\n",
    "    \"Trabajadora social. Actriz militante afrofemisnita\",\n",
    "    \"Trabajadora humanitaria\",\n",
    "    \"Promotora Social \",\n",
    "    \"Trabajadora Humanitaria\",\n",
    "    \"Trabajadora de organización internacional \",\n",
    "    \"Gestora de casos en VBG Y TDP \",\n",
    "    \"El feminismo \",\n",
    "    \"Defensora de Mujeres \",\n",
    "    \"Atención a víctimas de VBG\" \"Defensora de DDHH de las mujeres\",\n",
    "    \"Atención a víctimas de VBG\",\n",
    "    \"El feminismo \",\n",
    "    \"Trabajando social ) Ayuda humanista\",\n",
    "]:\n",
    "    datos.loc[datos[\"ocupacionO\"] == i, \"ocupacion\"] = \"Trabajo social\""
   ]
  },
  {
   "cell_type": "code",
   "execution_count": null,
   "id": "ca115322-ef7b-49fa-95ea-b2d706123f98",
   "metadata": {
    "tags": []
   },
   "outputs": [],
   "source": [
    "for i in [\n",
    "    \"Del hogar \",\n",
    "    \"Crianza y cuidado del hogar \",\n",
    "    \"Ama de casa\",\n",
    "    \"Trabajo on line. Trabajadora del hogar\",\n",
    "]:\n",
    "    datos.loc[datos[\"ocupacionO\"] == i, \"ocupacion\"] = \"Ama de casa\""
   ]
  },
  {
   "cell_type": "code",
   "execution_count": null,
   "id": "5287d4d0-d315-4043-8464-2ccb3ddbd165",
   "metadata": {
    "tags": []
   },
   "outputs": [],
   "source": [
    "datos.loc[datos[\"ocupacionO\"] == \"Abogado\", \"ocupacion\"] = \"Abogado(a)\""
   ]
  },
  {
   "cell_type": "code",
   "execution_count": null,
   "id": "06eb412f-4115-4890-b75b-411b95958e8d",
   "metadata": {
    "tags": []
   },
   "outputs": [],
   "source": [
    "datos.loc[datos[\"ocupacionO\"] == \"Psicologa \", \"ocupacion\"] = \"Psicólogo(a)\""
   ]
  },
  {
   "cell_type": "markdown",
   "id": "f1ef5940-d68b-4ce8-a9b3-29afe6b9a48d",
   "metadata": {},
   "source": [
    "### Ocupaciones más comunes"
   ]
  },
  {
   "cell_type": "code",
   "execution_count": null,
   "id": "dc47a347-c1e6-4844-927e-184e8ae36835",
   "metadata": {},
   "outputs": [],
   "source": [
    "df_ocupaciones = (\n",
    "    pd.DataFrame(datos.ocupacion.value_counts())\n",
    "    .rename_axis(index={\"ocupacion\": \"Ocupación\"})\n",
    "    .rename(columns={\"count\": \"Nº de mujeres\"})\n",
    ")\n",
    "df_ocupaciones[\"%\"] = round(df_ocupaciones / len(datos) * 100, 2)\n",
    "df_ocupaciones.drop(\"Otra\")[:10]"
   ]
  },
  {
   "cell_type": "markdown",
   "id": "9f35a8a7-1a4e-47c0-92cd-db751f360b6d",
   "metadata": {},
   "source": [
    "En el caso de \"otra\" hay 34 respuestas, que se dividen de la siguiente manera:"
   ]
  },
  {
   "cell_type": "code",
   "execution_count": null,
   "id": "dd90f2ed-70ca-4681-bd70-6538e7355312",
   "metadata": {},
   "outputs": [],
   "source": [
    "pd.DataFrame(datos.query('ocupacion == \"Otra\"').ocupacionO.value_counts()).rename_axis(\n",
    "    index={\"ocupacionO\": \"Ocupación\"}\n",
    ").rename(columns={\"count\": \"Nº de mujeres\"})"
   ]
  },
  {
   "cell_type": "markdown",
   "id": "1af527e7-8b26-43f6-a845-b07b59549589",
   "metadata": {},
   "source": [
    "### Horas de uso de internet"
   ]
  },
  {
   "cell_type": "code",
   "execution_count": null,
   "id": "2b5465d2-0867-4895-82c1-aba37e939e1c",
   "metadata": {},
   "outputs": [],
   "source": [
    "tbl_uso_internet = pd.DataFrame(datos.horas_internet.value_counts().sort_index())"
   ]
  },
  {
   "cell_type": "code",
   "execution_count": null,
   "id": "c27b3648-3d17-4960-914b-1fa6873a2555",
   "metadata": {
    "tags": []
   },
   "outputs": [],
   "source": [
    "tbl_uso_porcentaje = (\n",
    "    round(tbl_uso_internet / tbl_uso_internet.sum() * 100, 2)[\"count\"].astype(str)\n",
    "    + \" %\"\n",
    ")"
   ]
  },
  {
   "cell_type": "code",
   "execution_count": null,
   "id": "8107d429-39a1-4072-bbd3-fa473927c71e",
   "metadata": {
    "tags": []
   },
   "outputs": [],
   "source": [
    "fig = px.bar(tbl_uso_internet, text=tbl_uso_porcentaje)\n",
    "fig.update_layout(\n",
    "    title=\"Uso de internet por rangos de tiempo\",\n",
    "    xaxis_title=\"Tiempo\",\n",
    "    yaxis_title=\"% de mujeres\",\n",
    "    font=dict(\n",
    "        family=\"Arial\",\n",
    "        size=18,\n",
    "        color=\"black\",\n",
    "    ),\n",
    "    width=1500,\n",
    "    height=800,\n",
    ")\n",
    "fig.update_traces(\n",
    "    textfont_size=18,\n",
    "    textangle=0,\n",
    "    textposition=\"outside\",\n",
    "    cliponaxis=False,\n",
    "    showlegend=False,\n",
    "    marker_color=\"rgb(149, 27, 129)\",\n",
    "    marker_line_color=\"white\",\n",
    ")\n",
    "fig.show()\n",
    "fig.write_image(\"img/uso_internet.png\")"
   ]
  },
  {
   "cell_type": "markdown",
   "id": "67b5da5e-9bb2-4f19-9244-90b69dd11037",
   "metadata": {},
   "source": [
    "### Principales usos de internet"
   ]
  },
  {
   "cell_type": "code",
   "execution_count": null,
   "id": "968631f9-7180-4585-ba56-a9f766f451e9",
   "metadata": {
    "tags": []
   },
   "outputs": [],
   "source": [
    "tbl_usos = pd.DataFrame(\n",
    "    datos[\n",
    "        [\n",
    "            \"uso_familia\",\n",
    "            \"uso_trabajo\",\n",
    "            \"uso_venta\",\n",
    "            \"uso_distraer\",\n",
    "            \"uso_estudiar\",\n",
    "            \"uso_banco\",\n",
    "            \"uso_otra\",\n",
    "            \"uso_peli\",\n",
    "            \"uso_noticias\",\n",
    "        ]\n",
    "    ].sum()\n",
    ")"
   ]
  },
  {
   "cell_type": "code",
   "execution_count": null,
   "id": "d4be2dd5-db91-405b-8f0e-d42d5ab4c697",
   "metadata": {
    "tags": []
   },
   "outputs": [],
   "source": [
    "tbl_usos.index = [\n",
    "    \"Comunicarme con familiares y amigos/as\",\n",
    "    \"Trabajar\",\n",
    "    \"Vender productos\",\n",
    "    \"Distraerme\",\n",
    "    \"Estudiar o investigar\",\n",
    "    \"Realizar operaciones bancarias\",\n",
    "    \"Otras actividades\",\n",
    "    \"Ver películas y/o series\",\n",
    "    \"Ver noticias\",\n",
    "]"
   ]
  },
  {
   "cell_type": "code",
   "execution_count": null,
   "id": "e8781867-e321-453e-8400-61d100672e53",
   "metadata": {
    "tags": []
   },
   "outputs": [],
   "source": [
    "tbl_usos_porcentaje = pd.DataFrame(\n",
    "    round(tbl_usos / tbl_usos.sum() * 100, 2)[0].astype(str) + \" %\"\n",
    ")"
   ]
  },
  {
   "cell_type": "code",
   "execution_count": null,
   "id": "3713c683-9874-4206-b317-a9260a4d8bcb",
   "metadata": {
    "tags": []
   },
   "outputs": [],
   "source": [
    "tbl_usos_concat = pd.concat(\n",
    "    [tbl_usos, tbl_usos_porcentaje.rename(columns={0: \"p\"})], axis=1\n",
    ").sort_values(0)"
   ]
  },
  {
   "cell_type": "code",
   "execution_count": null,
   "id": "042e19dc-acdb-44f9-a906-b866af3bccde",
   "metadata": {
    "tags": []
   },
   "outputs": [],
   "source": [
    "fig = px.bar(tbl_usos_concat[0], text=tbl_usos_concat.p)\n",
    "fig.update_layout(\n",
    "    title=\"Usos de internet\",\n",
    "    xaxis_title=\"Actividades\",\n",
    "    yaxis_title=\"% de mujeres\",\n",
    "    font=dict(\n",
    "        family=\"Arial\",\n",
    "        size=18,\n",
    "        color=\"black\",\n",
    "    ),\n",
    "    width=1500,\n",
    "    height=800,\n",
    ")\n",
    "fig.update_traces(\n",
    "    textfont_size=18,\n",
    "    textangle=0,\n",
    "    textposition=\"outside\",\n",
    "    cliponaxis=False,\n",
    "    showlegend=False,\n",
    "    marker_color=\"rgb(149, 27, 129)\",\n",
    "    marker_line_color=\"white\",\n",
    ")\n",
    "fig.show()\n",
    "fig.write_image(\"img/usos_internet.png\")"
   ]
  },
  {
   "cell_type": "markdown",
   "id": "5a871c48-8abb-4c68-ba8d-f32d14e2e7e6",
   "metadata": {},
   "source": [
    "En el caso de la respuesta \"Otras actividades\", se desglosa de la siguiente manera:"
   ]
  },
  {
   "cell_type": "code",
   "execution_count": null,
   "id": "e48e09ce-e21c-4164-947f-edb0910782d5",
   "metadata": {
    "tags": []
   },
   "outputs": [],
   "source": [
    "pd.DataFrame(datos.uso_otraR.value_counts()).rename_axis(\n",
    "    index={\"uso_otraR\": \"Otros usos de internet\"}\n",
    ").rename(columns={\"count\": \"Nº de mujeres\"})"
   ]
  },
  {
   "cell_type": "markdown",
   "id": "5694abed-3aad-4362-ba28-0d1751f9f0d9",
   "metadata": {},
   "source": [
    "### Aumento de uso de internet por Covid19"
   ]
  },
  {
   "cell_type": "code",
   "execution_count": null,
   "id": "2967b032-2906-4377-a4e8-0c244444c1e2",
   "metadata": {
    "tags": []
   },
   "outputs": [],
   "source": [
    "tbl_covid_aumento = datos.covid_aumento.value_counts()"
   ]
  },
  {
   "cell_type": "code",
   "execution_count": null,
   "id": "726df6a9-c5f8-4078-84fa-171660ea1800",
   "metadata": {
    "tags": []
   },
   "outputs": [],
   "source": [
    "fig = go.Figure(data=[go.Pie(labels=tbl_covid_aumento.index, values=tbl_covid_aumento)])\n",
    "fig.update_layout(\n",
    "    title_text=\"Aumento del uso de internet\",\n",
    "    legend_title=\"¿Has aumentado tu tiempo de <br> conexión a internet?\",\n",
    "    font=dict(family=\"Arial\", size=18, color=\"black\"),\n",
    "    width=1500,\n",
    "    height=1000,\n",
    "    legend=dict(font=dict(size=18)),\n",
    ")\n",
    "fig.update_traces(\n",
    "    marker=dict(\n",
    "        colors=[\"rgb(149, 27, 129)\", \"rgb(57, 105, 172)\", \"rgb(7, 171, 157)\"],\n",
    "        line=dict(color=\"white\", width=1),\n",
    "    )\n",
    ")\n",
    "fig.show()\n",
    "fig.write_image(\"img/covid.png\")"
   ]
  },
  {
   "cell_type": "markdown",
   "id": "711f7e0c-de92-4856-9fa6-9ec2574efda4",
   "metadata": {},
   "source": [
    "### Uso de redes sociales/aplicaciones"
   ]
  },
  {
   "cell_type": "code",
   "execution_count": null,
   "id": "427db53a-9531-4bb6-b1e3-fac338e59451",
   "metadata": {
    "tags": []
   },
   "outputs": [],
   "source": [
    "datos.loc[:, \"telegram\"] = datos.telegram.apply(str.strip)"
   ]
  },
  {
   "cell_type": "code",
   "execution_count": null,
   "id": "7d5fa801-8222-4241-b45a-e6277a486bbc",
   "metadata": {
    "tags": []
   },
   "outputs": [],
   "source": [
    "redes = [\n",
    "    \"facebook\",\n",
    "    \"twitter\",\n",
    "    \"instagram\",\n",
    "    \"tiktok\",\n",
    "    \"discord\",\n",
    "    \"slack\",\n",
    "    \"citas\",\n",
    "    \"videojuegos\",\n",
    "    \"whatsapp\",\n",
    "    \"telegram\",\n",
    "    \"reddit\",\n",
    "    \"estudio\",\n",
    "    \"linkedin\",\n",
    "    \"twich\",\n",
    "    \"youtube\",\n",
    "    \"pinterest\",\n",
    "    \"flickr\",\n",
    "]\n",
    "\n",
    "dicts = {}\n",
    "for i in redes:\n",
    "    dicts[i.capitalize()] = (\n",
    "        datos[[i]].value_counts().reset_index().set_index(i)[\"count\"]\n",
    "    )"
   ]
  },
  {
   "cell_type": "code",
   "execution_count": null,
   "id": "1924f7d4-aca9-41e3-be02-c868f2f76c47",
   "metadata": {
    "tags": []
   },
   "outputs": [],
   "source": [
    "tbl_aplicaciones = round(\n",
    "    (\n",
    "        pd.DataFrame.from_dict(dicts, orient=\"index\").fillna(0)[\n",
    "            [\n",
    "                \"Menos de 2 horas\",\n",
    "                \"2-4 horas\",\n",
    "                \"5-7 horas\",\n",
    "                \"Más de 7 horas\",\n",
    "                \"No la utilizo\",\n",
    "            ]\n",
    "        ]\n",
    "        / len(datos)\n",
    "    )\n",
    "    * 100,\n",
    "    2,\n",
    ")"
   ]
  },
  {
   "cell_type": "code",
   "execution_count": null,
   "id": "085dc112-90c1-47d4-ae78-e62106807a81",
   "metadata": {
    "tags": []
   },
   "outputs": [],
   "source": [
    "fig = px.bar(\n",
    "    tbl_aplicaciones.sort_values(\"No la utilizo\"),\n",
    "    orientation=\"h\",\n",
    "    color_discrete_sequence=px.colors.qualitative.Bold[:4]\n",
    "    + [px.colors.qualitative.Prism_r[0]],\n",
    "    width=1500,\n",
    "    height=800,\n",
    ")\n",
    "fig.update_layout(\n",
    "    title=\"Uso de aplicaciones/redes sociales\",\n",
    "    xaxis_title=\"% de mujeres\",\n",
    "    yaxis_title=\"Aplicación/red social\",\n",
    "    legend_title=\"Horas de uso diario\",\n",
    "    font=dict(\n",
    "        family=\"Arial\",\n",
    "        size=18,\n",
    "        color=\"black\",\n",
    "    ),\n",
    ")\n",
    "\n",
    "fig.show()\n",
    "fig.write_image(\"img/uso_apps.png\")"
   ]
  },
  {
   "cell_type": "markdown",
   "id": "7483fc26-bda0-4be7-bf06-6f637507020e",
   "metadata": {},
   "source": [
    "### Incidencia de violencias"
   ]
  },
  {
   "cell_type": "code",
   "execution_count": null,
   "id": "1ac9b75f-08ea-4bd3-a34d-b0718b88632b",
   "metadata": {
    "tags": []
   },
   "outputs": [],
   "source": [
    "violencias_nombres = {\n",
    "    \"identidad\": \"Duplicación de identidad\",\n",
    "    \"ciberacoso\": \"Ciberacoso\",\n",
    "    \"doxxing\": \"Doxxing\",\n",
    "    \"mobbing\": \"Mobbing\",\n",
    "    \"ciberdifamacion\": \"Ciberdifamación\",\n",
    "    \"stalking\": \"Cibervigilancia (stalking)\",\n",
    "    \"ciberextorsion\": \"Ciberextorsión\",\n",
    "    \"grooming\": \"Grooming\",\n",
    "    \"phishing_vs\": \"Phishing/Vishing/Smishing\",\n",
    "    \"trata\": \"Trata de personas en línea\",\n",
    "    \"explotacion\": \"Captación con fines de explotación sexual\",\n",
    "    \"exclusion\": \"Exclusión digital\",\n",
    "    \"cyberflashing\": \"Cyberflashing\",\n",
    "    \"deepfake\": \"Deepfake\",\n",
    "    \"clonacion\": \"Clonación de aplicaciones\",\n",
    "}"
   ]
  },
  {
   "cell_type": "code",
   "execution_count": null,
   "id": "a4e8d4c4-10fe-4042-9b23-867c525563b4",
   "metadata": {
    "tags": []
   },
   "outputs": [],
   "source": [
    "violencias = list(violencias_nombres.keys())"
   ]
  },
  {
   "cell_type": "code",
   "execution_count": null,
   "id": "79194908-f9ff-4673-bae7-eb931262af07",
   "metadata": {
    "tags": []
   },
   "outputs": [],
   "source": [
    "dic = {}\n",
    "for i in violencias:\n",
    "    datos.loc[:, i] = datos[i].apply(str.strip).apply(str.capitalize)\n",
    "    dic[violencias_nombres[i]] = datos[[i]].value_counts().sort_index()"
   ]
  },
  {
   "cell_type": "code",
   "execution_count": null,
   "id": "f17350ae-a615-4ca1-aae1-5627b26339b1",
   "metadata": {
    "tags": []
   },
   "outputs": [],
   "source": [
    "tbl_sufrio = pd.DataFrame.from_dict(dic, orient=\"index\").fillna(0)"
   ]
  },
  {
   "cell_type": "code",
   "execution_count": null,
   "id": "381c1806-5a20-4a27-8fdb-096b1ea7e145",
   "metadata": {},
   "outputs": [],
   "source": [
    "tbl_sufrio"
   ]
  },
  {
   "cell_type": "code",
   "execution_count": null,
   "id": "768a6797-2ea5-4520-b065-21eb2202bb54",
   "metadata": {
    "tags": []
   },
   "outputs": [],
   "source": [
    "tbl_sufrio = tbl_sufrio.set_axis([\"No\", \"Sí\"], axis=1)"
   ]
  },
  {
   "cell_type": "code",
   "execution_count": null,
   "id": "97569f49-f420-4b4b-9d03-e164be594e4c",
   "metadata": {
    "tags": []
   },
   "outputs": [],
   "source": [
    "sufrio_porcentaje = round(tbl_sufrio / len(datos) * 100, 2)"
   ]
  },
  {
   "cell_type": "code",
   "execution_count": null,
   "id": "89275c86-ddf5-433d-8951-a9505bd4d48b",
   "metadata": {
    "tags": []
   },
   "outputs": [],
   "source": [
    "fig = px.bar(\n",
    "    sufrio_porcentaje[[\"Sí\", \"No\"]].sort_values(\"Sí\"),\n",
    "    orientation=\"h\",\n",
    "    text_auto=True,\n",
    "    color_discrete_map={\"Sí\": \"rgb(149, 27, 129)\", \"No\": \"rgb(57, 105, 172)\"},\n",
    "    width=1500,\n",
    "    height=800,\n",
    ")\n",
    "fig.update_layout(\n",
    "    title=\"Incidencia de violencias\",\n",
    "    yaxis_title=\"Violencia\",\n",
    "    xaxis_title=\"% de mujeres\",\n",
    "    legend_title=\"¿Sufrió la violencia?\",\n",
    "    font=dict(\n",
    "        family=\"Arial\",\n",
    "        size=18,\n",
    "        color=\"black\",\n",
    "    ),\n",
    ")\n",
    "fig.update_traces(\n",
    "    textfont_size=18,\n",
    "    textangle=0,\n",
    "    cliponaxis=False,\n",
    "    marker_line_color=\"white\",\n",
    "    texttemplate=\"%{value: 4} %\",\n",
    ")\n",
    "fig.show()\n",
    "fig.write_image(\"img/incidencia.png\")"
   ]
  },
  {
   "cell_type": "code",
   "execution_count": null,
   "id": "a77e211e-b971-4728-8fe1-b30f93adc887",
   "metadata": {
    "tags": []
   },
   "outputs": [],
   "source": [
    "for i in violencias:\n",
    "    datos.loc[:, i].replace(\n",
    "        [\n",
    "            \"No\",\n",
    "            \"Sí\",\n",
    "        ],\n",
    "        [0, 1],\n",
    "        inplace=True,\n",
    "    )"
   ]
  },
  {
   "cell_type": "code",
   "execution_count": null,
   "id": "e421d356-4edd-465f-9009-35954b5915c5",
   "metadata": {
    "tags": []
   },
   "outputs": [],
   "source": [
    "tbl_numero_violencia = pd.DataFrame(\n",
    "    datos[violencias].T.sum().value_counts()\n",
    ").sort_index()\n",
    "tbl_violencia_porcentaje = round(tbl_numero_violencia / len(datos) * 100, 2)"
   ]
  },
  {
   "cell_type": "code",
   "execution_count": null,
   "id": "6fc13812-215c-4ce4-8543-49c6f52fc810",
   "metadata": {
    "tags": []
   },
   "outputs": [],
   "source": [
    "tbl_violencia_porcentaje.index = tbl_violencia_porcentaje.index.astype(\"string\")"
   ]
  },
  {
   "cell_type": "code",
   "execution_count": null,
   "id": "eb3c5bc0-e266-4a6c-be4f-0b125b8c5cf6",
   "metadata": {
    "tags": []
   },
   "outputs": [],
   "source": [
    "fig = px.bar(\n",
    "    tbl_violencia_porcentaje,\n",
    "    text_auto=True,\n",
    ")\n",
    "fig.update_layout(\n",
    "    title=\"Cantidad de violencias sufridas\",\n",
    "    xaxis_title=\"Nº de violencias sufridas\",\n",
    "    yaxis_title=\"% de mujeres\",\n",
    "    font=dict(\n",
    "        family=\"Arial\",\n",
    "        size=18,\n",
    "        color=\"black\",\n",
    "    ),\n",
    "    width=1500,\n",
    "    height=800,\n",
    ")\n",
    "fig.update_traces(\n",
    "    textfont_size=18,\n",
    "    textangle=0,\n",
    "    textposition=\"outside\",\n",
    "    cliponaxis=False,\n",
    "    showlegend=False,\n",
    "    marker_line_color=\"white\",\n",
    "    marker_color=\"rgb(149, 27, 129)\",\n",
    "    texttemplate=\"%{value}%\",\n",
    ")\n",
    "fig.show()\n",
    "fig.write_image(\"img/numero_violencia.png\")"
   ]
  },
  {
   "cell_type": "code",
   "execution_count": null,
   "id": "4ada6c6b-78ee-4e3b-8d60-ba8a818cea4e",
   "metadata": {
    "tags": []
   },
   "outputs": [],
   "source": [
    "dic_violencias = {}\n",
    "for i in violencias:\n",
    "    dic_violencias[i] = [s for s in list(datos.columns)[:-32] if i in s]"
   ]
  },
  {
   "cell_type": "markdown",
   "id": "d3513fb1-998a-4c90-8e15-103f519af710",
   "metadata": {},
   "source": [
    "#### Resultados para los casos de duplicación de identidad"
   ]
  },
  {
   "cell_type": "code",
   "execution_count": null,
   "id": "e09985c7-93c2-49b3-a7cf-5c2f83219aeb",
   "metadata": {
    "tags": []
   },
   "outputs": [],
   "source": [
    "tbl_identidad = datos.query(\"identidad == 1\")[dic_violencias[\"identidad\"]]"
   ]
  },
  {
   "cell_type": "markdown",
   "id": "1180be24-3f58-4d03-9351-d230c3781640",
   "metadata": {
    "tags": []
   },
   "source": [
    "Se han reportado 43 casos de duplicación de identidad."
   ]
  },
  {
   "cell_type": "code",
   "execution_count": null,
   "id": "b686123b",
   "metadata": {
    "tags": []
   },
   "outputs": [],
   "source": [
    "frecuencia_identidad = fg.grafico_frecuencia(tbl_identidad)"
   ]
  },
  {
   "cell_type": "code",
   "execution_count": null,
   "id": "6ac26deb-980e-4447-8087-16986378492c",
   "metadata": {
    "tags": []
   },
   "outputs": [],
   "source": [
    "temporalidad_identidad = fg.grafico_temporalidad(tbl_identidad)"
   ]
  },
  {
   "cell_type": "code",
   "execution_count": null,
   "id": "ccf15b38-c6b8-4c4d-89ae-29666f978f98",
   "metadata": {},
   "outputs": [],
   "source": [
    "tbl_identidad.columns"
   ]
  },
  {
   "cell_type": "code",
   "execution_count": null,
   "id": "f1bdc1ce-7be9-4829-ad3f-dd8f72a6525c",
   "metadata": {
    "tags": []
   },
   "outputs": [],
   "source": [
    "edad_identidad = fg.grafico_edad(tbl_identidad)"
   ]
  },
  {
   "cell_type": "code",
   "execution_count": null,
   "id": "c09916d6-921b-4921-b42c-58865a3d698b",
   "metadata": {
    "tags": []
   },
   "outputs": [],
   "source": [
    "parentesco_identidad = fg.grafico_parentesco(tbl_identidad)"
   ]
  },
  {
   "cell_type": "code",
   "execution_count": null,
   "id": "d7ca6737-ebc3-4757-8051-947f247c58b8",
   "metadata": {
    "tags": []
   },
   "outputs": [],
   "source": [
    "sexo_identidad = fg.grafico_sexo_parentesco(tbl_identidad)"
   ]
  },
  {
   "cell_type": "code",
   "execution_count": null,
   "id": "6f195143-e775-4976-a224-41573c748a1f",
   "metadata": {
    "scrolled": true,
    "tags": []
   },
   "outputs": [],
   "source": [
    "medios_identidad = fg.grafico_medios(tbl_identidad)[2]"
   ]
  },
  {
   "cell_type": "code",
   "execution_count": null,
   "id": "0a04e2ef-9617-43f8-840b-dd078d809842",
   "metadata": {
    "tags": []
   },
   "outputs": [],
   "source": [
    "pd.DataFrame(tbl_identidad.otraR_identidad.value_counts()).rename_axis(\n",
    "    index={\"otraR_identidad\": \"Otras aplicaciones o redes sociales\"}\n",
    ").rename(columns={\"count\": \"N° de Mujeres\"})"
   ]
  },
  {
   "cell_type": "markdown",
   "id": "95fbadbf-9d56-4c6e-88f9-d90e0115818c",
   "metadata": {
    "tags": []
   },
   "source": [
    "#### Resultados para los casos de ciberacoso"
   ]
  },
  {
   "cell_type": "code",
   "execution_count": null,
   "id": "742f0cd2-03b2-45e8-9a32-308b4a37f6e2",
   "metadata": {
    "tags": []
   },
   "outputs": [],
   "source": [
    "tbl_ciberacoso = datos.query(\"ciberacoso == 1\")[dic_violencias[\"ciberacoso\"]]"
   ]
  },
  {
   "cell_type": "markdown",
   "id": "a420bf84-0973-4feb-9f3b-2c7fac768dbe",
   "metadata": {},
   "source": [
    "Se han reportado 135 casos de ciberacoso."
   ]
  },
  {
   "cell_type": "code",
   "execution_count": null,
   "id": "fb3e50ec-bb02-4f0b-91a1-027d671b0640",
   "metadata": {
    "tags": []
   },
   "outputs": [],
   "source": [
    "frecuencia_ciberacoso = fg.grafico_frecuencia(tbl_ciberacoso)"
   ]
  },
  {
   "cell_type": "code",
   "execution_count": null,
   "id": "505b53cf-934e-4d53-97a0-924062636794",
   "metadata": {
    "tags": []
   },
   "outputs": [],
   "source": [
    "temporalidad_ciberacoso = fg.grafico_temporalidad(tbl_ciberacoso)"
   ]
  },
  {
   "cell_type": "code",
   "execution_count": null,
   "id": "6a0c1954-2710-41da-b198-71f216c73b6e",
   "metadata": {
    "tags": []
   },
   "outputs": [],
   "source": [
    "edad_ciberacoso = fg.grafico_edad(tbl_ciberacoso)"
   ]
  },
  {
   "cell_type": "code",
   "execution_count": null,
   "id": "dcaddf97-c66e-4c79-89da-1a7f70794406",
   "metadata": {
    "tags": []
   },
   "outputs": [],
   "source": [
    "parentesco_ciberacoso = fg.grafico_parentesco(tbl_ciberacoso)"
   ]
  },
  {
   "cell_type": "code",
   "execution_count": null,
   "id": "d1d2fce5",
   "metadata": {
    "tags": []
   },
   "outputs": [],
   "source": [
    "sexo_ciberacoso = fg.grafico_sexo_parentesco(tbl_ciberacoso)"
   ]
  },
  {
   "cell_type": "code",
   "execution_count": null,
   "id": "1dfb1012-5000-4676-8282-e1f580b8631a",
   "metadata": {
    "tags": []
   },
   "outputs": [],
   "source": [
    "medios_ciberacoso = fg.grafico_medios(tbl_ciberacoso)[2]"
   ]
  },
  {
   "cell_type": "code",
   "execution_count": null,
   "id": "d8e0cee6-de5b-4364-9ea9-f26adfa2482f",
   "metadata": {
    "tags": []
   },
   "outputs": [],
   "source": [
    "pd.DataFrame(tbl_ciberacoso.otraR_ciberacoso.value_counts()).rename_axis(\n",
    "    index={\"otraR_ciberacoso\": \"Otras aplicaciones o redes sociales\"}\n",
    ").rename(columns={\"count\": \"N° de mujeres\"})"
   ]
  },
  {
   "cell_type": "markdown",
   "id": "56ce5fbe-07b2-49b8-acb4-612c1965a8af",
   "metadata": {},
   "source": [
    "#### Resultados para los casos doxxing"
   ]
  },
  {
   "cell_type": "code",
   "execution_count": null,
   "id": "7c8703f3-447e-434e-9d06-d049fecab0c7",
   "metadata": {
    "tags": []
   },
   "outputs": [],
   "source": [
    "tbl_doxxing = datos.query(\"doxxing == 1\")[dic_violencias[\"doxxing\"]]"
   ]
  },
  {
   "cell_type": "markdown",
   "id": "f170c94e-d41f-4b91-afe2-050833d1f7ce",
   "metadata": {},
   "source": [
    "Se han reportado 45 casos de doxxing."
   ]
  },
  {
   "cell_type": "code",
   "execution_count": null,
   "id": "b9635e48-ab19-43e6-91e9-e213a72b3071",
   "metadata": {
    "tags": []
   },
   "outputs": [],
   "source": [
    "frecuencia_doxxing = fg.grafico_frecuencia(tbl_doxxing)"
   ]
  },
  {
   "cell_type": "code",
   "execution_count": null,
   "id": "46eae258-a49b-47f9-910b-a2ab162bf399",
   "metadata": {
    "tags": []
   },
   "outputs": [],
   "source": [
    "temporalidad_doxxing = fg.grafico_temporalidad(tbl_doxxing)"
   ]
  },
  {
   "cell_type": "code",
   "execution_count": null,
   "id": "56e5653c-547e-4d8b-8ddf-1eb6fbbd052f",
   "metadata": {},
   "outputs": [],
   "source": [
    "edad_doxxing = fg.grafico_edad(tbl_doxxing)"
   ]
  },
  {
   "cell_type": "code",
   "execution_count": null,
   "id": "88afb4c5-a72c-471d-a8cd-1e1e32b92aea",
   "metadata": {
    "tags": []
   },
   "outputs": [],
   "source": [
    "parentesco_doxxing = fg.grafico_parentesco(tbl_doxxing)"
   ]
  },
  {
   "cell_type": "code",
   "execution_count": null,
   "id": "036085bd",
   "metadata": {
    "tags": []
   },
   "outputs": [],
   "source": [
    "sexo_doxxing = fg.grafico_sexo_parentesco(tbl_doxxing)"
   ]
  },
  {
   "cell_type": "code",
   "execution_count": null,
   "id": "3e672bea-a431-433c-837a-cfc5e0866c77",
   "metadata": {
    "tags": []
   },
   "outputs": [],
   "source": [
    "medios_doxxing = fg.grafico_medios(tbl_doxxing)[2]"
   ]
  },
  {
   "cell_type": "code",
   "execution_count": null,
   "id": "d829347e-5657-4a5e-a9c2-e583070af1fe",
   "metadata": {
    "tags": []
   },
   "outputs": [],
   "source": [
    "pd.DataFrame(tbl_doxxing.otraR_doxxing.value_counts()).rename_axis(\n",
    "    index={\"otraR_doxxing\": \"Otras aplicaciones o redes sociales\"}\n",
    ").rename(columns={\"count\": \"N° de mujeres\"})"
   ]
  },
  {
   "cell_type": "markdown",
   "id": "32f76d21-e1dd-4297-be79-f4ded7f2c460",
   "metadata": {},
   "source": [
    "#### Resultados para los casos de mobbing"
   ]
  },
  {
   "cell_type": "code",
   "execution_count": null,
   "id": "4efdd68a-a328-426a-b410-ebbdf1df5c3a",
   "metadata": {
    "tags": []
   },
   "outputs": [],
   "source": [
    "tbl_mobbing = datos.query(\"mobbing == 1\")[dic_violencias[\"mobbing\"]]"
   ]
  },
  {
   "cell_type": "markdown",
   "id": "f6b7a928-78c5-47f7-ae61-eae502ac41e2",
   "metadata": {},
   "source": [
    "Se han reportado 58 casos de mobbing."
   ]
  },
  {
   "cell_type": "code",
   "execution_count": null,
   "id": "246ae876-1516-48e5-b1f5-2edd84d0b1f9",
   "metadata": {
    "tags": []
   },
   "outputs": [],
   "source": [
    "frecuencia_mobbing = fg.grafico_frecuencia(tbl_mobbing)"
   ]
  },
  {
   "cell_type": "code",
   "execution_count": null,
   "id": "d59b5a3a-3a8b-439c-9b39-3d1f8c50653b",
   "metadata": {
    "tags": []
   },
   "outputs": [],
   "source": [
    "temporalidad_mobbing = fg.grafico_temporalidad(tbl_mobbing)"
   ]
  },
  {
   "cell_type": "code",
   "execution_count": null,
   "id": "7a21d5ad-e131-4fa5-ac8d-3cee96c00aa9",
   "metadata": {},
   "outputs": [],
   "source": [
    "tbl_mobbing.columns"
   ]
  },
  {
   "cell_type": "code",
   "execution_count": null,
   "id": "f87e59c7-59b0-4254-8941-f45d9494bfb6",
   "metadata": {},
   "outputs": [],
   "source": [
    "edad_mobbing = fg.grafico_edad(tbl_mobbing)"
   ]
  },
  {
   "cell_type": "code",
   "execution_count": null,
   "id": "338b8b29-84e1-4749-9a86-9d2e9e4f885b",
   "metadata": {
    "tags": []
   },
   "outputs": [],
   "source": [
    "parentesco_mobbing = fg.grafico_parentesco(tbl_mobbing)"
   ]
  },
  {
   "cell_type": "code",
   "execution_count": null,
   "id": "6d06fb6b-501f-445d-9bc1-3b4188d032a2",
   "metadata": {
    "tags": []
   },
   "outputs": [],
   "source": [
    "sexo_mobbing = fg.grafico_sexo_parentesco(tbl_mobbing)"
   ]
  },
  {
   "cell_type": "code",
   "execution_count": null,
   "id": "981d4afc-6d3b-4234-b88b-d84d26412e1f",
   "metadata": {
    "tags": []
   },
   "outputs": [],
   "source": [
    "medios_mobbing = fg.grafico_medios(tbl_mobbing)[2]"
   ]
  },
  {
   "cell_type": "code",
   "execution_count": null,
   "id": "5798107a-159e-4ad6-8099-f074f3ad1f8d",
   "metadata": {
    "tags": []
   },
   "outputs": [],
   "source": [
    "pd.DataFrame(tbl_mobbing.otraR_mobbing.value_counts()).rename_axis(\n",
    "    index={\"otraR_mobbing\": \"Otras aplicaciones o redes sociales\"}\n",
    ").rename(columns={\"count\": \"N° de mujeres\"})"
   ]
  },
  {
   "cell_type": "markdown",
   "id": "b814da53-c240-4a13-b6ae-c73b8c4834ae",
   "metadata": {},
   "source": [
    "#### Resultados para los casos de ciberdifamación"
   ]
  },
  {
   "cell_type": "code",
   "execution_count": null,
   "id": "21f58d6e-ba14-4791-86b4-5cd804566d0e",
   "metadata": {
    "tags": []
   },
   "outputs": [],
   "source": [
    "tbl_ciberdifamacion = datos.query(\"ciberdifamacion == 1\")[\n",
    "    dic_violencias[\"ciberdifamacion\"]\n",
    "]"
   ]
  },
  {
   "cell_type": "markdown",
   "id": "d387aa40-64df-4840-b689-a87b82ae77cc",
   "metadata": {},
   "source": [
    "Se han reportado 60 casos de ciberdifamación."
   ]
  },
  {
   "cell_type": "code",
   "execution_count": null,
   "id": "f6e780d9-5518-458f-ba29-64680be7b231",
   "metadata": {
    "tags": []
   },
   "outputs": [],
   "source": [
    "frecuencia_ciberdifamacion = fg.grafico_frecuencia(tbl_ciberdifamacion)"
   ]
  },
  {
   "cell_type": "code",
   "execution_count": null,
   "id": "f0b7a8de-7fb4-40e5-a315-1e1f8193f3c4",
   "metadata": {
    "tags": []
   },
   "outputs": [],
   "source": [
    "temporalidad_ciberdifamacion = fg.grafico_temporalidad(tbl_ciberdifamacion)"
   ]
  },
  {
   "cell_type": "code",
   "execution_count": null,
   "id": "5e675db5-43ca-4992-af05-543b48c4d7af",
   "metadata": {},
   "outputs": [],
   "source": [
    "edad_ciberdifamacion = fg.grafico_edad(tbl_ciberdifamacion)"
   ]
  },
  {
   "cell_type": "code",
   "execution_count": null,
   "id": "af50f98e-2500-443b-8212-44d730cbebda",
   "metadata": {
    "tags": []
   },
   "outputs": [],
   "source": [
    "parentesco_ciberdifamacion = fg.grafico_parentesco(tbl_ciberdifamacion)"
   ]
  },
  {
   "cell_type": "code",
   "execution_count": null,
   "id": "c78cf734-df04-4f90-aed3-a932aa016b45",
   "metadata": {
    "tags": []
   },
   "outputs": [],
   "source": [
    "sexo_ciberdifamacion = fg.grafico_sexo_parentesco(tbl_ciberdifamacion)"
   ]
  },
  {
   "cell_type": "code",
   "execution_count": null,
   "id": "cad2bde4-d76d-4328-b907-4c325d773850",
   "metadata": {
    "tags": []
   },
   "outputs": [],
   "source": [
    "medios_ciberdifamacion = fg.grafico_medios(tbl_ciberdifamacion)[2]"
   ]
  },
  {
   "cell_type": "code",
   "execution_count": null,
   "id": "3d2e2f85-f904-4043-9d08-e46cfb556c2c",
   "metadata": {
    "tags": []
   },
   "outputs": [],
   "source": [
    "pd.DataFrame(tbl_ciberdifamacion.otraR_ciberdifamacion.value_counts()).rename_axis(\n",
    "    index={\"otraR_ciberdifamacion\": \"Otras aplicaciones o redes sociales\"}\n",
    ").rename(columns={\"count\": \"N° de mujeres\"})"
   ]
  },
  {
   "cell_type": "markdown",
   "id": "5ecce196-9435-436d-a2a0-02bcb71cf29e",
   "metadata": {},
   "source": [
    "#### Resultados para los casos de cibervigilancia (stalking)"
   ]
  },
  {
   "cell_type": "code",
   "execution_count": null,
   "id": "f29bb266-0011-4483-8b88-078507ec6a3f",
   "metadata": {
    "tags": []
   },
   "outputs": [],
   "source": [
    "tbl_stalking = datos.query(\"stalking == 1\")[dic_violencias[\"stalking\"]]"
   ]
  },
  {
   "cell_type": "markdown",
   "id": "35f4a3b8-4aa7-4e2b-8270-83f235b47076",
   "metadata": {},
   "source": [
    "Se han reportado 166 casos de stalking."
   ]
  },
  {
   "cell_type": "code",
   "execution_count": null,
   "id": "07a59f3f-f9c2-4b13-8425-07d5f63ba0ec",
   "metadata": {
    "tags": []
   },
   "outputs": [],
   "source": [
    "frecuencia_stalking = fg.grafico_frecuencia(tbl_stalking)"
   ]
  },
  {
   "cell_type": "code",
   "execution_count": null,
   "id": "c42bf46f-671b-4431-a980-be416bdfe546",
   "metadata": {
    "tags": []
   },
   "outputs": [],
   "source": [
    "temporalidad_stalking = fg.grafico_temporalidad(tbl_stalking)"
   ]
  },
  {
   "cell_type": "code",
   "execution_count": null,
   "id": "32653a4a-37f0-45fe-9517-0e82742139c8",
   "metadata": {},
   "outputs": [],
   "source": [
    "edad_stalking = fg.grafico_edad(tbl_stalking)"
   ]
  },
  {
   "cell_type": "code",
   "execution_count": null,
   "id": "ba709272-8092-41ea-9dd0-65e318938607",
   "metadata": {
    "tags": []
   },
   "outputs": [],
   "source": [
    "parentesco_stalking = fg.grafico_parentesco(tbl_stalking)"
   ]
  },
  {
   "cell_type": "code",
   "execution_count": null,
   "id": "6f0b9df9-2c52-4a19-b328-231396508078",
   "metadata": {
    "tags": []
   },
   "outputs": [],
   "source": [
    "sexo_stalking = fg.grafico_sexo_parentesco(tbl_stalking)"
   ]
  },
  {
   "cell_type": "code",
   "execution_count": null,
   "id": "3af0ad6d-26d2-4a9d-b2b7-33a2cbe3dc3e",
   "metadata": {
    "tags": []
   },
   "outputs": [],
   "source": [
    "medios_stalking = fg.grafico_medios(tbl_stalking)[2]"
   ]
  },
  {
   "cell_type": "code",
   "execution_count": null,
   "id": "550980e9-81bf-4b8a-816a-2d39be2451c3",
   "metadata": {
    "tags": []
   },
   "outputs": [],
   "source": [
    "pd.DataFrame(tbl_stalking.otraR_stalking.value_counts()).rename_axis(\n",
    "    index={\"otraR_stalking\": \"Otras aplicaciones o redes sociales\"}\n",
    ").rename(columns={\"count\": \"N° de mujeres\"})"
   ]
  },
  {
   "cell_type": "markdown",
   "id": "07681708-7683-461c-8a3a-26038453482e",
   "metadata": {},
   "source": [
    "#### Resultados para los casos de ciberextorsión"
   ]
  },
  {
   "cell_type": "code",
   "execution_count": null,
   "id": "498b34cc-1fe3-4a06-b0d6-7ea5c0f5b04a",
   "metadata": {
    "tags": []
   },
   "outputs": [],
   "source": [
    "tbl_ciberextorsion = datos.query(\"ciberextorsion == 1\")[\n",
    "    dic_violencias[\"ciberextorsion\"]\n",
    "]"
   ]
  },
  {
   "cell_type": "markdown",
   "id": "cea4fe62-db1b-4dec-9799-74a44742c77f",
   "metadata": {},
   "source": [
    "Se han reportado 21 casos de ciberextorsión."
   ]
  },
  {
   "cell_type": "code",
   "execution_count": null,
   "id": "9e72aaa5-c2d9-42f2-920a-503bc151af4b",
   "metadata": {
    "tags": []
   },
   "outputs": [],
   "source": [
    "frecuencia_ciberextorsion = fg.grafico_frecuencia(tbl_ciberextorsion)"
   ]
  },
  {
   "cell_type": "code",
   "execution_count": null,
   "id": "b9c14499-350b-48ea-98b6-a15c5d4e8520",
   "metadata": {
    "tags": []
   },
   "outputs": [],
   "source": [
    "temporalidad_ciberextorsion = fg.grafico_temporalidad(tbl_ciberextorsion)"
   ]
  },
  {
   "cell_type": "code",
   "execution_count": null,
   "id": "d03d9d9f-09b1-4c0a-9b88-9fcdd0efe254",
   "metadata": {},
   "outputs": [],
   "source": [
    "edad_ciberextorsion = fg.grafico_edad(tbl_ciberextorsion)"
   ]
  },
  {
   "cell_type": "code",
   "execution_count": null,
   "id": "dd7c1de8-a57f-4be4-b713-2bbfce9599fb",
   "metadata": {
    "tags": []
   },
   "outputs": [],
   "source": [
    "parentesco_ciberextorsion = fg.grafico_parentesco(tbl_ciberextorsion)"
   ]
  },
  {
   "cell_type": "code",
   "execution_count": null,
   "id": "e4179ef0-7ddf-4d68-8cf6-4f41adec715e",
   "metadata": {
    "tags": []
   },
   "outputs": [],
   "source": [
    "sexo_ciberextorsion = fg.grafico_sexo_parentesco(tbl_ciberextorsion)"
   ]
  },
  {
   "cell_type": "code",
   "execution_count": null,
   "id": "7189af52-b7a1-49ee-ad38-111b4c7fd6e8",
   "metadata": {
    "tags": []
   },
   "outputs": [],
   "source": [
    "medios_ciberextorsion = fg.grafico_medios(tbl_ciberextorsion)[2]"
   ]
  },
  {
   "cell_type": "code",
   "execution_count": null,
   "id": "2ba5684e-07a7-4e80-92d8-516c448926c0",
   "metadata": {
    "tags": []
   },
   "outputs": [],
   "source": [
    "pd.DataFrame(tbl_ciberextorsion.otraR_ciberextorsion.value_counts()).rename_axis(\n",
    "    index={\"otraR_ciberextorsion\": \"Otras aplicaciones o redes sociales\"}\n",
    ").rename(columns={\"count\": \"N° de mujeres\"})"
   ]
  },
  {
   "cell_type": "markdown",
   "id": "4403c4e7-c05a-45e1-bd02-ee6e6c8625e7",
   "metadata": {},
   "source": [
    "#### Resultados para los casos de grooming"
   ]
  },
  {
   "cell_type": "code",
   "execution_count": null,
   "id": "a95e1a57-ccf4-4908-a899-95d9d4dd247a",
   "metadata": {
    "tags": []
   },
   "outputs": [],
   "source": [
    "tbl_grooming = datos.query(\"grooming == 1\")[dic_violencias[\"grooming\"]]"
   ]
  },
  {
   "cell_type": "markdown",
   "id": "427b9724-5dec-42fd-b52c-648ecce4e8c9",
   "metadata": {},
   "source": [
    "Se han reportado 40 casos de grooming."
   ]
  },
  {
   "cell_type": "code",
   "execution_count": null,
   "id": "e615a6bf-843d-4800-b702-b9d30329d60e",
   "metadata": {
    "tags": []
   },
   "outputs": [],
   "source": [
    "frecuencia_grooming = fg.grafico_frecuencia(tbl_grooming)"
   ]
  },
  {
   "cell_type": "code",
   "execution_count": null,
   "id": "c8d64d8e-20b0-459f-a5a2-7052f4f44bb1",
   "metadata": {
    "tags": []
   },
   "outputs": [],
   "source": [
    "temporalidad_grooming = fg.grafico_temporalidad(tbl_grooming)"
   ]
  },
  {
   "cell_type": "code",
   "execution_count": null,
   "id": "e449234d-04ae-4ab5-a9eb-fc9a7b080bc7",
   "metadata": {},
   "outputs": [],
   "source": [
    "edad_grooming = fg.grafico_edad(tbl_grooming)"
   ]
  },
  {
   "cell_type": "code",
   "execution_count": null,
   "id": "9f814afc-166d-404d-b4a7-2405370f0ffa",
   "metadata": {
    "tags": []
   },
   "outputs": [],
   "source": [
    "parentesco_grooming = fg.grafico_parentesco(tbl_grooming)"
   ]
  },
  {
   "cell_type": "code",
   "execution_count": null,
   "id": "b1b128ae-24f5-48b2-a1c3-0b8b1b26bcd7",
   "metadata": {
    "tags": []
   },
   "outputs": [],
   "source": [
    "sexo_grooming = fg.grafico_sexo_parentesco(tbl_grooming)"
   ]
  },
  {
   "cell_type": "code",
   "execution_count": null,
   "id": "a8faf0f4-2a43-4751-b9a2-2296afd781a2",
   "metadata": {
    "tags": []
   },
   "outputs": [],
   "source": [
    "medios_grooming = fg.grafico_medios(tbl_grooming)[2]"
   ]
  },
  {
   "cell_type": "code",
   "execution_count": null,
   "id": "1a8c6e04-1ec4-45d3-9d27-b2c218cac494",
   "metadata": {
    "tags": []
   },
   "outputs": [],
   "source": [
    "pd.DataFrame(tbl_grooming.otraR_grooming.value_counts()).rename_axis(\n",
    "    index={\"otraR_grooming\": \"Otras aplicaciones o redes sociales\"}\n",
    ").rename(columns={\"count\": \"N° de mujeres\"})"
   ]
  },
  {
   "cell_type": "markdown",
   "id": "588ebbb4-2417-4499-a1ee-dd374133e0d0",
   "metadata": {},
   "source": [
    "#### Resultados para los casos de phishing-vishing-smishing"
   ]
  },
  {
   "cell_type": "code",
   "execution_count": null,
   "id": "1cc3b5d8-2247-4562-b30b-20219d3416d5",
   "metadata": {
    "tags": []
   },
   "outputs": [],
   "source": [
    "tbl_phishing_vs = datos.query(\"phishing_vs == 1\")[dic_violencias[\"phishing_vs\"]]"
   ]
  },
  {
   "cell_type": "markdown",
   "id": "ddb002b0-e72e-4a49-a418-400a2557d0e5",
   "metadata": {},
   "source": [
    "Se han reportado 78 casos de phishing-vishing-smishing."
   ]
  },
  {
   "cell_type": "code",
   "execution_count": null,
   "id": "b02d5ba9-d47c-4929-91aa-5c55b04439ae",
   "metadata": {
    "tags": []
   },
   "outputs": [],
   "source": [
    "frecuencia_phishing_vs = fg.grafico_frecuencia(tbl_phishing_vs)"
   ]
  },
  {
   "cell_type": "code",
   "execution_count": null,
   "id": "7a64d4c8-7346-4803-8bc5-1f0f65c84147",
   "metadata": {
    "tags": []
   },
   "outputs": [],
   "source": [
    "temporalidad_phishing_vs = fg.grafico_temporalidad(tbl_phishing_vs)"
   ]
  },
  {
   "cell_type": "code",
   "execution_count": null,
   "id": "8d50a159-0a64-47db-ab9e-473784011bd0",
   "metadata": {},
   "outputs": [],
   "source": [
    "edad_phishing_vs = fg.grafico_edad(tbl_phishing_vs)"
   ]
  },
  {
   "cell_type": "code",
   "execution_count": null,
   "id": "118c2adc-1786-412a-95ab-0776f29a47ff",
   "metadata": {
    "tags": []
   },
   "outputs": [],
   "source": [
    "parentesco_phishing_vs = fg.grafico_parentesco(tbl_phishing_vs)"
   ]
  },
  {
   "cell_type": "code",
   "execution_count": null,
   "id": "3c67c38a-1ecc-448b-a6d6-df60b7badae2",
   "metadata": {
    "tags": []
   },
   "outputs": [],
   "source": [
    "sexo_phishing_vs = fg.grafico_sexo_parentesco(tbl_phishing_vs)"
   ]
  },
  {
   "cell_type": "code",
   "execution_count": null,
   "id": "cecfee7b-fbdf-4a72-80c8-02a79a0adece",
   "metadata": {
    "tags": []
   },
   "outputs": [],
   "source": [
    "pd.DataFrame(tbl_phishing_vs.otraR_phishing_vs.value_counts()).rename_axis(\n",
    "    index={\"otraR_phishing_vs\": \"Otras aplicaciones o redes sociales\"}\n",
    ").rename(columns={\"count\": \"N° de mujeres\"})"
   ]
  },
  {
   "cell_type": "code",
   "execution_count": null,
   "id": "54343405-6ff1-4973-8778-33ebdf79205b",
   "metadata": {
    "tags": []
   },
   "outputs": [],
   "source": [
    "medios_phishing_vs = fg.grafico_medios(tbl_phishing_vs)[2]"
   ]
  },
  {
   "cell_type": "markdown",
   "id": "eb919262-0aac-4d49-8022-a0db65b67624",
   "metadata": {},
   "source": [
    "#### Resultados para los casos de trata de personas en línea"
   ]
  },
  {
   "cell_type": "code",
   "execution_count": null,
   "id": "ee3e5e71-66fd-4d65-b4a5-65a7382154c3",
   "metadata": {
    "tags": []
   },
   "outputs": [],
   "source": [
    "for i in datos.query(\"otraR_trata == 'Instagram '\").index:\n",
    "    datos.loc[i, \"instagram_trata\"] = True"
   ]
  },
  {
   "cell_type": "code",
   "execution_count": null,
   "id": "a0bbe191-065e-46e7-8aa1-8797df1cde65",
   "metadata": {
    "tags": []
   },
   "outputs": [],
   "source": [
    "tbl_trata = datos.query(\"trata == 1\")[dic_violencias[\"trata\"]]"
   ]
  },
  {
   "cell_type": "markdown",
   "id": "4923cd06-a311-4bb6-a3e2-c7f7e03c033d",
   "metadata": {},
   "source": [
    "Se han reportado 39 casos de trata de personas en línea."
   ]
  },
  {
   "cell_type": "code",
   "execution_count": null,
   "id": "91bca271-8913-45b4-895f-9029dc9cac2f",
   "metadata": {
    "tags": []
   },
   "outputs": [],
   "source": [
    "frecuencia_trata = fg.grafico_frecuencia(tbl_trata)"
   ]
  },
  {
   "cell_type": "code",
   "execution_count": null,
   "id": "a658e68d-bcf2-44a1-9f21-3e5c7e32d621",
   "metadata": {
    "tags": []
   },
   "outputs": [],
   "source": [
    "temporalidad_trata = fg.grafico_temporalidad(tbl_trata)"
   ]
  },
  {
   "cell_type": "code",
   "execution_count": null,
   "id": "858be68e-b555-4f26-95ed-c38bbd598625",
   "metadata": {},
   "outputs": [],
   "source": [
    "edad_trata = fg.grafico_edad(tbl_trata)"
   ]
  },
  {
   "cell_type": "code",
   "execution_count": null,
   "id": "cf41b103-1be4-4db2-ab04-5870387187cc",
   "metadata": {
    "tags": []
   },
   "outputs": [],
   "source": [
    "parentesco_trata = fg.grafico_parentesco(tbl_trata)"
   ]
  },
  {
   "cell_type": "code",
   "execution_count": null,
   "id": "817cd213-495f-4f87-9831-667fa2cef09e",
   "metadata": {
    "tags": []
   },
   "outputs": [],
   "source": [
    "sexo_trata = fg.grafico_sexo_parentesco(tbl_trata)"
   ]
  },
  {
   "cell_type": "code",
   "execution_count": null,
   "id": "0677961d-5e60-4980-845b-0b3fa23c0a5a",
   "metadata": {
    "tags": []
   },
   "outputs": [],
   "source": [
    "medios_trata = fg.grafico_medios(tbl_trata)[2]"
   ]
  },
  {
   "cell_type": "code",
   "execution_count": null,
   "id": "a717d2fc-c2a8-44b4-8f22-77ce0f92244c",
   "metadata": {
    "tags": []
   },
   "outputs": [],
   "source": [
    "pd.DataFrame(tbl_trata.otraR_trata.value_counts()).rename_axis(\n",
    "    index={\"otraR_trata\": \"Otras aplicaciones o redes sociales\"}\n",
    ").rename(columns={\"count\": \"N° de mujeres\"}).iloc[1:]"
   ]
  },
  {
   "cell_type": "markdown",
   "id": "c62e48b2-35b2-41de-a3f7-3cc12dfc093f",
   "metadata": {},
   "source": [
    "#### Resultados para los casos de captación con fines de explotación sexual"
   ]
  },
  {
   "cell_type": "code",
   "execution_count": null,
   "id": "e2188980-3e0b-4ed9-a004-d1503fd9302f",
   "metadata": {
    "tags": []
   },
   "outputs": [],
   "source": [
    "tbl_explotacion = datos.query(\"explotacion == 1\")[dic_violencias[\"explotacion\"]]"
   ]
  },
  {
   "cell_type": "markdown",
   "id": "472f1d1b-ae11-47ae-af06-38a9bc103af8",
   "metadata": {},
   "source": [
    "Se han reportado 7 casos de captación con fines de explotación sexual."
   ]
  },
  {
   "cell_type": "code",
   "execution_count": null,
   "id": "00c24c92-d08e-475c-b35c-d50b1f808f22",
   "metadata": {
    "tags": []
   },
   "outputs": [],
   "source": [
    "frecuencia_explotacion = fg.grafico_frecuencia(tbl_explotacion)"
   ]
  },
  {
   "cell_type": "code",
   "execution_count": null,
   "id": "da66c2c9-3890-436e-a69f-8da49f12fde5",
   "metadata": {
    "tags": []
   },
   "outputs": [],
   "source": [
    "temporalidad_explotacion = fg.grafico_temporalidad(tbl_explotacion)"
   ]
  },
  {
   "cell_type": "code",
   "execution_count": null,
   "id": "a6711612-6e2d-4136-87a4-d9d69566133c",
   "metadata": {},
   "outputs": [],
   "source": [
    "edad_explotacion = fg.grafico_edad(tbl_explotacion)"
   ]
  },
  {
   "cell_type": "code",
   "execution_count": null,
   "id": "b85e1984-5181-4958-84eb-caa8f2df48ae",
   "metadata": {
    "tags": []
   },
   "outputs": [],
   "source": [
    "parentesco_explotacion = fg.grafico_parentesco(tbl_explotacion)"
   ]
  },
  {
   "cell_type": "code",
   "execution_count": null,
   "id": "4f38640a",
   "metadata": {
    "tags": []
   },
   "outputs": [],
   "source": [
    "sexo_explotacion = fg.grafico_sexo_parentesco(tbl_explotacion)"
   ]
  },
  {
   "cell_type": "code",
   "execution_count": null,
   "id": "d3acb7f0-0b16-4414-8b2e-d87e95c3200e",
   "metadata": {
    "tags": []
   },
   "outputs": [],
   "source": [
    "medios_explotacion = fg.grafico_medios(tbl_explotacion)[2]"
   ]
  },
  {
   "cell_type": "code",
   "execution_count": null,
   "id": "f170da4c-f280-43e0-9a4a-87f5c825c5d7",
   "metadata": {
    "tags": []
   },
   "outputs": [],
   "source": [
    "pd.DataFrame(tbl_explotacion.otraR_explotacion.value_counts()).rename_axis(\n",
    "    index={\"otraR_explotacion\": \"Otras aplicaciones o redes sociales\"}\n",
    ").rename(columns={\"count\": \"N° de mujeres\"})"
   ]
  },
  {
   "cell_type": "markdown",
   "id": "7e271efc-b627-4267-b536-b82f86dafb44",
   "metadata": {
    "tags": []
   },
   "source": [
    "#### Resultados para los casos de exclusión digital"
   ]
  },
  {
   "cell_type": "code",
   "execution_count": null,
   "id": "fd4f80d4-2a97-45b2-813e-71e8ddb02f43",
   "metadata": {
    "tags": []
   },
   "outputs": [],
   "source": [
    "tbl_exclusion = datos.query(\"exclusion == 1\")[dic_violencias[\"exclusion\"]]"
   ]
  },
  {
   "cell_type": "markdown",
   "id": "048f7842-8564-4b1e-af6c-74c69fd5fe26",
   "metadata": {},
   "source": [
    "Se han reportado 37 casos de exclusión digital."
   ]
  },
  {
   "cell_type": "code",
   "execution_count": null,
   "id": "8aac99b0-2f58-4a30-8fd0-16a7e38cd870",
   "metadata": {
    "tags": []
   },
   "outputs": [],
   "source": [
    "frecuencia_exclusion = fg.grafico_frecuencia(tbl_exclusion)"
   ]
  },
  {
   "cell_type": "code",
   "execution_count": null,
   "id": "c4c44fe9-d3a2-4568-ad92-165ed8a4fb2a",
   "metadata": {
    "tags": []
   },
   "outputs": [],
   "source": [
    "temporalidad_exclusion = fg.grafico_temporalidad(tbl_exclusion)"
   ]
  },
  {
   "cell_type": "code",
   "execution_count": null,
   "id": "2124f49e-2b88-48ab-a5bb-54e443420825",
   "metadata": {},
   "outputs": [],
   "source": [
    "edad_exclusion = fg.grafico_edad(tbl_exclusion)"
   ]
  },
  {
   "cell_type": "markdown",
   "id": "324308c2-31e4-4d76-a1bf-2835d7b76f56",
   "metadata": {},
   "source": [
    "En el caso de exclusión no se realizó la pregunta asociada las personas agresoras."
   ]
  },
  {
   "cell_type": "code",
   "execution_count": null,
   "id": "9b1fb73a-c849-4993-a8eb-4023bdb33212",
   "metadata": {
    "tags": []
   },
   "outputs": [],
   "source": [
    "medios_exclusion = fg.grafico_medios(tbl_exclusion)[2]"
   ]
  },
  {
   "cell_type": "code",
   "execution_count": null,
   "id": "0d59eb6f-b756-499c-bf92-c57c35458bd5",
   "metadata": {
    "tags": []
   },
   "outputs": [],
   "source": [
    "pd.DataFrame(tbl_exclusion.otraR_exclusion.value_counts()).rename_axis(\n",
    "    index={\"otraR_exclusion\": \"Otras aplicaciones o redes sociales\"}\n",
    ").rename(columns={\"count\": \"N° de mujeres\"})"
   ]
  },
  {
   "cell_type": "markdown",
   "id": "1c922d1e-54f7-4c7e-a749-066281e09b46",
   "metadata": {
    "tags": []
   },
   "source": [
    "#### Resultados para los casos de cyberflashing"
   ]
  },
  {
   "cell_type": "code",
   "execution_count": null,
   "id": "1d878378-8dd8-49a2-a298-cc763140261a",
   "metadata": {
    "tags": []
   },
   "outputs": [],
   "source": [
    "tbl_cyberflashing = datos.query(\"cyberflashing == 1\")[dic_violencias[\"cyberflashing\"]]"
   ]
  },
  {
   "cell_type": "markdown",
   "id": "810f5dac-ddf4-4dd5-9d66-c04f32deae87",
   "metadata": {},
   "source": [
    "Se han reportado 190 casos de cyberflashing."
   ]
  },
  {
   "cell_type": "code",
   "execution_count": null,
   "id": "c2711a02-7bea-47b4-81ed-1cb6d0d677fa",
   "metadata": {
    "tags": []
   },
   "outputs": [],
   "source": [
    "frecuencia_cyberflashing = fg.grafico_frecuencia(tbl_cyberflashing)"
   ]
  },
  {
   "cell_type": "code",
   "execution_count": null,
   "id": "fe4d65cc-f1c5-436a-9ec0-f567780b8060",
   "metadata": {
    "tags": []
   },
   "outputs": [],
   "source": [
    "temporalidad_cyberflashing = fg.grafico_temporalidad(tbl_cyberflashing)"
   ]
  },
  {
   "cell_type": "code",
   "execution_count": null,
   "id": "0e4123ff-e75d-4a20-a82d-1b8fbcc47835",
   "metadata": {},
   "outputs": [],
   "source": [
    "edad_cyberflashing = fg.grafico_edad(tbl_cyberflashing)"
   ]
  },
  {
   "cell_type": "code",
   "execution_count": null,
   "id": "71cd20e7-325b-4be8-8448-b339bbc70bd6",
   "metadata": {
    "tags": []
   },
   "outputs": [],
   "source": [
    "parentesco_cyberflashing = fg.grafico_parentesco(tbl_cyberflashing)"
   ]
  },
  {
   "cell_type": "code",
   "execution_count": null,
   "id": "e38676b6-278e-4761-8a9a-4183ba7cda04",
   "metadata": {},
   "outputs": [],
   "source": [
    "sexo_cyberflashing = fg.grafico_sexo_parentesco(tbl_cyberflashing)"
   ]
  },
  {
   "cell_type": "code",
   "execution_count": null,
   "id": "15f8230b-c7c3-40ec-a9f3-184a4ba40e04",
   "metadata": {
    "tags": []
   },
   "outputs": [],
   "source": [
    "medios_cyberflashing = fg.grafico_medios(tbl_cyberflashing)[2]"
   ]
  },
  {
   "cell_type": "code",
   "execution_count": null,
   "id": "733ebd9b-3576-4096-b1eb-13aac7c7ebb0",
   "metadata": {
    "tags": []
   },
   "outputs": [],
   "source": [
    "pd.DataFrame(tbl_cyberflashing.otraR_cyberflashing.value_counts()).rename_axis(\n",
    "    index={\"otraR_cyberflashing\": \"Otras aplicaciones o redes sociales\"}\n",
    ").rename(columns={\"count\": \"N° de mujeres\"})"
   ]
  },
  {
   "cell_type": "markdown",
   "id": "f11f4dbd-a299-4072-a612-5169c7593135",
   "metadata": {
    "tags": []
   },
   "source": [
    "#### Resultados para los casos de deepfake"
   ]
  },
  {
   "cell_type": "code",
   "execution_count": null,
   "id": "415a952d-24b9-4dee-8e55-96e7fce38d55",
   "metadata": {
    "tags": []
   },
   "outputs": [],
   "source": [
    "tbl_deepfake = datos.query(\"deepfake == 1\")[dic_violencias[\"deepfake\"]]"
   ]
  },
  {
   "cell_type": "markdown",
   "id": "e2b3d53b-cb0f-4c87-b027-bddc13f08ff0",
   "metadata": {},
   "source": [
    "Se han reportado 10 casos de deepfake."
   ]
  },
  {
   "cell_type": "code",
   "execution_count": null,
   "id": "dd9968dd-5c00-41c0-a37d-258a84d3f45b",
   "metadata": {
    "tags": []
   },
   "outputs": [],
   "source": [
    "frecuencia_deepfake = fg.grafico_frecuencia(tbl_deepfake)"
   ]
  },
  {
   "cell_type": "code",
   "execution_count": null,
   "id": "fce38faf-6b4e-4848-927a-1c6ede4ecbdc",
   "metadata": {
    "tags": []
   },
   "outputs": [],
   "source": [
    "temporalidad_deepfake = fg.grafico_temporalidad(tbl_deepfake)"
   ]
  },
  {
   "cell_type": "code",
   "execution_count": null,
   "id": "7435f831-3e80-4906-90df-a377fb082206",
   "metadata": {},
   "outputs": [],
   "source": [
    "edad_deepfake = fg.grafico_edad(tbl_deepfake)"
   ]
  },
  {
   "cell_type": "code",
   "execution_count": null,
   "id": "a6297e23-8770-44aa-b1aa-d20eb665139d",
   "metadata": {
    "tags": []
   },
   "outputs": [],
   "source": [
    "parentesco_deepfake = fg.grafico_parentesco(tbl_deepfake)"
   ]
  },
  {
   "cell_type": "code",
   "execution_count": null,
   "id": "8c9a3fb1-690a-471a-89b4-ae1b86ec24ee",
   "metadata": {},
   "outputs": [],
   "source": [
    "sexo_deepfake = fg.grafico_sexo_parentesco(tbl_deepfake)"
   ]
  },
  {
   "cell_type": "code",
   "execution_count": null,
   "id": "e4a8e6dd-a2d0-46b7-93a8-e58bb9ba2092",
   "metadata": {
    "tags": []
   },
   "outputs": [],
   "source": [
    "medios_deepfake = fg.grafico_medios(tbl_deepfake)[2]"
   ]
  },
  {
   "cell_type": "code",
   "execution_count": null,
   "id": "ce8eb649-7108-4176-9250-c370c2201764",
   "metadata": {
    "tags": []
   },
   "outputs": [],
   "source": [
    "pd.DataFrame(tbl_deepfake.otraR_deepfake.value_counts()).rename_axis(\n",
    "    index={\"otraR_deepfake\": \"Otras aplicaciones o redes sociales\"}\n",
    ").rename(columns={\"count\": \"N° de mujeres\"})"
   ]
  },
  {
   "cell_type": "markdown",
   "id": "edfbba26-52eb-457d-a7f6-95638e17eb6d",
   "metadata": {
    "tags": []
   },
   "source": [
    "#### Resultados para los casos de clonación de aplicaciones"
   ]
  },
  {
   "cell_type": "code",
   "execution_count": null,
   "id": "38aa82d5-3ee8-4aa5-b7ab-72fd6309c7e1",
   "metadata": {
    "tags": []
   },
   "outputs": [],
   "source": [
    "tbl_clonacion = datos.query(\"clonacion == 1\")[dic_violencias[\"clonacion\"]]"
   ]
  },
  {
   "cell_type": "markdown",
   "id": "a9e15ace-c125-4e81-81c6-e73ae4af8b23",
   "metadata": {},
   "source": [
    "Se han reportado 50 casos de clonación de aplicaciones."
   ]
  },
  {
   "cell_type": "code",
   "execution_count": null,
   "id": "35785fbe-bf5f-43d4-b821-cd15807922bd",
   "metadata": {
    "tags": []
   },
   "outputs": [],
   "source": [
    "frecuencia_clonacion = fg.grafico_frecuencia(tbl_clonacion)"
   ]
  },
  {
   "cell_type": "code",
   "execution_count": null,
   "id": "8368735b-bbde-480a-903e-bfbce0f600ab",
   "metadata": {
    "tags": []
   },
   "outputs": [],
   "source": [
    "temporalidad_clonacion = fg.grafico_temporalidad(tbl_clonacion)"
   ]
  },
  {
   "cell_type": "code",
   "execution_count": null,
   "id": "a7894027-77b0-49e5-8655-62afdf73f9b5",
   "metadata": {},
   "outputs": [],
   "source": [
    "edad_clonacion = fg.grafico_edad(tbl_clonacion)"
   ]
  },
  {
   "cell_type": "code",
   "execution_count": null,
   "id": "42148994-46c4-401d-bd4a-75d552e64648",
   "metadata": {
    "tags": []
   },
   "outputs": [],
   "source": [
    "parentesco_clonacion = fg.grafico_parentesco(tbl_clonacion)"
   ]
  },
  {
   "cell_type": "code",
   "execution_count": null,
   "id": "03575459-61b1-4219-92a2-ce75ae653969",
   "metadata": {},
   "outputs": [],
   "source": [
    "sexo_clonacion = fg.grafico_sexo_parentesco(tbl_clonacion)"
   ]
  },
  {
   "cell_type": "code",
   "execution_count": null,
   "id": "8e7af7e7-cef4-46a8-965a-e36f2a33f0f0",
   "metadata": {
    "tags": []
   },
   "outputs": [],
   "source": [
    "medios_clonacion = fg.grafico_medios(tbl_clonacion)[2]"
   ]
  },
  {
   "cell_type": "code",
   "execution_count": null,
   "id": "e7a4ea49-c88e-412b-a2f8-48a3bd0b92ba",
   "metadata": {
    "tags": []
   },
   "outputs": [],
   "source": [
    "pd.DataFrame(tbl_clonacion.otraR_clonacion.value_counts()).rename_axis(\n",
    "    index={\"otraR_clonacion\": \"Otras aplicaciones o redes sociales\"}\n",
    ").rename(columns={\"count\": \"N° de mujeres\"})"
   ]
  },
  {
   "cell_type": "markdown",
   "id": "10b337ab-b3c6-45fe-bb9e-c78d0bdec3ee",
   "metadata": {},
   "source": [
    "### Conocimiento sobre violencia digital basada en género"
   ]
  },
  {
   "cell_type": "code",
   "execution_count": null,
   "id": "603c1115-65a0-47f8-9beb-7270de56558c",
   "metadata": {
    "tags": []
   },
   "outputs": [],
   "source": [
    "tbl_vdbg = datos.vdbg.value_counts()"
   ]
  },
  {
   "cell_type": "code",
   "execution_count": null,
   "id": "e423dd32-3fd1-4acf-a62b-9643e69f80fa",
   "metadata": {
    "tags": []
   },
   "outputs": [],
   "source": [
    "fig = go.Figure(data=[go.Pie(labels=tbl_vdbg.index, values=tbl_vdbg)])\n",
    "fig.update_layout(\n",
    "    title_text=\"Conocimiento de VDBG\",\n",
    "    legend_title=\"¿Habías escuchado antes el término <br> Violencia Digital Basada en Género?\",\n",
    "    font=dict(family=\"Arial\", size=18, color=\"black\"),\n",
    "    width=1500,\n",
    "    height=1000,\n",
    ")\n",
    "fig.update_traces(\n",
    "    marker=dict(\n",
    "        colors=[\"rgb(149, 27, 129)\", \"rgb(57, 105, 172)\", \"rgb(7, 171, 157)\"],\n",
    "        line=dict(color=\"white\", width=1),\n",
    "    )\n",
    ")\n",
    "fig.show()\n",
    "fig.write_image(\"img/vdbg.png\")"
   ]
  },
  {
   "cell_type": "code",
   "execution_count": null,
   "id": "03588506-b8d5-4259-80ea-2bae5e04a893",
   "metadata": {
    "tags": []
   },
   "outputs": [],
   "source": [
    "vdbg_violencias = [s for s in list(datos.columns) if \"vdbg_\" in s]"
   ]
  },
  {
   "cell_type": "code",
   "execution_count": null,
   "id": "c1d2041b-7387-459c-af20-360210216ae6",
   "metadata": {
    "tags": []
   },
   "outputs": [],
   "source": [
    "con_violencia = pd.DataFrame(\n",
    "    datos.query(\"vdbg == 'Sí'\")[vdbg_violencias[1:]].T.sum().value_counts()\n",
    ")\n",
    "con_violencia.index.name = \"Nº de violencias conocidas\"\n",
    "con_violencia[\"%\"] = round(con_violencia / len(datos) * 100, 2)\n",
    "con_violencia.rename(columns={\"count\": \"Cantidad de mujeres\"}).sort_index()"
   ]
  },
  {
   "cell_type": "code",
   "execution_count": null,
   "id": "169903a6-8745-48cf-b28d-e6b077833f2f",
   "metadata": {
    "tags": []
   },
   "outputs": [],
   "source": [
    "tbl_conocimiento_violencia = pd.DataFrame(datos[vdbg_violencias[1:]].sum())"
   ]
  },
  {
   "cell_type": "code",
   "execution_count": null,
   "id": "6ac9a5f8-9d4d-4e3e-9bb7-1ebe40e6a047",
   "metadata": {
    "tags": []
   },
   "outputs": [],
   "source": [
    "tbl_conocimiento_violencia.index = violencias\n",
    "tbl_conocimiento_violencia.rename(\n",
    "    index=violencias_nombres, columns={0: \"cantidad\"}, inplace=True\n",
    ")\n",
    "tbl_conocimiento_violencia = round(tbl_conocimiento_violencia / len(datos) * 100, 2)"
   ]
  },
  {
   "cell_type": "code",
   "execution_count": null,
   "id": "b93cfc04-176f-4e80-b069-3634bc962977",
   "metadata": {
    "tags": []
   },
   "outputs": [],
   "source": [
    "fig = px.bar(\n",
    "    tbl_conocimiento_violencia.sort_values(\"cantidad\", ascending=False),\n",
    "    y=\"cantidad\",\n",
    "    x=tbl_conocimiento_violencia.index,\n",
    "    text_auto=True,\n",
    ")\n",
    "fig.update_layout(\n",
    "    title=\"Conocimiento de la violencia\",\n",
    "    xaxis_title=\"Violencia\",\n",
    "    yaxis_title=\"% de mujeres\",\n",
    "    font=dict(\n",
    "        family=\"Arial\",\n",
    "        size=18,\n",
    "        color=\"black\",\n",
    "    ),\n",
    "    width=1500,\n",
    "    height=800,\n",
    ")\n",
    "fig.update_traces(\n",
    "    textfont_size=18,\n",
    "    textangle=0,\n",
    "    textposition=\"outside\",\n",
    "    cliponaxis=False,\n",
    "    showlegend=False,\n",
    "    marker_color=\"rgb(149, 27, 129)\",\n",
    "    marker_line_color=\"white\",\n",
    "    texttemplate=\"%{value: .4} %\",\n",
    ")\n",
    "fig.show()\n",
    "fig.write_image(\"img/conocimiento_violencia.png\")"
   ]
  },
  {
   "cell_type": "markdown",
   "id": "416515eb-4973-4476-82e8-0a2dbebfc36a",
   "metadata": {},
   "source": [
    "### Reacciones de las víctima al sufrir la(s) violencia(s)"
   ]
  },
  {
   "cell_type": "code",
   "execution_count": null,
   "id": "d11dbbfc-319f-4dd2-838b-6d329ea40417",
   "metadata": {},
   "outputs": [],
   "source": [
    "reacciones = [s for s in list(datos.columns) if \"reaccion_\" in s]"
   ]
  },
  {
   "cell_type": "code",
   "execution_count": null,
   "id": "633fc00d-d360-4246-b9cf-cd5c29c12fb6",
   "metadata": {
    "tags": []
   },
   "outputs": [],
   "source": [
    "tbl_reacciones = round(pd.DataFrame(datos[reacciones].sum() / len(datos) * 100), 2)"
   ]
  },
  {
   "cell_type": "code",
   "execution_count": null,
   "id": "922454c4-06e3-4b58-b10a-7cc405b3ee6c",
   "metadata": {
    "tags": []
   },
   "outputs": [],
   "source": [
    "tbl_reacciones.rename(\n",
    "    index={\n",
    "        \"reaccion_ignorar\": \"Ignoraron al agresor\",\n",
    "        \"reaccion_contar\": \"Le contaron a un amigo(a) o familiar\",\n",
    "        \"reaccion_ayuda\": \"Acudieron a un centro de ayuda o denuncia\",\n",
    "        \"reaccion_reportar\": \"Reportaron el perfil o publicación en la red social\",\n",
    "        \"reaccion_internet\": \"Redujeron el uso en internet\",\n",
    "        \"reaccion_borrar\": \"Borraron la aplicación donde ocurrió\",\n",
    "        \"reaccion_eliminar\": \"Eliminaron la cuenta de usuario\",\n",
    "        \"reaccion_crear\": \"Crearon una cuenta de usuario distinta\",\n",
    "        \"reaccion_bloquear\": \"Bloquearon a la persona agresora\",\n",
    "        \"reaccion_enfrentar\": \"Enfrentaron a la persona agresora\",\n",
    "    },\n",
    "    columns={0: \"cantidad\"},\n",
    "    inplace=True,\n",
    ")"
   ]
  },
  {
   "cell_type": "code",
   "execution_count": null,
   "id": "dfb93798-7a16-4534-8b35-efe3305c3eec",
   "metadata": {
    "tags": []
   },
   "outputs": [],
   "source": [
    "fig = px.bar(\n",
    "    tbl_reacciones.sort_values(\"cantidad\", ascending=False),\n",
    "    y=tbl_reacciones[\"cantidad\"],\n",
    "    x=tbl_reacciones.index,\n",
    "    text_auto=True,\n",
    ")\n",
    "fig.update_layout(\n",
    "    title=\"Reacción de la víctima al sufrir la(s) violencia(s)\",\n",
    "    xaxis_title=\"Violencia\",\n",
    "    yaxis_title=\"% de mujeres\",\n",
    "    font=dict(\n",
    "        family=\"Arial\",\n",
    "        size=18,\n",
    "        color=\"black\",\n",
    "    ),\n",
    "    width=1500,\n",
    "    height=800,\n",
    ")\n",
    "fig.update_traces(\n",
    "    textfont_size=18,\n",
    "    textangle=0,\n",
    "    textposition=\"outside\",\n",
    "    cliponaxis=False,\n",
    "    showlegend=False,\n",
    "    marker_color=\"rgb(57, 105, 172)\",\n",
    "    marker_line_color=\"white\",\n",
    "    texttemplate=\"%{value: .4} %\",\n",
    ")\n",
    "fig.show()\n",
    "fig.write_image(\"img/reaccion_violencia.png\")"
   ]
  },
  {
   "cell_type": "markdown",
   "id": "36ad8060-3029-44da-b388-26222b420625",
   "metadata": {},
   "source": [
    "### Conocimiento de víctimas"
   ]
  },
  {
   "cell_type": "code",
   "execution_count": null,
   "id": "29720e2c-bed1-4594-b6b8-f8221b27c5c3",
   "metadata": {
    "tags": []
   },
   "outputs": [],
   "source": [
    "tbl_victima = datos.victima.value_counts()"
   ]
  },
  {
   "cell_type": "code",
   "execution_count": null,
   "id": "cee66b7c-e6f8-4ecc-9206-996469ace333",
   "metadata": {
    "tags": []
   },
   "outputs": [],
   "source": [
    "fig = go.Figure(data=[go.Pie(labels=tbl_victima.index, values=tbl_victima)])\n",
    "fig.update_layout(\n",
    "    title_text=\"Conocimiento de Víctimas\",\n",
    "    font=dict(family=\"Arial\", size=18, color=\"black\"),\n",
    "    legend_title=\"¿Conoces a alguna mujer que haya <br> sido víctima de violencia digital?\",\n",
    "    width=1500,\n",
    "    height=1000,\n",
    "    legend=dict(font=dict(size=18)),\n",
    ")\n",
    "fig.update_traces(\n",
    "    marker=dict(\n",
    "        colors=[\"rgb(149, 27, 129)\", \"rgb(57, 105, 172)\"],\n",
    "        line=dict(color=\"white\", width=1),\n",
    "    )\n",
    ")\n",
    "fig.show()\n",
    "fig.write_image(\"img/victima.png\")"
   ]
  },
  {
   "cell_type": "code",
   "execution_count": null,
   "id": "aa92a8f6-8567-48e4-a76e-b748904beae4",
   "metadata": {
    "tags": []
   },
   "outputs": [],
   "source": [
    "num_victimas = pd.DataFrame(datos.numero_victima.value_counts())"
   ]
  },
  {
   "cell_type": "code",
   "execution_count": null,
   "id": "a2aecf65-321e-4e28-a848-818c88da5670",
   "metadata": {
    "scrolled": true
   },
   "outputs": [],
   "source": [
    "fig = px.bar(\n",
    "    num_victimas.sort_index(),\n",
    "    y=num_victimas.sort_index()[\"count\"],\n",
    "    x=num_victimas.sort_index().index.values,\n",
    "    text=round(num_victimas.sort_index() / len(datos) * 100, 2)[\"count\"],\n",
    ")\n",
    "fig.update_layout(\n",
    "    title=\"Cantidad de víctimas conocidas\",\n",
    "    xaxis_title=\"Nº de victimas\",\n",
    "    yaxis_title=\"% de mujeres\",\n",
    "    font=dict(\n",
    "        family=\"Arial\",\n",
    "        size=18,\n",
    "        color=\"black\",\n",
    "    ),\n",
    "    width=1500,\n",
    "    height=800,\n",
    ")\n",
    "fig.update_traces(\n",
    "    textfont_size=18,\n",
    "    textangle=0,\n",
    "    textposition=\"outside\",\n",
    "    cliponaxis=False,\n",
    "    showlegend=False,\n",
    "    marker_color=\"rgb(7, 171, 157)\",\n",
    "    marker_line_color=\"white\",\n",
    "    texttemplate=\"%{text: .4} %\",\n",
    ")\n",
    "fig.show()\n",
    "fig.write_image(\"img/num_victimas.png\")"
   ]
  },
  {
   "cell_type": "markdown",
   "id": "61e7ea0c-318a-4858-aed4-c7909514a4fc",
   "metadata": {},
   "source": [
    "### Conocimiento de leyes y normas"
   ]
  },
  {
   "cell_type": "code",
   "execution_count": null,
   "id": "d453a0c9-b293-45b0-88c3-ccb11a066df0",
   "metadata": {
    "tags": []
   },
   "outputs": [],
   "source": [
    "tbl_leyes = datos.leyes_normas.value_counts()"
   ]
  },
  {
   "cell_type": "code",
   "execution_count": null,
   "id": "96a9d959-0b1b-446c-ab97-b9623ebad521",
   "metadata": {
    "tags": []
   },
   "outputs": [],
   "source": [
    "fig = go.Figure(data=[go.Pie(labels=tbl_leyes.index, values=tbl_leyes)])\n",
    "fig.update_layout(\n",
    "    title_text=\"Conocimiento de Leyes y Normas\",\n",
    "    legend_title=\"¿Conoces leyes o normativas en el país <br> que contemplan las violencias digitales?\",\n",
    "    width=1500,\n",
    "    height=1000,\n",
    "    font=dict(family=\"Arial\", size=18, color=\"black\"),\n",
    ")\n",
    "fig.update_traces(\n",
    "    marker=dict(\n",
    "        colors=[\"rgb(149, 27, 129)\", \"rgb(57, 105, 172)\"],\n",
    "        line=dict(color=\"white\", width=1),\n",
    "    )\n",
    ")\n",
    "fig.show()\n",
    "fig.write_image(\"img/ley.png\")"
   ]
  },
  {
   "cell_type": "markdown",
   "id": "a96af0df-f512-46a1-a77a-c05391919873",
   "metadata": {},
   "source": [
    "### Interacciones entre ciertos ítems de la encuesta"
   ]
  },
  {
   "cell_type": "markdown",
   "id": "89f9ac63-2721-44cc-828f-9b447566b0ce",
   "metadata": {},
   "source": [
    "#### Tipos de violencia y edad en que ocurrió por primera vez"
   ]
  },
  {
   "cell_type": "code",
   "execution_count": null,
   "id": "23339523-38f0-4c87-9dd7-5dd298a7b1a2",
   "metadata": {
    "tags": []
   },
   "outputs": [],
   "source": [
    "edades_violencias = [s for s in list(datos.columns) if \"edad_\" in s]"
   ]
  },
  {
   "cell_type": "code",
   "execution_count": null,
   "id": "09348078-1933-419a-8d7c-fd084c3600b3",
   "metadata": {
    "tags": []
   },
   "outputs": [],
   "source": [
    "lista_edades_violencias = []\n",
    "for i in edades_violencias:\n",
    "    j = (\n",
    "        pd.cut(\n",
    "            datos[edades_violencias].loc[:, i],\n",
    "            bins=[0, 10, 15, 18, 25, 30, 40, 50, 60, 75],\n",
    "            right=False,\n",
    "        )\n",
    "        .value_counts()\n",
    "        .sort_index()\n",
    "    )\n",
    "    j = j.reset_index()\n",
    "    for k in violencias_nombres.keys():\n",
    "        if k in j.columns[0]:\n",
    "            j[\"violencia\"] = [violencias_nombres[k]] * len(j)\n",
    "    j = j.rename(columns={j.columns[0]: \"Edad\"})\n",
    "    lista_edades_violencias.append(j)"
   ]
  },
  {
   "cell_type": "code",
   "execution_count": null,
   "id": "06e5c596-cb68-4509-a02c-194987c937a9",
   "metadata": {
    "tags": []
   },
   "outputs": [],
   "source": [
    "tbl_edades_primera_vez = pd.concat(lista_edades_violencias, join=\"inner\").reset_index(\n",
    "    drop=True\n",
    ")"
   ]
  },
  {
   "cell_type": "code",
   "execution_count": null,
   "id": "9f7fdf6c-37c8-442b-bb5f-449ccb63e4fe",
   "metadata": {
    "tags": []
   },
   "outputs": [],
   "source": [
    "tbl_edades_primera_vez.Edad = tbl_edades_primera_vez.Edad.astype(\"str\")"
   ]
  },
  {
   "cell_type": "code",
   "execution_count": null,
   "id": "cbe8ed8c-73b1-4ae9-aa4c-01d3b6907e74",
   "metadata": {
    "tags": []
   },
   "outputs": [],
   "source": [
    "l_ = []\n",
    "for i in lista_edades_violencias:\n",
    "    j = round(i[\"count\"] / i[\"count\"].sum() * 100, 3)\n",
    "    i[\"count\"] = j\n",
    "    l_.append(i)"
   ]
  },
  {
   "cell_type": "code",
   "execution_count": null,
   "id": "a33cd4ac-7cc3-4c0a-be8d-d4d142f854b5",
   "metadata": {
    "tags": []
   },
   "outputs": [],
   "source": [
    "edades_primera_vez = (\n",
    "    pd.concat(l_, join=\"inner\")\n",
    "    .reset_index(drop=True)\n",
    "    .rename(columns={\"violencia\": \"Violencia\"})\n",
    ")"
   ]
  },
  {
   "cell_type": "code",
   "execution_count": null,
   "id": "8d25cbfe-9c3f-42c7-a52c-7b03ea9ce355",
   "metadata": {
    "tags": []
   },
   "outputs": [],
   "source": [
    "edades_primera_vez.Edad = edades_primera_vez.Edad.astype(\"str\")"
   ]
  },
  {
   "cell_type": "code",
   "execution_count": null,
   "id": "73978077-d8c8-4e4e-9181-a8abb13ee52d",
   "metadata": {
    "tags": []
   },
   "outputs": [],
   "source": [
    "fig = px.bar(\n",
    "    edades_primera_vez,\n",
    "    x=\"Edad\",\n",
    "    y=\"count\",\n",
    "    color=\"Violencia\",\n",
    "    title=\"Tasa de incidencia por grupo etario según tipo de violencia\",\n",
    "    barmode=\"group\",\n",
    "    color_discrete_sequence=px.colors.qualitative.Plotly,\n",
    "    width=1600,\n",
    "    height=600,\n",
    ")\n",
    "fig.update_layout(\n",
    "    font=dict(family=\"Arial\", size=16, color=\"black\"),\n",
    ")\n",
    "fig.update_yaxes(title=\"% de mujeres\")\n",
    "fig.update_xaxes(\n",
    "    title=\"Rangos de edad\",\n",
    "    labelalias={\n",
    "        \"[0, 10)\": \"0-9\",\n",
    "        \"[10, 15)\": \"10-14\",\n",
    "        \"[15, 18)\": \"15-17\",\n",
    "        \"[18, 25)\": \"18-24\",\n",
    "        \"[25, 30)\": \"24-29\",\n",
    "        \"[30, 40)\": \"30-39\",\n",
    "        \"[40, 50)\": \"40-49\",\n",
    "        \"[50, 60)\": \"50-59\",\n",
    "        \"[60, 75)\": \"60 y más\",\n",
    "    },\n",
    ")\n",
    "fig.show()\n",
    "fig.write_image(\"img/violencia_edad2.png\")"
   ]
  },
  {
   "cell_type": "markdown",
   "id": "5e4a0461-e200-48d9-9529-a9ab9de38ee2",
   "metadata": {
    "tags": []
   },
   "source": [
    "#### Tipo de violencia según el medio por el cual ocurrió"
   ]
  },
  {
   "cell_type": "code",
   "execution_count": null,
   "id": "639f9ace-59aa-4c07-b74d-d6c06ea34122",
   "metadata": {
    "tags": []
   },
   "outputs": [],
   "source": [
    "lista_medios = [s for s in list(vars()) if \"medios_\" in s]\n",
    "ls_medios = []\n",
    "for i in [s for s in list(vars()) if \"medios_\" in s]:\n",
    "    df = vars()[i]\n",
    "    ls_medios.append(df)"
   ]
  },
  {
   "cell_type": "code",
   "execution_count": null,
   "id": "ce4cf80e-eac8-4831-9305-24c5037838f1",
   "metadata": {
    "tags": []
   },
   "outputs": [],
   "source": [
    "lista_df_medios = []\n",
    "for df, i in zip(ls_medios, lista_medios):\n",
    "    tbl = pd.DataFrame(df)\n",
    "    if i.split(\"_\")[1] in violencias_nombres.keys():\n",
    "        l_violencia = [violencias_nombres[i.split(\"_\")[1]]] * len(df)\n",
    "    else:\n",
    "        l_violencia = [\"Phishing/Vishing/Smishing\"] * len(df)\n",
    "    tbl[\"violencia\"] = l_violencia\n",
    "    tbl.rename(columns={0: \"cantidad\"}, inplace=True)\n",
    "    tbl.reset_index(inplace=True)\n",
    "    tbl.rename(columns={\"index\": \"Medio\"}, inplace=True)\n",
    "    lista_df_medios.append(tbl)"
   ]
  },
  {
   "cell_type": "code",
   "execution_count": null,
   "id": "950bc014-0f70-4ddf-b043-810fc9d6d368",
   "metadata": {
    "tags": []
   },
   "outputs": [],
   "source": [
    "tbl_violencia_medio = pd.concat(lista_df_medios)"
   ]
  },
  {
   "cell_type": "code",
   "execution_count": null,
   "id": "2ac86af5-72fd-435c-a0b2-46107833bf73",
   "metadata": {
    "tags": []
   },
   "outputs": [],
   "source": [
    "tbl_violencia_medio.reset_index(drop=True, inplace=True)"
   ]
  },
  {
   "cell_type": "code",
   "execution_count": null,
   "id": "e82a280f-d089-48b8-825c-8717feb8ef0b",
   "metadata": {
    "tags": []
   },
   "outputs": [],
   "source": [
    "tbl_violencia_medio = tbl_violencia_medio.astype(\n",
    "    {\"cantidad\": \"float\", \"violencia\": \"str\", \"Medio\": \"str\"}\n",
    ")"
   ]
  },
  {
   "cell_type": "code",
   "execution_count": null,
   "id": "35d407c1-48bd-4ab3-91b3-bbe3ea6ac52e",
   "metadata": {
    "scrolled": true
   },
   "outputs": [],
   "source": [
    "fig = px.bar(\n",
    "    tbl_violencia_medio.sort_values(\"cantidad\", ascending=False),\n",
    "    x=\"cantidad\",\n",
    "    y=\"violencia\",\n",
    "    color=\"Medio\",\n",
    "    title=\"Tipo de violencia según el medio por el cual ocurrió\",\n",
    "    barmode=\"stack\",\n",
    "    orientation=\"h\",\n",
    "    color_discrete_sequence=px.colors.qualitative.Bold,\n",
    "    width=1600,\n",
    "    height=600,\n",
    ")\n",
    "fig.update_layout(\n",
    "    font=dict(family=\"Arial\", size=16, color=\"black\"),\n",
    ")\n",
    "fig.update_yaxes(title=\"Violencia\")\n",
    "fig.update_xaxes(title=\"% de mujeres\")\n",
    "fig.show()\n",
    "fig.write_image(\"img/violencia_medio1.png\")"
   ]
  },
  {
   "cell_type": "markdown",
   "id": "c2b8966c-ca08-4ec8-9db1-0ca8d98dae43",
   "metadata": {},
   "source": [
    "#### Parentesco de la persona agresora con las mujeres que han sufrido violencias"
   ]
  },
  {
   "cell_type": "code",
   "execution_count": null,
   "id": "ad52982f-de00-4a6a-aac1-9c12b1f7898b",
   "metadata": {
    "tags": []
   },
   "outputs": [],
   "source": [
    "lista_df_parentescos = [\n",
    "    parentesco_identidad[2],\n",
    "    parentesco_ciberacoso[2],\n",
    "    parentesco_doxxing[2],\n",
    "    parentesco_ciberdifamacion[2],\n",
    "    parentesco_stalking[2],\n",
    "    parentesco_ciberextorsion[2],\n",
    "    parentesco_explotacion[2],\n",
    "    parentesco_cyberflashing[2],\n",
    "    parentesco_deepfake[2],\n",
    "    parentesco_clonacion[2],\n",
    "]"
   ]
  },
  {
   "cell_type": "code",
   "execution_count": null,
   "id": "79bb56e7-3e77-4af6-8223-344132f5c645",
   "metadata": {
    "tags": []
   },
   "outputs": [],
   "source": [
    "parentescos_ = [\n",
    "    \"identidad\",\n",
    "    \"ciberacoso\",\n",
    "    \"doxxing\",\n",
    "    \"ciberdifamacion\",\n",
    "    \"stalking\",\n",
    "    \"ciberextorsion\",\n",
    "    \"explotacion\",\n",
    "    \"cyberflashing\",\n",
    "    \"deepfake\",\n",
    "    \"clonacion\",\n",
    "]"
   ]
  },
  {
   "cell_type": "code",
   "execution_count": null,
   "id": "e3b9dab0-6909-4abe-827f-d369410a3316",
   "metadata": {
    "tags": []
   },
   "outputs": [],
   "source": [
    "for i, j in zip(lista_df_parentescos, parentescos_):\n",
    "    if j in violencias_nombres.keys():\n",
    "        ls_index = [violencias_nombres[j]] * len(i)\n",
    "    i[\"violencia\"] = ls_index"
   ]
  },
  {
   "cell_type": "code",
   "execution_count": null,
   "id": "2ec8ef0e-97a5-4998-98c2-8e246eb700fd",
   "metadata": {
    "tags": []
   },
   "outputs": [],
   "source": [
    "tbl_parentesco_ = pd.concat(lista_df_parentescos)"
   ]
  },
  {
   "cell_type": "code",
   "execution_count": null,
   "id": "3d09ef0e-7547-4967-8b43-a594f7190926",
   "metadata": {
    "tags": []
   },
   "outputs": [],
   "source": [
    "tbl_parentesco_.reset_index(inplace=True)"
   ]
  },
  {
   "cell_type": "code",
   "execution_count": null,
   "id": "327acac7-0da6-4a27-92d9-952fb08d9116",
   "metadata": {
    "tags": []
   },
   "outputs": [],
   "source": [
    "fig = px.bar(\n",
    "    tbl_parentesco_,\n",
    "    x=\"violencia\",\n",
    "    y=\"count\",\n",
    "    color=\"parentesco\",\n",
    "    title=\"Parentesco de la persona agresora con las mujeres que han sufrido violencias\",\n",
    "    barmode=\"group\",\n",
    "    color_discrete_sequence=px.colors.qualitative.Plotly,\n",
    "    width=1500,\n",
    "    height=1000,\n",
    ")\n",
    "fig.update_layout(\n",
    "    legend_title=\"Parentesco con el agresor(a):\",\n",
    "    font=dict(family=\"Arial\", size=18, color=\"black\"),\n",
    ")\n",
    "fig.update_xaxes(title=\"Violencia\")\n",
    "fig.update_yaxes(title=\"% de mujeres\")\n",
    "fig.show()\n",
    "fig.write_image(\"img/violencia_parentesco1.png\")"
   ]
  },
  {
   "cell_type": "markdown",
   "id": "e1fb8106-c5d9-43c5-b275-00b48a3b418e",
   "metadata": {},
   "source": [
    "NOTA: Para las siguientes violencias, la pregunta sobre parentesco se reformuló consultando si se logró o no identificar al agresor(a)."
   ]
  },
  {
   "cell_type": "code",
   "execution_count": null,
   "id": "09f90288-6812-45ea-b930-7afd81bc3d17",
   "metadata": {
    "tags": []
   },
   "outputs": [],
   "source": [
    "parentesco_violencia = tbl_parentesco_.pivot(\n",
    "    index=\"violencia\", columns=\"parentesco\", values=\"count\"\n",
    ").fillna(0)"
   ]
  },
  {
   "cell_type": "code",
   "execution_count": null,
   "id": "713ae42c-3d82-4c5d-aade-5859e0a73a8e",
   "metadata": {
    "tags": []
   },
   "outputs": [],
   "source": [
    "tbl_grooPt = pd.concat(\n",
    "    [parentesco_grooming[2], parentesco_phishing_vs[2], parentesco_trata[2]],\n",
    "    axis=1,\n",
    "    keys=[\"Grooming\", \"Phishing\", \"Trata\"],\n",
    ").T.reset_index(level=1, drop=True)\n",
    "tbl_grooPt"
   ]
  },
  {
   "cell_type": "markdown",
   "id": "85ee7b90-61d5-483b-b803-18a4288b4d39",
   "metadata": {},
   "source": [
    "NOTA: Para mobbing, por la naturaleza de la agresión, la víctima conoce a su agresor(a)."
   ]
  },
  {
   "cell_type": "code",
   "execution_count": null,
   "id": "86653670-41ca-43bc-9667-2286cfeb2701",
   "metadata": {
    "tags": []
   },
   "outputs": [],
   "source": [
    "tbl_parentesco_mobbing = parentesco_mobbing[1]"
   ]
  },
  {
   "cell_type": "code",
   "execution_count": null,
   "id": "18fc21ac-d941-4804-a36a-724a61b6b7e2",
   "metadata": {
    "tags": []
   },
   "outputs": [],
   "source": [
    "tbl_parentesco_mobbing.astype({\"count\": \"int\"}).rename_axis(\n",
    "    index={\"parentesco_mobbing\": \"Relación laboral\"}\n",
    ").rename(columns={\"count\": \"N° de mujeres\"})"
   ]
  },
  {
   "cell_type": "markdown",
   "id": "a6f3448e-9124-422c-83ae-bac70baa2f16",
   "metadata": {},
   "source": [
    "#### Identificación de la persona agresora"
   ]
  },
  {
   "cell_type": "code",
   "execution_count": null,
   "id": "a54eac4c-b6f4-40db-825a-90a97761fc3b",
   "metadata": {
    "tags": []
   },
   "outputs": [],
   "source": [
    "tbl_identificacion_si = pd.DataFrame(\n",
    "    parentesco_violencia[\n",
    "        [\n",
    "            \"Fue mi ex-pareja en ese momento\",\n",
    "            \"Fue mi pareja\",\n",
    "            \"Fue un compañero(a) de trabajo\",\n",
    "            \"Fue un familiar\",\n",
    "            \"No conocía a quien me agredió, pero le identifiqué\",\n",
    "            \"Teníamos una amistad\",\n",
    "        ]\n",
    "    ].sum(1)\n",
    ").rename(columns={0: \"Sí\"})"
   ]
  },
  {
   "cell_type": "code",
   "execution_count": null,
   "id": "33a7a02d-75bb-4fc7-ae26-b4ddc64fbdd0",
   "metadata": {
    "tags": []
   },
   "outputs": [],
   "source": [
    "tbl_identificacion_no = pd.DataFrame(\n",
    "    parentesco_violencia[\"No le pude identificar\"]\n",
    ").rename(columns={\"No le pude identificar\": \"No\"})"
   ]
  },
  {
   "cell_type": "code",
   "execution_count": null,
   "id": "bb4f7911-9e01-44a1-9d2b-63171adcd2a7",
   "metadata": {
    "tags": []
   },
   "outputs": [],
   "source": [
    "tabla_identificacion = pd.concat(\n",
    "    [tbl_identificacion_si.join(tbl_identificacion_no), tbl_grooPt]\n",
    ")"
   ]
  },
  {
   "cell_type": "code",
   "execution_count": null,
   "id": "c7f8f60b-1e44-4d31-8ad8-c3dcca67eb23",
   "metadata": {
    "tags": []
   },
   "outputs": [],
   "source": [
    "porcentaje_identificacion = round(\n",
    "    (tabla_identificacion.T / tabla_identificacion.sum(1) * 100).T, 2\n",
    ")"
   ]
  },
  {
   "cell_type": "code",
   "execution_count": null,
   "id": "20b12243-1977-4b48-88d3-e4efb69ae04e",
   "metadata": {
    "tags": []
   },
   "outputs": [],
   "source": [
    "fig = px.bar(\n",
    "    porcentaje_identificacion,\n",
    "    barmode=\"group\",\n",
    "    text_auto=\"True\",\n",
    "    color_discrete_map={\"Sí\": \"rgb(149, 27, 129)\", \"No\": \"rgb(57, 105, 172)\"},\n",
    "    width=1500,\n",
    "    height=1000,\n",
    ")\n",
    "fig.update_layout(\n",
    "    title=\"Identificación del agresor\",\n",
    "    xaxis_title=\"Violencia\",\n",
    "    yaxis_title=\"% de mujeres\",\n",
    "    legend_title=\"¿Identificó al agresor?\",\n",
    "    font=dict(\n",
    "        family=\"Arial\",\n",
    "        size=18,\n",
    "        color=\"black\",\n",
    "    ),\n",
    ")\n",
    "fig.update_traces(\n",
    "    textfont_size=18,\n",
    "    textangle=0,\n",
    "    textposition=\"outside\",\n",
    "    cliponaxis=False,\n",
    "    texttemplate=\"%{value} %\",\n",
    ")\n",
    "\n",
    "fig.show()\n",
    "fig.write_image(\"img/id_agresor.png\")"
   ]
  },
  {
   "cell_type": "markdown",
   "id": "ef9ff0da-5256-4e4d-be36-49bfe7b79ba0",
   "metadata": {},
   "source": [
    "#### Sexo del agresor por tipo de violencia"
   ]
  },
  {
   "cell_type": "code",
   "execution_count": null,
   "id": "2cb3ce0c-b316-47b3-9757-4fa9f988a1f1",
   "metadata": {
    "tags": []
   },
   "outputs": [],
   "source": [
    "variables_sexo = [\n",
    "    \"sexo_identidad\",\n",
    "    \"sexo_ciberacoso\",\n",
    "    \"sexo_doxxing\",\n",
    "    \"sexo_mobbing\",\n",
    "    \"sexo_ciberdifamacion\",\n",
    "    \"sexo_stalking\",\n",
    "    \"sexo_ciberextorsion\",\n",
    "    \"sexo_grooming\",\n",
    "    \"sexo_phishing_vs\",\n",
    "    \"sexo_trata\",\n",
    "    \"sexo_explotacion\",\n",
    "    \"sexo_cyberflashing\",\n",
    "    \"sexo_deepfake\",\n",
    "    \"sexo_clonacion\",\n",
    "    \"sexo_violencias\",\n",
    "]"
   ]
  },
  {
   "cell_type": "code",
   "execution_count": null,
   "id": "1040cf0e-8035-49ee-afe8-e5aa44ec0398",
   "metadata": {
    "tags": []
   },
   "outputs": [],
   "source": [
    "sexo_violencias = []\n",
    "names_ = []\n",
    "for i in variables_sexo:\n",
    "    df = vars()[i]\n",
    "    names_.append(df[1].index.name.split)\n",
    "    sexo_violencias.append(df[1])"
   ]
  },
  {
   "cell_type": "code",
   "execution_count": null,
   "id": "8c9cca26-69d4-4c38-802e-f680c322d818",
   "metadata": {
    "tags": []
   },
   "outputs": [],
   "source": [
    "tbl_sexo_violencias = (\n",
    "    pd.concat(\n",
    "        sexo_violencias,\n",
    "        join=\"outer\",\n",
    "        axis=1,\n",
    "        keys=[\n",
    "            \"Duplicación de identidad\",\n",
    "            \"Ciberacoso\",\n",
    "            \"Doxxing\",\n",
    "            \"Mobbing\",\n",
    "            \"Ciberdifamación\",\n",
    "            \"Cibervigilancia (stalking)\",\n",
    "            \"Ciberextorsión\",\n",
    "            \"Grooming\",\n",
    "            \"Phishing/Vishing/Smishing\",\n",
    "            \"Trata de personas en línea\",\n",
    "            \"Captación con fines de explotación sexual\",\n",
    "            \"Cyberflashing\",\n",
    "            \"Deepfake\",\n",
    "            \"Clonación\",\n",
    "        ],\n",
    "    )\n",
    "    .T.reset_index(1, drop=True)\n",
    "    .fillna(0)\n",
    ")"
   ]
  },
  {
   "cell_type": "code",
   "execution_count": null,
   "id": "244b6e5c-ea8c-4ca0-b61f-9c654311955e",
   "metadata": {
    "tags": []
   },
   "outputs": [],
   "source": [
    "sexo_porcentaje = round((tbl_sexo_violencias.T / tbl_sexo_violencias.sum(1) * 100).T, 2)"
   ]
  },
  {
   "cell_type": "code",
   "execution_count": null,
   "id": "8d76c71d-dd9f-4446-89bb-8640bbfa988b",
   "metadata": {
    "tags": []
   },
   "outputs": [],
   "source": [
    "fig = px.bar(\n",
    "    sexo_porcentaje,\n",
    "    barmode=\"group\",\n",
    "    color_discrete_sequence=[\n",
    "        \"rgb(149, 27, 129)\",\n",
    "        \"rgb(57, 105, 172)\",\n",
    "        \"rgb(7, 171, 157)\",\n",
    "    ],\n",
    "    width=1500,\n",
    "    height=1000,\n",
    "    text_auto=True,\n",
    ")\n",
    "fig.update_layout(\n",
    "    title=\"Sexo del agresor por tipo de violencia\",\n",
    "    xaxis_title=\"Violencia\",\n",
    "    yaxis_title=\"% de mujeres\",\n",
    "    legend_title=\"Sexo del agresor(a)\",\n",
    "    font=dict(\n",
    "        family=\"Arial\",\n",
    "        size=18,\n",
    "        color=\"black\",\n",
    "    ),\n",
    ")\n",
    "fig.update_traces(\n",
    "    textfont_size=18,\n",
    "    textangle=0,\n",
    "    textposition=\"outside\",\n",
    "    cliponaxis=False,\n",
    "    texttemplate=\"%{value: } %\",\n",
    ")\n",
    "\n",
    "fig.show()\n",
    "fig.write_image(\"img/sexo_agresor_violencia.png\")"
   ]
  },
  {
   "cell_type": "code",
   "execution_count": null,
   "id": "7d6041fc-d606-4389-889e-4ce081982d44",
   "metadata": {
    "tags": []
   },
   "outputs": [],
   "source": [
    "cruce = porcentaje_identificacion.join(sexo_porcentaje)"
   ]
  },
  {
   "cell_type": "code",
   "execution_count": null,
   "id": "20493171-93bd-4b46-b9dd-1336cff2dd2d",
   "metadata": {
    "tags": []
   },
   "outputs": [],
   "source": [
    "cruce.columns = pd.MultiIndex.from_tuples(\n",
    "    [\n",
    "        (\"Sí\", \"%\"),\n",
    "        (\"No\", \"%\"),\n",
    "        (\"Sí\", \"Mujer\"),\n",
    "        (\"Sí\", \"Hombre\"),\n",
    "        (\"Sí\", \"Un grupo de personas\"),\n",
    "    ]\n",
    ")"
   ]
  },
  {
   "cell_type": "code",
   "execution_count": null,
   "id": "f7f79bdd-91a3-4d7e-aefb-02a2fe937706",
   "metadata": {},
   "outputs": [],
   "source": [
    "variables = [\n",
    "    s\n",
    "    for s in tbl_identidad.columns\n",
    "    if s.startswith(\"sexo_\") or s.startswith(\"parentesco_\")\n",
    "]"
   ]
  },
  {
   "cell_type": "code",
   "execution_count": null,
   "id": "65c3158f-3f68-494f-9ae1-80488a937f4f",
   "metadata": {
    "tags": []
   },
   "outputs": [],
   "source": [
    "lista = []\n",
    "for j, k in zip(tbl_identidad[variables[0]], tbl_identidad[variables[1]]):\n",
    "    if j != \"No le pude identificar\" and j != \"No\":\n",
    "        lista.append((j, k))\n",
    "df = pd.DataFrame(lista, columns=[\"Parentesco\", \"Sexo\"]).value_counts()"
   ]
  },
  {
   "cell_type": "code",
   "execution_count": null,
   "id": "24cea316-02b8-435c-a213-517a6806d822",
   "metadata": {
    "tags": []
   },
   "outputs": [],
   "source": [
    "dic_sexo = {}\n",
    "for i in [s for s in violencias if s != \"exclusion\"]:\n",
    "    lista = []\n",
    "    g = datos.query(f\"{i} == 1\")\n",
    "    for j, k in zip(g[dic_violencias[i][4]], g[dic_violencias[i][5]]):\n",
    "        if j != \"No le pude identificar\" and j != \"No\":\n",
    "            lista.append((j, k))\n",
    "    dic_sexo[i] = pd.DataFrame(lista, columns=[\"Parentesco\", \"Sexo\"]).value_counts()"
   ]
  },
  {
   "cell_type": "code",
   "execution_count": null,
   "id": "e56bf971-8dcf-49a1-9fed-70c39855272c",
   "metadata": {},
   "outputs": [],
   "source": [
    "for i in [s for s in violencias if s != \"exclusion\"]:\n",
    "    lista = []\n",
    "    g = datos.query(f\"{i} == 1\")\n",
    "    for j, k in zip(g[dic_violencias[i][4]], g[dic_violencias[i][5]]):\n",
    "        if j != \"No le pude identificar\" and j != \"No\":\n",
    "            lista.append((j, k))\n",
    "    dic_sexo[i] = pd.DataFrame(lista, columns=[\"Parentesco\", \"Sexo\"]).value_counts()"
   ]
  },
  {
   "cell_type": "markdown",
   "id": "a5109860-b877-4445-9093-f9bd0f9b56a7",
   "metadata": {
    "tags": []
   },
   "source": [
    "#### Sexo del agresor(a) y parentesco con la víctima por tipo de violencia"
   ]
  },
  {
   "cell_type": "code",
   "execution_count": null,
   "id": "9ded8b57-c07d-4ae1-bf7f-6a0a8c7a497f",
   "metadata": {
    "tags": []
   },
   "outputs": [],
   "source": [
    "dic_sexo = {}\n",
    "for i in [s for s in violencias if s != \"exclusion\"]:\n",
    "    lista = []\n",
    "    g = datos.query(f\"{i} == 1\")\n",
    "    for j, k in zip(g[dic_violencias[i][4]], g[dic_violencias[i][5]]):\n",
    "        if j != \"No le pude identificar\" and j != \"No\":\n",
    "            lista.append((i, j, k))\n",
    "    dic_sexo[i] = pd.DataFrame(\n",
    "        lista, columns=[\"Violencia\", \"Parentesco\", \"Sexo\"]\n",
    "    ).value_counts()"
   ]
  },
  {
   "cell_type": "code",
   "execution_count": null,
   "id": "a7732003-d15d-47a1-91f5-5261d66de294",
   "metadata": {
    "tags": []
   },
   "outputs": [],
   "source": [
    "lista_sexo = [\n",
    "    dic_sexo[i].reset_index(level=0, drop=True)\n",
    "    for i in dic_sexo\n",
    "    if i\n",
    "    in [\n",
    "        \"identidad\",\n",
    "        \"ciberacoso\",\n",
    "        \"doxxing\",\n",
    "        \"ciberdifamacion\",\n",
    "        \"stalking\",\n",
    "        \"ciberextorsion\",\n",
    "        \"explotacion\",\n",
    "        \"cyberflashing\",\n",
    "        \"deepfake\",\n",
    "        \"clonacion\",\n",
    "    ]\n",
    "]"
   ]
  },
  {
   "cell_type": "code",
   "execution_count": null,
   "id": "a2aad090-19c3-4518-ae07-4a76844b78b0",
   "metadata": {
    "tags": []
   },
   "outputs": [],
   "source": [
    "lista_parentesco_sexo = [\n",
    "    round(dic_sexo[i] / dic_sexo[i].sum() * 100, 2).reset_index()\n",
    "    for i in dic_sexo\n",
    "    if i\n",
    "    in [\n",
    "        \"identidad\",\n",
    "        \"ciberacoso\",\n",
    "        \"doxxing\",\n",
    "        \"ciberdifamacion\",\n",
    "        \"stalking\",\n",
    "        \"ciberextorsion\",\n",
    "        \"explotacion\",\n",
    "        \"cyberflashing\",\n",
    "        \"deepfake\",\n",
    "        \"clonacion\",\n",
    "    ]\n",
    "]"
   ]
  },
  {
   "cell_type": "code",
   "execution_count": null,
   "id": "30f7b0bf-f343-4603-9879-75a8832406ed",
   "metadata": {
    "tags": []
   },
   "outputs": [],
   "source": [
    "porcentaje_parentesco_sexo = pd.concat(lista_parentesco_sexo)"
   ]
  },
  {
   "cell_type": "code",
   "execution_count": null,
   "id": "12a0e4d7-d43e-49c9-b403-6e00c12bdeb1",
   "metadata": {
    "tags": []
   },
   "outputs": [],
   "source": [
    "porcentaje_parentesco_sexo.Violencia.replace(violencias_nombres, inplace=True)"
   ]
  },
  {
   "cell_type": "code",
   "execution_count": null,
   "id": "ccfde11d-e42e-4d4e-8549-e0642ddc4055",
   "metadata": {
    "tags": []
   },
   "outputs": [],
   "source": [
    "porcentaje_parentesco_sexo.reset_index(drop=True, inplace=True)"
   ]
  },
  {
   "cell_type": "code",
   "execution_count": null,
   "id": "d2fe041d-d64c-4f5f-b7c9-9837288d9692",
   "metadata": {
    "tags": []
   },
   "outputs": [],
   "source": [
    "fig = px.bar(\n",
    "    porcentaje_parentesco_sexo,\n",
    "    x=\"Parentesco\",\n",
    "    y=\"count\",\n",
    "    color=\"Sexo\",\n",
    "    barmode=\"group\",\n",
    "    facet_col=\"Violencia\",\n",
    "    facet_col_wrap=2,\n",
    "    color_discrete_map={\"Mujer\": \"rgb(149, 27, 129)\", \"Hombre\": \"rgb(57, 105, 172)\"},\n",
    "    width=1000,\n",
    "    height=1500,\n",
    "    text_auto=True,\n",
    ")\n",
    "fig.update_layout(\n",
    "    title=\"Sexo del agresor(a) y parentesco con la víctima por tipo de violencia\",\n",
    "    legend_title=\"Sexo del agresor(a)\",\n",
    "    font=dict(\n",
    "        family=\"Arial\",\n",
    "        size=14,\n",
    "        color=\"black\",\n",
    "    ),\n",
    ")\n",
    "fig.update_traces(\n",
    "    textfont_size=18,\n",
    "    textangle=0,\n",
    "    textposition=\"outside\",\n",
    "    cliponaxis=False,\n",
    "    texttemplate=\"%{value} %\",\n",
    ")\n",
    "fig.for_each_annotation(lambda a: a.update(text=a.text.split(\"=\")[-1]))\n",
    "fig.for_each_yaxis(lambda y: y.update(title=\"\"))\n",
    "fig.add_annotation(\n",
    "    x=-0.07,\n",
    "    y=0.5,\n",
    "    text=\"% de incidencias\",\n",
    "    textangle=-90,\n",
    "    xref=\"paper\",\n",
    "    yref=\"paper\",\n",
    ")\n",
    "fig.show()\n",
    "fig.write_image(\"img/violencia_parentesco_sexo.png\")"
   ]
  },
  {
   "cell_type": "code",
   "execution_count": null,
   "id": "cf9710f4-da1b-4707-8f7f-7f2281d9604a",
   "metadata": {
    "tags": []
   },
   "outputs": [],
   "source": [
    "tbl_parentesco_sexo = (\n",
    "    pd.concat(\n",
    "        lista_sexo,\n",
    "        join=\"outer\",\n",
    "        keys=[\n",
    "            \"identidad\",\n",
    "            \"ciberacoso\",\n",
    "            \"doxxing\",\n",
    "            \"ciberdifamacion\",\n",
    "            \"stalking\",\n",
    "            \"ciberextorsion\",\n",
    "            \"explotacion\",\n",
    "            \"cyberflashing\",\n",
    "            \"deepfake\",\n",
    "            \"clonacion\",\n",
    "        ],\n",
    "        axis=1,\n",
    "    )\n",
    "    .fillna(0)\n",
    "    .sort_index(level=0)\n",
    "    .T\n",
    ")"
   ]
  },
  {
   "cell_type": "markdown",
   "id": "e859be86-50dd-481c-bc1e-0ff53af8c13a",
   "metadata": {},
   "source": [
    "#### Sexo del agresor(a) y parentesco con la víctima por tipo de violencia: individual"
   ]
  },
  {
   "cell_type": "code",
   "execution_count": null,
   "id": "b47ad67e-625a-4229-9f25-75bdf4802f5e",
   "metadata": {
    "tags": []
   },
   "outputs": [],
   "source": [
    "sp_df = []\n",
    "for i in lista_parentesco_sexo:\n",
    "    df = i.pivot(index=\"Parentesco\", columns=\"Sexo\", values=\"count\").fillna(0)\n",
    "    df.Hombre = df.Hombre * -1\n",
    "    sp_df.append(df)"
   ]
  },
  {
   "cell_type": "code",
   "execution_count": null,
   "id": "6f5a657c-38b3-435b-b83c-edeb9f32b4ea",
   "metadata": {
    "tags": []
   },
   "outputs": [],
   "source": [
    "for i, j in zip(sp_df, lista_parentesco_sexo):\n",
    "    v = j.Violencia[1]\n",
    "    if len(i.columns) < 2:\n",
    "        print(v, \"Son solo hombres\")\n",
    "    else:\n",
    "        if v in violencias_nombres.keys():\n",
    "            # Creating instance of the figure\n",
    "            fig = go.Figure()\n",
    "\n",
    "            # Adding Male data to the figure\n",
    "            fig.add_trace(\n",
    "                go.Bar(\n",
    "                    y=i.index,\n",
    "                    x=i.Hombre,\n",
    "                    name=\"Hombre\",\n",
    "                    orientation=\"h\",\n",
    "                    text=-1 * i.Hombre.values.astype(\"float\"),\n",
    "                    marker_color=\"rgb(57, 105, 172)\",\n",
    "                )\n",
    "            )\n",
    "\n",
    "            # Adding Female data to the figure\n",
    "            fig.add_trace(\n",
    "                go.Bar(\n",
    "                    y=i.index,\n",
    "                    x=i.Mujer,\n",
    "                    name=\"Mujer\",\n",
    "                    orientation=\"h\",\n",
    "                    text=i.Mujer,\n",
    "                    marker_color=\"rgb(149, 27, 129)\",\n",
    "                )\n",
    "            )\n",
    "\n",
    "            # Updating the layout for our graph\n",
    "            fig.update_layout(\n",
    "                title=\" \".join(\n",
    "                    [\n",
    "                        \"Sexo del agresor(a) y parentesco con la víctima de\",\n",
    "                        violencias_nombres[v].casefold(),\n",
    "                    ]\n",
    "                ),\n",
    "                legend_title=\"Sexo del agresor\",\n",
    "                title_font_size=22,\n",
    "                barmode=\"relative\",\n",
    "                bargap=0.0,\n",
    "                bargroupgap=0.5,\n",
    "                xaxis=dict(\n",
    "                    title=\"% de Mujeres\",\n",
    "                    title_font_size=14,\n",
    "                    tickvals=[-100, -50, 0, 0, 50, 100],\n",
    "                    ticktext=[\"100\", \"50\", \"0\", \"0\", \"50\", \"100\"],\n",
    "                ),\n",
    "                width=1500,\n",
    "                height=600,\n",
    "                margin=dict(l=30),\n",
    "                font=dict(\n",
    "                    family=\"Arial\",\n",
    "                    size=18,\n",
    "                    color=\"black\",\n",
    "                ),\n",
    "            )\n",
    "            fig.update_traces(\n",
    "                textfont_size=10,\n",
    "                textangle=0,\n",
    "                textposition=\"outside\",\n",
    "                cliponaxis=False,\n",
    "                texttemplate=\"%{text: 4}%\",\n",
    "            )\n",
    "            fig.show()\n",
    "            fig.write_image(\"\".join([\"img/piramide_\", v, \".png\"]))"
   ]
  },
  {
   "cell_type": "code",
   "execution_count": null,
   "id": "cdc27144-5927-4dd3-9a14-9e7db824ba0d",
   "metadata": {
    "tags": []
   },
   "outputs": [],
   "source": [
    "veces_violencias = [s for s in list(datos.columns) if \"veces_\" in s]"
   ]
  },
  {
   "cell_type": "code",
   "execution_count": null,
   "id": "e8ddb7d0-87b8-40d0-a01c-2551b3a56c01",
   "metadata": {
    "tags": []
   },
   "outputs": [],
   "source": [
    "violencias_6 = [s for s in list(datos.columns) if \"6_\" in s]"
   ]
  },
  {
   "cell_type": "code",
   "execution_count": null,
   "id": "d9f5c8ba-3d51-4497-b8f3-3a8c9568ac2b",
   "metadata": {
    "tags": []
   },
   "outputs": [],
   "source": [
    "r_inf = []\n",
    "r_sup = []\n",
    "for i in datos[\"edad\"]:\n",
    "    if i == \"Más de 60\":\n",
    "        r_inf.append(60)\n",
    "        r_sup.append(100)\n",
    "    else:\n",
    "        r_inf.append(int(i.split(\"-\")[0]))\n",
    "        r_sup.append(int(i.split(\"-\")[1]))"
   ]
  },
  {
   "cell_type": "markdown",
   "id": "bdfc4410-adc5-4121-bf8e-21cfb78fd25a",
   "metadata": {},
   "source": [
    "#### Violencias por ocupación"
   ]
  },
  {
   "cell_type": "code",
   "execution_count": null,
   "id": "09023b9a-af21-415b-95ac-d6d61a4259ec",
   "metadata": {
    "tags": []
   },
   "outputs": [],
   "source": [
    "dict_violencias_ocupaciones = {}\n",
    "for i in violencias:\n",
    "    df = datos.query(f\"{i} == 1 and ocupacion != 'Otra'\")[\"ocupacion\"].value_counts()\n",
    "    df = round(df[:10] / df.sum() * 100, 2)\n",
    "    dict_violencias_ocupaciones[violencias_nombres[i]] = df"
   ]
  },
  {
   "cell_type": "code",
   "execution_count": null,
   "id": "e657594c-634f-417e-8a8c-3d429efc31d3",
   "metadata": {
    "tags": []
   },
   "outputs": [],
   "source": [
    "tbl_vo = pd.DataFrame.from_dict(dict_violencias_ocupaciones, orient=\"index\").fillna(0)"
   ]
  },
  {
   "cell_type": "code",
   "execution_count": null,
   "id": "f41eefdc-49fc-4cfa-b431-3c426e6a9c42",
   "metadata": {
    "tags": []
   },
   "outputs": [],
   "source": [
    "fig = px.bar(\n",
    "    tbl_vo.sort_values(\"Abogado(a)\"),\n",
    "    orientation=\"h\",\n",
    "    color_discrete_sequence=px.colors.qualitative.Bold,\n",
    "    width=1500,\n",
    "    height=800,\n",
    ")\n",
    "fig.update_layout(\n",
    "    title=\"Ocupaciones más frecuentes por violencia sufrida\",\n",
    "    xaxis_title=\"% de mujeres\",\n",
    "    yaxis_title=\"Violencia\",\n",
    "    legend_title=\"Ocupaciones\",\n",
    "    font=dict(\n",
    "        family=\"Arial\",\n",
    "        size=18,\n",
    "        color=\"black\",\n",
    "    ),\n",
    ")\n",
    "\n",
    "fig.show()\n",
    "fig.write_image(\"img/violencia_ocupacion.png\")"
   ]
  },
  {
   "cell_type": "markdown",
   "id": "4790d90e-090f-4846-8a06-79c9f4e3c446",
   "metadata": {},
   "source": [
    "#### Violencias por estados"
   ]
  },
  {
   "cell_type": "code",
   "execution_count": null,
   "id": "77e83b4a-0163-4c67-ba69-be9ec449421c",
   "metadata": {
    "tags": []
   },
   "outputs": [],
   "source": [
    "for i in violencias:\n",
    "    df_ = datos.query(f\"{i} == 1\")[\"estado\"].value_counts()\n",
    "    df = df_ / df_.sum() * 100\n",
    "\n",
    "    lista_valores = []\n",
    "    for j in df_mapa.ESTADO:\n",
    "        if j in df.index:\n",
    "            lista_valores.append(df.loc[j])\n",
    "        else:\n",
    "            lista_valores.append(0)\n",
    "    df_mapa[violencias_nombres[i]] = lista_valores"
   ]
  },
  {
   "cell_type": "code",
   "execution_count": null,
   "id": "0e0180cc-d893-4f64-b2d5-f61936cea296",
   "metadata": {
    "tags": []
   },
   "outputs": [],
   "source": [
    "tbl_violencia_estado = df_mapa.drop(columns=\"Mujeres\")"
   ]
  },
  {
   "cell_type": "code",
   "execution_count": null,
   "id": "39cf1200-f067-43e7-bf24-a7b1d9634593",
   "metadata": {
    "tags": []
   },
   "outputs": [],
   "source": [
    "tbl_ve = (\n",
    "    pd.melt(\n",
    "        tbl_violencia_estado,\n",
    "        id_vars=[\"ESTADO\"],\n",
    "        value_vars=[violencias_nombres[s] for s in violencias_nombres.keys()],\n",
    "        var_name=\"violencia\",\n",
    "        value_name=\"porcentaje\",\n",
    "    )\n",
    "    .pivot(index=\"violencia\", columns=\"ESTADO\", values=\"porcentaje\")\n",
    "    .sort_index(axis=0)\n",
    ")"
   ]
  },
  {
   "cell_type": "code",
   "execution_count": null,
   "id": "56f50025-44f8-440a-8ad5-0a27780cb18f",
   "metadata": {
    "tags": []
   },
   "outputs": [],
   "source": [
    "fig = px.bar(\n",
    "    tbl_ve.sort_index(axis=1),\n",
    "    orientation=\"h\",\n",
    "    color_discrete_sequence=px.colors.qualitative.Bold,\n",
    "    width=1500,\n",
    "    height=800,\n",
    ")\n",
    "fig.update_layout(\n",
    "    title=\"Ubicación de las víctimas por violencia sufrida\",\n",
    "    xaxis_title=\"% de mujeres\",\n",
    "    yaxis_title=\"Violencia\",\n",
    "    legend_title=\"Estado\",\n",
    "    font=dict(\n",
    "        family=\"Arial\",\n",
    "        size=18,\n",
    "        color=\"black\",\n",
    "    ),\n",
    ")\n",
    "\n",
    "fig.show()\n",
    "fig.write_image(\"img/violencia_estado.png\")"
   ]
  },
  {
   "cell_type": "markdown",
   "id": "fc4e9e8c-3030-4aef-95cd-2a9b8bd35da1",
   "metadata": {},
   "source": [
    "#### Promedio de incidencias"
   ]
  },
  {
   "cell_type": "code",
   "execution_count": null,
   "id": "b2078ff3-8587-4308-978e-b7a524e74e58",
   "metadata": {
    "tags": []
   },
   "outputs": [],
   "source": [
    "round(\n",
    "    (tbl_numero_violencia.index * tbl_numero_violencia[\"count\"]).sum()\n",
    "    / tbl_numero_violencia.sum().iloc[0],\n",
    "    3,\n",
    ")"
   ]
  },
  {
   "cell_type": "markdown",
   "id": "0bfb2325-a87a-46ef-ac32-70b3c2b2b973",
   "metadata": {},
   "source": [
    "En promedio una mujer es víctima de 3 violencias."
   ]
  },
  {
   "cell_type": "markdown",
   "id": "beb8d3ca-4400-4807-b7e1-869c903772b0",
   "metadata": {},
   "source": [
    "#### Cantidad de veces en que la víctima reporta haber sufrido la violencia"
   ]
  },
  {
   "cell_type": "code",
   "execution_count": null,
   "id": "9d8403b3-0e51-4379-a997-c36887abdbcc",
   "metadata": {
    "tags": []
   },
   "outputs": [],
   "source": [
    "repeticiones = []\n",
    "for j in [i for i in list(vars().keys()) if \"frecuencia_\" in i]:\n",
    "    df = vars()[j][2].rename(columns={\"count\": fg.violencias_names[j.split(\"_\")[1]]})\n",
    "    df.rename(index={\"Sólo una vez\": \"Solo una vez\"}, inplace=True)\n",
    "    repeticiones.append(df)"
   ]
  },
  {
   "cell_type": "code",
   "execution_count": null,
   "id": "03a60039-d55c-4652-938d-62ef906f6da1",
   "metadata": {
    "tags": []
   },
   "outputs": [],
   "source": [
    "tbl_repeticiones = pd.concat(repeticiones, axis=1).fillna(0).T"
   ]
  },
  {
   "cell_type": "code",
   "execution_count": null,
   "id": "06e1bfc9-e815-4caa-8fe0-4bdef8a79820",
   "metadata": {},
   "outputs": [],
   "source": [
    "fig = px.bar(\n",
    "    tbl_repeticiones.sort_values(\"Solo una vez\"),\n",
    "    orientation=\"h\",\n",
    "    color_discrete_sequence=px.colors.qualitative.Bold,\n",
    "    width=1500,\n",
    "    height=800,\n",
    ")\n",
    "fig.update_layout(\n",
    "    title=\"Cantidad de veces que la víctima reporta haber sufrido la violencia\",\n",
    "    xaxis_title=\"% de mujeres\",\n",
    "    yaxis_title=\"Violencia\",\n",
    "    legend_title=\"Frecuencias\",\n",
    "    font=dict(\n",
    "        family=\"Arial\",\n",
    "        size=14,\n",
    "        color=\"black\",\n",
    "    ),\n",
    ")\n",
    "fig.update_traces(\n",
    "    textfont_size=18,\n",
    "    textangle=0,\n",
    "    cliponaxis=False,\n",
    "    marker_line_color=\"white\",\n",
    "    texttemplate=\"%{value: 4} %\",\n",
    ")\n",
    "fig.show()\n",
    "fig.write_image(\"img/repeticiones_violencia.png\")"
   ]
  },
  {
   "cell_type": "markdown",
   "id": "cf5de659-4704-4f01-bb33-913d63af07b6",
   "metadata": {},
   "source": [
    "#### Patrón de uso de aplicaciones por tipo de violencias y según medio más frecuente por el que ocurrió"
   ]
  },
  {
   "cell_type": "code",
   "execution_count": null,
   "id": "34894065-7c77-411b-907f-d5dbf6eb72c1",
   "metadata": {
    "scrolled": true,
    "tags": []
   },
   "outputs": [],
   "source": [
    "dict_medios_medios = {}\n",
    "medio_frecuente = []\n",
    "for i in violencias:\n",
    "    df = datos.query(f\"{i} == 1\")\n",
    "    variable = [s for s in df.columns if \"\".join([\"medio_\", i]) in s]\n",
    "    start_cols = list(range(23, 40))\n",
    "    var_idx = df.columns.get_loc(variable[0])\n",
    "    end_col = df.columns.get_loc(\"\".join([\"otraR_\", i]))\n",
    "\n",
    "    # concatenar rangos de columnas con np.r_[]\n",
    "    col_range = np.r_[start_cols, var_idx + 1 : end_col]\n",
    "\n",
    "    # seleccionar las columnas del DataFrame\n",
    "    info = df.iloc[:, col_range]\n",
    "\n",
    "    # Cálculo del valor máximo en el medio de la violencia\n",
    "    medio_mas_freq = info.loc[:, \"\".join([\"twitter_\", i]) :].sum().astype(int).idxmax()\n",
    "    medio_frecuente.append(medio_mas_freq.split(\"_\")[0])\n",
    "\n",
    "    df_medios = info.query(f\"{medio_mas_freq} == 1\")[redes]\n",
    "\n",
    "    dicts = {}\n",
    "    for red_app in redes:\n",
    "        dicts[red_app.capitalize()] = (\n",
    "            df_medios[[red_app]]\n",
    "            .value_counts()\n",
    "            .reset_index()\n",
    "            .set_index(red_app)[\"count\"]\n",
    "        )\n",
    "\n",
    "    aplicaciones = pd.DataFrame.from_dict(dicts, orient=\"index\").fillna(0)\n",
    "\n",
    "    dict_medios_medios[violencias_nombres[i]] = round(aplicaciones / len(df) * 100, 2)"
   ]
  },
  {
   "cell_type": "code",
   "execution_count": null,
   "id": "bd6e8d22-55e8-45a4-bea1-840454979283",
   "metadata": {
    "tags": []
   },
   "outputs": [],
   "source": [
    "for i, j in zip(dict_medios_medios.keys(), medio_frecuente):\n",
    "    fig = px.bar(\n",
    "        dict_medios_medios[i].sort_values(\"No la utilizo\"),\n",
    "        orientation=\"v\",\n",
    "        barmode=\"group\",\n",
    "        color_discrete_sequence=px.colors.qualitative.Bold,\n",
    "        width=1500,\n",
    "        height=800,\n",
    "    )\n",
    "    fig.update_layout(\n",
    "        title=f\"Patrón de uso de aplicaciones para {i.casefold()} sufrida por {j} \",\n",
    "        yaxis_title=\"% de mujeres\",\n",
    "        xaxis_title=\"Aplicación o red social\",\n",
    "        legend_title=\"Frecuencia de uso\",\n",
    "        font=dict(\n",
    "            family=\"Arial\",\n",
    "            size=18,\n",
    "            color=\"black\",\n",
    "        ),\n",
    "    )\n",
    "    fig.update_traces(\n",
    "        textfont_size=18,\n",
    "        textangle=0,\n",
    "        textposition=\"outside\",\n",
    "        cliponaxis=False,\n",
    "        texttemplate=\"%{value: 4}%\",\n",
    "    )\n",
    "    fig.show()\n",
    "    fig.write_image(f\"img/apps{i[:8]}.png\")"
   ]
  },
  {
   "cell_type": "markdown",
   "id": "12e09a05-a0cc-45d5-bc57-9255985c0e72",
   "metadata": {
    "tags": []
   },
   "source": [
    "#### Víctimas y conocimiento del nombre de la violencia que sufrieron"
   ]
  },
  {
   "cell_type": "code",
   "execution_count": null,
   "id": "9ce02b8c-0355-4073-91df-80d191c15c33",
   "metadata": {
    "tags": []
   },
   "outputs": [],
   "source": [
    "dict_conocimiento_frecuencia = {}\n",
    "for i in violencias:\n",
    "    df = datos.query(f\"{i} == 1\")[\"vdbg\"].value_counts()\n",
    "    dict_conocimiento_frecuencia[violencias_nombres[i]] = round(df / df.sum() * 100, 2)"
   ]
  },
  {
   "cell_type": "code",
   "execution_count": null,
   "id": "28c8f070-7283-400a-8feb-42ed24819bc1",
   "metadata": {},
   "outputs": [],
   "source": [
    "df_victima_conocimiento = pd.DataFrame.from_dict(\n",
    "    dict_conocimiento_frecuencia, orient=\"index\"\n",
    ").fillna(0)\n",
    "\n",
    "df_victima_conocimiento.columns.name = \"Conocimiento del nombre de la violencia\"\n",
    "\n",
    "df_victima_conocimiento"
   ]
  },
  {
   "cell_type": "markdown",
   "id": "e9dab04d-118c-41ab-a84a-6a22e68857bb",
   "metadata": {},
   "source": [
    "Esta tabla contiene la información de las mujeres que sufrieron las violencias y se compara con la respuesta de si conoce o no el nombre."
   ]
  },
  {
   "cell_type": "code",
   "execution_count": null,
   "id": "20530cde",
   "metadata": {
    "slideshow": {
     "slide_type": "skip"
    },
    "tags": []
   },
   "outputs": [],
   "source": [
    "# data = pd.read_pickle(\"vdbg_final.pkl\")\n",
    "\n",
    "data = pd.read_csv(\"datos_final.csv\", index_col=0)"
   ]
  },
  {
   "cell_type": "code",
   "execution_count": null,
   "id": "9b9aabb5",
   "metadata": {
    "slideshow": {
     "slide_type": "skip"
    },
    "tags": []
   },
   "outputs": [],
   "source": [
    "parentesco_lista = [\n",
    "    s for s in list(data.columns) if \"parentesco_\" in s or \"identificacion_\" in s\n",
    "]"
   ]
  },
  {
   "cell_type": "code",
   "execution_count": null,
   "id": "ebdabc1a",
   "metadata": {
    "slideshow": {
     "slide_type": "skip"
    },
    "tags": []
   },
   "outputs": [],
   "source": [
    "data.loc[:, parentesco_lista] = data[parentesco_lista].astype(\"category\")"
   ]
  },
  {
   "cell_type": "code",
   "execution_count": null,
   "id": "29b46e15",
   "metadata": {
    "slideshow": {
     "slide_type": "skip"
    },
    "tags": []
   },
   "outputs": [],
   "source": [
    "data.edad = data.edad.astype(\"category\").cat.set_categories(\n",
    "    [\"14-17\", \"18-25\", \"26-40\", \"41-60\", \"Más de 60\"], ordered=True\n",
    ")"
   ]
  },
  {
   "cell_type": "markdown",
   "id": "467de8fd-74cc-4492-9703-300e57b5b064",
   "metadata": {
    "slideshow": {
     "slide_type": "slide"
    },
    "tags": []
   },
   "source": [
    "Los siguientes resultados corresponden a los 21 **hombres** que respondieron la encuesta."
   ]
  },
  {
   "cell_type": "code",
   "execution_count": null,
   "id": "da6bc646",
   "metadata": {
    "slideshow": {
     "slide_type": "skip"
    },
    "tags": []
   },
   "outputs": [],
   "source": [
    "data.horas_internet = data.horas_internet.astype(\"category\").cat.set_categories(\n",
    "    [\n",
    "        \"No lo utilizo diariamente\",\n",
    "        \"Menos de 2 horas\",\n",
    "        \"2-4 horas\",\n",
    "        \"5-7 horas\",\n",
    "        \"Más de 7 horas\",\n",
    "    ],\n",
    "    ordered=True,\n",
    ")"
   ]
  },
  {
   "cell_type": "markdown",
   "id": "51dcec45-3899-432a-ad1e-d1f9aa2cf18b",
   "metadata": {},
   "source": [
    "{{< pagebreak >}}"
   ]
  },
  {
   "cell_type": "markdown",
   "id": "7e2a56a1-60ae-4b06-bc93-93706fe68dbe",
   "metadata": {
    "editable": true,
    "slideshow": {
     "slide_type": "slide"
    },
    "tags": []
   },
   "source": [
    "## Resultados para los hombres"
   ]
  },
  {
   "cell_type": "markdown",
   "id": "df792382-a592-44a9-b205-a6270602408c",
   "metadata": {},
   "source": [
    "{{< pagebreak >}}"
   ]
  },
  {
   "cell_type": "code",
   "execution_count": null,
   "id": "9ca1b2ea-454f-44a8-a2fc-38e5926f6cdd",
   "metadata": {},
   "outputs": [],
   "source": [
    "del data"
   ]
  },
  {
   "cell_type": "code",
   "execution_count": null,
   "id": "4531eacd-b179-4b57-8f74-8df6f7a272bb",
   "metadata": {},
   "outputs": [],
   "source": [
    "# data = pd.read_pickle(\"vdbg_final.pkl\")\n",
    "\n",
    "data = pd.read_csv(\"datos_final.csv\", index_col=0)"
   ]
  },
  {
   "cell_type": "code",
   "execution_count": null,
   "id": "73a16caf-fa14-49c4-9462-3dff63c176b7",
   "metadata": {},
   "outputs": [],
   "source": [
    "parentesco_lista = [\n",
    "    s for s in list(data.columns) if \"parentesco_\" in s or \"identificacion_\" in s\n",
    "]"
   ]
  },
  {
   "cell_type": "code",
   "execution_count": null,
   "id": "84772f0c-a379-4f29-af38-341c58454078",
   "metadata": {},
   "outputs": [],
   "source": [
    "data.loc[:, parentesco_lista] = data[parentesco_lista].astype(\"category\")"
   ]
  },
  {
   "cell_type": "code",
   "execution_count": null,
   "id": "4a068829-f31a-4b38-b52e-2ecfdd24d356",
   "metadata": {},
   "outputs": [],
   "source": [
    "data.edad = data.edad.astype(\"category\").cat.set_categories(\n",
    "    [\"14-17\", \"18-25\", \"26-40\", \"41-60\", \"Más de 60\"], ordered=True\n",
    ")"
   ]
  },
  {
   "cell_type": "code",
   "execution_count": null,
   "id": "7b4ee3be-30ef-4ccd-ac05-ea7fc83441f2",
   "metadata": {},
   "outputs": [],
   "source": [
    "data.horas_internet = data.horas_internet.astype(\"category\").cat.set_categories(\n",
    "    [\n",
    "        \"No lo utilizo diariamente\",\n",
    "        \"Menos de 2 horas\",\n",
    "        \"2-4 horas\",\n",
    "        \"5-7 horas\",\n",
    "        \"Más de 7 horas\",\n",
    "    ],\n",
    "    ordered=True,\n",
    ")"
   ]
  },
  {
   "cell_type": "code",
   "execution_count": null,
   "id": "8bc678f0",
   "metadata": {
    "slideshow": {
     "slide_type": "skip"
    },
    "tags": []
   },
   "outputs": [],
   "source": [
    "datos = data.query(\"sexo == 'Hombre'\")"
   ]
  },
  {
   "cell_type": "markdown",
   "id": "9f138564",
   "metadata": {},
   "source": [
    "### Rangos de edad"
   ]
  },
  {
   "cell_type": "code",
   "execution_count": null,
   "id": "af176673",
   "metadata": {
    "slideshow": {
     "slide_type": "skip"
    },
    "tags": []
   },
   "outputs": [],
   "source": [
    "tbl_edad = pd.DataFrame(datos.edad.value_counts()).sort_index()"
   ]
  },
  {
   "cell_type": "code",
   "execution_count": null,
   "id": "a6183566",
   "metadata": {
    "slideshow": {
     "slide_type": "skip"
    },
    "tags": []
   },
   "outputs": [],
   "source": [
    "tbl_edad_porcentaje = (\n",
    "    round(tbl_edad / tbl_edad.sum() * 100, 2)[\"count\"].astype(str) + \" %\"\n",
    ")"
   ]
  },
  {
   "cell_type": "code",
   "execution_count": null,
   "id": "a456a115",
   "metadata": {
    "tags": []
   },
   "outputs": [],
   "source": [
    "fig = px.bar(tbl_edad, text=tbl_edad_porcentaje)\n",
    "fig.update_layout(\n",
    "    title=\"Rangos de edades\",\n",
    "    xaxis_title=\"Edades\",\n",
    "    yaxis_title=\"% de hombres\",\n",
    "    font=dict(\n",
    "        family=\"Arial\",\n",
    "        size=18,\n",
    "        color=\"black\",\n",
    "    ),\n",
    "    width=1500,\n",
    "    height=800,\n",
    ")\n",
    "fig.update_traces(\n",
    "    textfont_size=18,\n",
    "    textangle=0,\n",
    "    textposition=\"outside\",\n",
    "    cliponaxis=False,\n",
    "    showlegend=False,\n",
    "    marker_color=\"rgb(157, 178, 191)\",\n",
    "    marker_line_color=\"white\",\n",
    ")\n",
    "fig.show()\n",
    "fig.write_image(\"img/hombres/edades.png\");"
   ]
  },
  {
   "cell_type": "markdown",
   "id": "dbbcf73e-b889-4ffc-8841-74d4f305960c",
   "metadata": {},
   "source": [
    "### Respuestas por estados\n"
   ]
  },
  {
   "cell_type": "code",
   "execution_count": null,
   "id": "662c6934-a3fa-453e-a6b2-94539d13704b",
   "metadata": {
    "tags": []
   },
   "outputs": [],
   "source": [
    "serie_estados = datos.estado.value_counts()"
   ]
  },
  {
   "cell_type": "code",
   "execution_count": null,
   "id": "5ebac8fe-d818-488e-a4e1-13a5d255ce6d",
   "metadata": {},
   "outputs": [],
   "source": [
    "fp = \"./Estados_Venezuela/Estados_Venezuela.shp\"\n",
    "df_mapa = gpd.read_file(fp)"
   ]
  },
  {
   "cell_type": "code",
   "execution_count": null,
   "id": "823861e1-0764-48ae-81b3-a22c93359c18",
   "metadata": {},
   "outputs": [],
   "source": [
    "ls = []\n",
    "for i in df_mapa.ESTADO:\n",
    "    if i in serie_estados.index:\n",
    "        ls.append(serie_estados.loc[i])\n",
    "    else:\n",
    "        ls.append(0)\n",
    "df_mapa[\"Hombres\"] = ls"
   ]
  },
  {
   "cell_type": "code",
   "execution_count": null,
   "id": "bb1c87da-110b-4d7c-bca4-44b189587396",
   "metadata": {
    "tags": []
   },
   "outputs": [],
   "source": [
    "df_mapa.plot(\n",
    "    \"Hombres\",\n",
    "    cmap=\"GnBu\",\n",
    "    categorical=True,\n",
    "    edgecolor=\"black\",\n",
    "    legend=True,\n",
    "    legend_kwds={\"loc\": \"center left\", \"bbox_to_anchor\": (1, 0.5), \"fmt\": \"{:.0f}\"},\n",
    ");"
   ]
  },
  {
   "cell_type": "code",
   "execution_count": null,
   "id": "2fc325b3",
   "metadata": {
    "tags": []
   },
   "outputs": [],
   "source": [
    "informacion_estados = pd.DataFrame(serie_estados.sort_index())\n",
    "informacion_estados[\"%\"] = round(\n",
    "    informacion_estados / informacion_estados.sum() * 100, 2\n",
    ")\n",
    "informacion_estados.rename_axis(index={\"estado\": \"Estado\"}, inplace=True)\n",
    "informacion_estados.rename(columns={\"count\": \"Nº de hombres\"})"
   ]
  },
  {
   "cell_type": "markdown",
   "id": "e288107b-769e-4ddd-ac4c-87459ee976df",
   "metadata": {},
   "source": [
    "{{< pagebreak >}}{{< pagebreak >}}"
   ]
  },
  {
   "cell_type": "markdown",
   "id": "5e8e0d1d",
   "metadata": {},
   "source": [
    "### Ocupaciones de los hombres\n",
    "\n",
    "#### Ocupaciones más comunes"
   ]
  },
  {
   "cell_type": "code",
   "execution_count": null,
   "id": "2d15ec17-475e-4ddd-9505-5e2a024608f3",
   "metadata": {
    "tags": []
   },
   "outputs": [],
   "source": [
    "df_ocupaciones = (\n",
    "    pd.DataFrame(datos.ocupacion.value_counts())\n",
    "    .rename_axis(index={\"ocupacion\": \"Ocupación\"})\n",
    "    .rename(columns={\"count\": \"Nº de hombres\"})\n",
    ")\n",
    "df_ocupaciones[\"%\"] = round(df_ocupaciones / len(datos) * 100, 2)\n",
    "df_ocupaciones.drop(\"Otra\")[:10]"
   ]
  },
  {
   "cell_type": "markdown",
   "id": "b70134cc-7dce-4ade-a157-f5dafa3cd967",
   "metadata": {},
   "source": [
    "En \"otros\" hay 2 respuestas, que se dividen de la siguiente manera:"
   ]
  },
  {
   "cell_type": "code",
   "execution_count": null,
   "id": "f123ce07-ac22-451b-8278-32dc69f75a97",
   "metadata": {
    "tags": []
   },
   "outputs": [],
   "source": [
    "pd.DataFrame(datos.ocupacionO.value_counts()).rename_axis(\n",
    "    index={\"ocupacionO\": \"Ocupación\"}\n",
    ").rename(columns={\"count\": \"N° de hombres\"})"
   ]
  },
  {
   "cell_type": "markdown",
   "id": "24ca8d6f",
   "metadata": {},
   "source": [
    "### Horas de uso de internet"
   ]
  },
  {
   "cell_type": "code",
   "execution_count": null,
   "id": "551c896a",
   "metadata": {},
   "outputs": [],
   "source": [
    "tbl_uso_internet = pd.DataFrame(datos.horas_internet.value_counts().sort_index())"
   ]
  },
  {
   "cell_type": "code",
   "execution_count": null,
   "id": "5354ddef",
   "metadata": {
    "tags": []
   },
   "outputs": [],
   "source": [
    "tbl_uso_porcentaje = (\n",
    "    round(tbl_uso_internet / tbl_uso_internet.sum() * 100, 2)[\"count\"].astype(str)\n",
    "    + \" %\"\n",
    ")"
   ]
  },
  {
   "cell_type": "code",
   "execution_count": null,
   "id": "4e14236c",
   "metadata": {
    "tags": []
   },
   "outputs": [],
   "source": [
    "fig = px.bar(tbl_uso_internet, text=tbl_uso_porcentaje)\n",
    "fig.update_layout(\n",
    "    title=\"Uso de internet por rangos de tiempo\",\n",
    "    xaxis_title=\"Tiempo\",\n",
    "    yaxis_title=\"% de hombres\",\n",
    "    font=dict(\n",
    "        family=\"Arial\",\n",
    "        size=18,\n",
    "        color=\"black\",\n",
    "    ),\n",
    "    width=1500,\n",
    "    height=800,\n",
    ")\n",
    "fig.update_traces(\n",
    "    textfont_size=18,\n",
    "    textangle=0,\n",
    "    textposition=\"outside\",\n",
    "    cliponaxis=False,\n",
    "    showlegend=False,\n",
    "    marker_color=\"rgb(39, 55, 77)\",\n",
    "    marker_line_color=\"white\",\n",
    ")\n",
    "fig.show()\n",
    "fig.write_image(\"img/hombres/uso_internet.png\")"
   ]
  },
  {
   "cell_type": "markdown",
   "id": "77960048",
   "metadata": {},
   "source": [
    "### Principales usos de internet"
   ]
  },
  {
   "cell_type": "code",
   "execution_count": null,
   "id": "96de3cc7",
   "metadata": {
    "tags": []
   },
   "outputs": [],
   "source": [
    "tbl_usos = pd.DataFrame(\n",
    "    datos[\n",
    "        [\n",
    "            \"uso_familia\",\n",
    "            \"uso_trabajo\",\n",
    "            \"uso_venta\",\n",
    "            \"uso_distraer\",\n",
    "            \"uso_estudiar\",\n",
    "            \"uso_banco\",\n",
    "            \"uso_otra\",\n",
    "            \"uso_peli\",\n",
    "            \"uso_noticias\",\n",
    "        ]\n",
    "    ].sum()\n",
    ")"
   ]
  },
  {
   "cell_type": "code",
   "execution_count": null,
   "id": "30d1427a",
   "metadata": {
    "tags": []
   },
   "outputs": [],
   "source": [
    "tbl_usos.index = [\n",
    "    \"Comunicarme con familiares y amigos/as\",\n",
    "    \"Trabajar\",\n",
    "    \"Vender productos\",\n",
    "    \"Distraerme\",\n",
    "    \"Estudiar o investigar\",\n",
    "    \"Realizar operaciones bancarias\",\n",
    "    \"Otras actividades\",\n",
    "    \"Ver películas y/o series\",\n",
    "    \"Ver noticias\",\n",
    "]"
   ]
  },
  {
   "cell_type": "code",
   "execution_count": null,
   "id": "ac4177be",
   "metadata": {
    "tags": []
   },
   "outputs": [],
   "source": [
    "tbl_usos_porcentaje = pd.DataFrame(\n",
    "    round(tbl_usos / tbl_usos.sum() * 100, 2)[0].astype(str) + \" %\"\n",
    ")"
   ]
  },
  {
   "cell_type": "code",
   "execution_count": null,
   "id": "120a0b74",
   "metadata": {
    "tags": []
   },
   "outputs": [],
   "source": [
    "tbl_usos_concat = pd.concat(\n",
    "    [tbl_usos, tbl_usos_porcentaje.rename(columns={0: \"p\"})], axis=1\n",
    ").sort_values(0)"
   ]
  },
  {
   "cell_type": "code",
   "execution_count": null,
   "id": "73192440",
   "metadata": {
    "tags": []
   },
   "outputs": [],
   "source": [
    "fig = px.bar(tbl_usos_concat[0], text=tbl_usos_concat.p)\n",
    "fig.update_layout(\n",
    "    title=\"Usos de internet\",\n",
    "    xaxis_title=\"Actividades\",\n",
    "    yaxis_title=\"% de hombres\",\n",
    "    font=dict(\n",
    "        family=\"Arial\",\n",
    "        size=18,\n",
    "        color=\"black\",\n",
    "    ),\n",
    "    width=1500,\n",
    "    height=900,\n",
    ")\n",
    "fig.update_traces(\n",
    "    textfont_size=18,\n",
    "    textangle=0,\n",
    "    textposition=\"outside\",\n",
    "    cliponaxis=False,\n",
    "    showlegend=False,\n",
    "    marker_color=\"rgb(39, 55, 77)\",\n",
    "    marker_line_color=\"white\",\n",
    ")\n",
    "fig.show()\n",
    "fig.write_image(\"img/hombres/usos_internet.png\")"
   ]
  },
  {
   "cell_type": "markdown",
   "id": "c8197d12-198b-48ae-9beb-490fdc29d254",
   "metadata": {},
   "source": [
    "En el caso de la respuesta \"Otras actividades\", se desglosa de la siguiente manera:"
   ]
  },
  {
   "cell_type": "code",
   "execution_count": null,
   "id": "429cbb6e",
   "metadata": {
    "tags": []
   },
   "outputs": [],
   "source": [
    "pd.DataFrame(datos.uso_otraR.value_counts()).rename_axis(\n",
    "    index={\"uso_otraR\": \"Otros usos de internet\"}\n",
    ").rename(columns={\"count\": \"Nº de hombres\"})"
   ]
  },
  {
   "cell_type": "markdown",
   "id": "230055da",
   "metadata": {},
   "source": [
    "### Aumento de uso de internet por Covid19"
   ]
  },
  {
   "cell_type": "code",
   "execution_count": null,
   "id": "f26741ce",
   "metadata": {
    "tags": []
   },
   "outputs": [],
   "source": [
    "tbl_covid_aumento = datos.covid_aumento.value_counts()"
   ]
  },
  {
   "cell_type": "code",
   "execution_count": null,
   "id": "c07a3f1f",
   "metadata": {
    "tags": []
   },
   "outputs": [],
   "source": [
    "fig = go.Figure(data=[go.Pie(labels=tbl_covid_aumento.index, values=tbl_covid_aumento)])\n",
    "fig.update_layout(\n",
    "    title_text=\"Aumento del uso de internet\",\n",
    "    legend_title=\"¿Has aumentado tu tiempo de <br> conexión a internet?\",\n",
    "    font=dict(family=\"Arial\", size=18, color=\"black\"),\n",
    "    width=1500,\n",
    "    height=800,\n",
    ")\n",
    "fig.update_traces(\n",
    "    marker=dict(\n",
    "        colors=[\"rgb(39, 55, 77)\", \"rgb(82, 109, 130)\"],\n",
    "        line=dict(color=\"white\", width=1),\n",
    "    )\n",
    ")\n",
    "fig.show()\n",
    "fig.write_image(\"img/hombres/covid.png\")"
   ]
  },
  {
   "cell_type": "markdown",
   "id": "d59216d5",
   "metadata": {},
   "source": [
    "### Uso de redes sociales/aplicaciones"
   ]
  },
  {
   "cell_type": "code",
   "execution_count": null,
   "id": "8cc0e123",
   "metadata": {
    "tags": []
   },
   "outputs": [],
   "source": [
    "datos.loc[:, \"telegram\"] = datos.telegram.apply(str.strip)"
   ]
  },
  {
   "cell_type": "code",
   "execution_count": null,
   "id": "e2e49b63",
   "metadata": {
    "tags": []
   },
   "outputs": [],
   "source": [
    "redes = [\n",
    "    \"facebook\",\n",
    "    \"twitter\",\n",
    "    \"instagram\",\n",
    "    \"tiktok\",\n",
    "    \"discord\",\n",
    "    \"slack\",\n",
    "    \"citas\",\n",
    "    \"videojuegos\",\n",
    "    \"whatsapp\",\n",
    "    \"telegram\",\n",
    "    \"reddit\",\n",
    "    \"estudio\",\n",
    "    \"linkedin\",\n",
    "    \"twich\",\n",
    "    \"youtube\",\n",
    "    \"pinterest\",\n",
    "    \"flickr\",\n",
    "]\n",
    "\n",
    "dicts = {}\n",
    "for i in redes:\n",
    "    dicts[i.capitalize()] = (\n",
    "        datos[[i]].value_counts().reset_index().set_index(i)[\"count\"]\n",
    "    )"
   ]
  },
  {
   "cell_type": "code",
   "execution_count": null,
   "id": "90f02986",
   "metadata": {
    "tags": []
   },
   "outputs": [],
   "source": [
    "tbl_aplicaciones = round(\n",
    "    pd.DataFrame.from_dict(dicts, orient=\"index\").fillna(0)[\n",
    "        [\n",
    "            \"Menos de 2 horas\",\n",
    "            \"2-4 horas\",\n",
    "            \"5-7 horas\",\n",
    "            \"Más de 7 horas\",\n",
    "            \"No la utilizo\",\n",
    "        ]\n",
    "    ]\n",
    "    / len(datos)\n",
    "    * 100,\n",
    "    2,\n",
    ")"
   ]
  },
  {
   "cell_type": "code",
   "execution_count": null,
   "id": "4bf67e30",
   "metadata": {
    "tags": []
   },
   "outputs": [],
   "source": [
    "fig = px.bar(\n",
    "    tbl_aplicaciones.sort_values(\"No la utilizo\"),\n",
    "    orientation=\"h\",\n",
    "    color_discrete_sequence=[\n",
    "        \"rgb(39, 55, 77)\",\n",
    "        \"rgb(82, 109, 130)\",\n",
    "        \"rgb(102, 102, 102)\",\n",
    "        \"rgb(157, 178, 191)\",\n",
    "        \"rgb(221, 230, 237)\",\n",
    "    ],\n",
    "    width=1500,\n",
    "    height=800,\n",
    ")\n",
    "fig.update_layout(\n",
    "    title=\"Uso de aplicaciones/redes sociales\",\n",
    "    xaxis_title=\"% de hombres\",\n",
    "    yaxis_title=\"Aplicación/red social\",\n",
    "    legend_title=\"Horas de uso diario\",\n",
    "    font=dict(\n",
    "        family=\"Arial\",\n",
    "        size=18,\n",
    "        color=\"black\",\n",
    "    ),\n",
    ")\n",
    "\n",
    "fig.show()\n",
    "fig.write_image(\"img/hombres/uso_apps.png\")"
   ]
  },
  {
   "cell_type": "markdown",
   "id": "759a02a6",
   "metadata": {},
   "source": [
    "### Incidencia de violencias"
   ]
  },
  {
   "cell_type": "code",
   "execution_count": null,
   "id": "15c344c6",
   "metadata": {
    "tags": []
   },
   "outputs": [],
   "source": [
    "violencias_nombres = {\n",
    "    \"identidad\": \"Duplicación de identidad\",\n",
    "    \"ciberacoso\": \"Ciberacoso\",\n",
    "    \"doxxing\": \"Doxxing\",\n",
    "    \"mobbing\": \"Mobbing\",\n",
    "    \"ciberdifamacion\": \"Ciberdifamación\",\n",
    "    \"stalking\": \"Cibervigilancia (stalking)\",\n",
    "    \"ciberextorsion\": \"Ciberextorsión\",\n",
    "    \"grooming\": \"Grooming\",\n",
    "    \"phishing_vs\": \"Phishing/Vishing/Smishing\",\n",
    "    \"trata\": \"Trata de personas en línea\",\n",
    "    \"explotacion\": \"Captación con fines de explotación sexual\",\n",
    "    \"exclusion\": \"Exclusión digital\",\n",
    "    \"cyberflashing\": \"Cyberflashing\",\n",
    "    \"deepfake\": \"Deepfake\",\n",
    "    \"clonacion\": \"Clonación de aplicaciones\",\n",
    "}"
   ]
  },
  {
   "cell_type": "code",
   "execution_count": null,
   "id": "1cc8af70",
   "metadata": {
    "tags": []
   },
   "outputs": [],
   "source": [
    "violencias = list(violencias_nombres.keys())"
   ]
  },
  {
   "cell_type": "code",
   "execution_count": null,
   "id": "bf7d8c9b",
   "metadata": {
    "tags": []
   },
   "outputs": [],
   "source": [
    "dic = {}\n",
    "for i in violencias:\n",
    "    datos.loc[:, i] = datos[i].apply(str.strip).apply(str.capitalize)\n",
    "    dic[violencias_nombres[i]] = datos[[i]].value_counts().sort_index()"
   ]
  },
  {
   "cell_type": "code",
   "execution_count": null,
   "id": "9e143b5a",
   "metadata": {
    "tags": []
   },
   "outputs": [],
   "source": [
    "tbl_sufrio = pd.DataFrame.from_dict(dic, orient=\"index\").fillna(0)"
   ]
  },
  {
   "cell_type": "code",
   "execution_count": null,
   "id": "e626b5db",
   "metadata": {
    "tags": []
   },
   "outputs": [],
   "source": [
    "tbl_sufrio = tbl_sufrio.set_axis([\"No\", \"Sí\"], axis=1)"
   ]
  },
  {
   "cell_type": "code",
   "execution_count": null,
   "id": "35333c04",
   "metadata": {
    "tags": []
   },
   "outputs": [],
   "source": [
    "sufrio_porcentaje = round(tbl_sufrio / len(datos) * 100, 2)"
   ]
  },
  {
   "cell_type": "code",
   "execution_count": null,
   "id": "bbbe843e",
   "metadata": {
    "scrolled": true,
    "tags": []
   },
   "outputs": [],
   "source": [
    "fig = px.bar(\n",
    "    sufrio_porcentaje[[\"Sí\", \"No\"]].sort_values(\"Sí\"),\n",
    "    orientation=\"h\",\n",
    "    text_auto=True,\n",
    "    color_discrete_map={\"Sí\": \"rgb(39, 55, 77)\", \"No\": \"rgb(82, 109, 130)\"},\n",
    "    width=1500,\n",
    "    height=800,\n",
    ")\n",
    "fig.update_layout(\n",
    "    title=\"Incidencia de violencias\",\n",
    "    yaxis_title=\"Violencia\",\n",
    "    xaxis_title=\"% de hombres\",\n",
    "    legend_title=\"¿Sufrió la violencia?\",\n",
    "    font=dict(\n",
    "        family=\"Arial\",\n",
    "        size=18,\n",
    "        color=\"black\",\n",
    "    ),\n",
    ")\n",
    "fig.update_traces(\n",
    "    textfont_size=18,\n",
    "    textangle=0,\n",
    "    cliponaxis=False,\n",
    "    marker_line_color=\"white\",\n",
    "    texttemplate=\"%{value: 4} %\",\n",
    ")\n",
    "fig.show()\n",
    "fig.write_image(\"img/hombres/incidencia.png\")"
   ]
  },
  {
   "cell_type": "code",
   "execution_count": null,
   "id": "bfd031fa",
   "metadata": {
    "tags": []
   },
   "outputs": [],
   "source": [
    "for i in violencias:\n",
    "    datos.loc[:, i].replace(\n",
    "        [\n",
    "            \"No\",\n",
    "            \"Sí\",\n",
    "        ],\n",
    "        [0, 1],\n",
    "        inplace=True,\n",
    "    )"
   ]
  },
  {
   "cell_type": "code",
   "execution_count": null,
   "id": "2f6f0f42",
   "metadata": {
    "tags": []
   },
   "outputs": [],
   "source": [
    "tbl_numero_violencia = pd.DataFrame(\n",
    "    datos[violencias].T.sum().value_counts()\n",
    ").sort_index()\n",
    "tbl_violencia_porcentaje = round(tbl_numero_violencia / len(datos) * 100, 2)"
   ]
  },
  {
   "cell_type": "code",
   "execution_count": null,
   "id": "4d407f52",
   "metadata": {
    "tags": []
   },
   "outputs": [],
   "source": [
    "tbl_violencia_porcentaje.index = tbl_violencia_porcentaje.index.astype(\"string\")"
   ]
  },
  {
   "cell_type": "code",
   "execution_count": null,
   "id": "b60f770e",
   "metadata": {
    "tags": []
   },
   "outputs": [],
   "source": [
    "fig = px.bar(\n",
    "    tbl_violencia_porcentaje,\n",
    "    text_auto=True,\n",
    ")\n",
    "fig.update_layout(\n",
    "    title=\"Cantidad de violencias sufridas\",\n",
    "    xaxis_title=\"Nº de violencias sufridas\",\n",
    "    yaxis_title=\"% de hombres\",\n",
    "    font=dict(\n",
    "        family=\"Arial\",\n",
    "        size=18,\n",
    "        color=\"black\",\n",
    "    ),\n",
    "    width=1500,\n",
    "    height=800,\n",
    ")\n",
    "fig.update_traces(\n",
    "    textfont_size=18,\n",
    "    textangle=0,\n",
    "    textposition=\"outside\",\n",
    "    cliponaxis=False,\n",
    "    showlegend=False,\n",
    "    marker_line_color=\"white\",\n",
    "    marker_color=\"rgb(39, 55, 77)\",\n",
    "    texttemplate=\"%{value}%\",\n",
    ")\n",
    "fig.show()\n",
    "fig.write_image(\"img/hombres/numero_violencia.png\")"
   ]
  },
  {
   "cell_type": "code",
   "execution_count": null,
   "id": "008794b5",
   "metadata": {
    "tags": []
   },
   "outputs": [],
   "source": [
    "dic_violencias = {}\n",
    "for i in violencias:\n",
    "    dic_violencias[i] = [s for s in list(datos.columns)[:-32] if i in s]"
   ]
  },
  {
   "cell_type": "markdown",
   "id": "56343414",
   "metadata": {},
   "source": [
    "#### Resultados para los casos de duplicación de identidad"
   ]
  },
  {
   "cell_type": "code",
   "execution_count": null,
   "id": "e5b8b422",
   "metadata": {
    "tags": []
   },
   "outputs": [],
   "source": [
    "tbl_identidad = datos.query(\"identidad == 1\")[dic_violencias[\"identidad\"]]"
   ]
  },
  {
   "cell_type": "code",
   "execution_count": null,
   "id": "82744630-0b09-475c-b239-dec60af49f98",
   "metadata": {
    "tags": []
   },
   "outputs": [],
   "source": [
    "print(\n",
    "    f\"Se han reportado {tbl_identidad.iloc[:, 0].sum()} casos de duplicación de identidad.\"\n",
    ")"
   ]
  },
  {
   "cell_type": "code",
   "execution_count": null,
   "id": "73d85e83",
   "metadata": {
    "tags": []
   },
   "outputs": [],
   "source": [
    "frecuencia_identidad = fg.grafico_frecuencia(tbl_identidad, \"M\")"
   ]
  },
  {
   "cell_type": "code",
   "execution_count": null,
   "id": "239d454b",
   "metadata": {
    "tags": []
   },
   "outputs": [],
   "source": [
    "temporalidad_identidad = fg.grafico_temporalidad(tbl_identidad, \"H\")"
   ]
  },
  {
   "cell_type": "code",
   "execution_count": null,
   "id": "a0d31ee3",
   "metadata": {
    "tags": []
   },
   "outputs": [],
   "source": [
    "edad_identidad = fg.grafico_edad(tbl_identidad, \"Hombre\")"
   ]
  },
  {
   "cell_type": "code",
   "execution_count": null,
   "id": "0b45bc61",
   "metadata": {
    "tags": []
   },
   "outputs": [],
   "source": [
    "parentesco_identidad = fg.grafico_parentesco(tbl_identidad, \"H\")"
   ]
  },
  {
   "cell_type": "code",
   "execution_count": null,
   "id": "fef2a298",
   "metadata": {
    "tags": []
   },
   "outputs": [],
   "source": [
    "sexo_identidad = fg.grafico_sexo_parentesco(tbl_identidad, \"H\")"
   ]
  },
  {
   "cell_type": "code",
   "execution_count": null,
   "id": "feb33ffa",
   "metadata": {
    "tags": []
   },
   "outputs": [],
   "source": [
    "medios_identidad = fg.grafico_medios(tbl_identidad, \"H\")[2]"
   ]
  },
  {
   "cell_type": "markdown",
   "id": "8e65c287",
   "metadata": {
    "tags": []
   },
   "source": [
    "#### Resultados para los casos de ciberacoso"
   ]
  },
  {
   "cell_type": "code",
   "execution_count": null,
   "id": "57ea6186",
   "metadata": {
    "tags": []
   },
   "outputs": [],
   "source": [
    "tbl_ciberacoso = datos.query(\"ciberacoso == 1\")[dic_violencias[\"ciberacoso\"]]"
   ]
  },
  {
   "cell_type": "code",
   "execution_count": null,
   "id": "60e6843b-42a0-4192-abd4-953a1807e406",
   "metadata": {
    "tags": []
   },
   "outputs": [],
   "source": [
    "print(f\"Se han reportado {tbl_ciberacoso.iloc[:, 0].sum()} casos de ciberacoso.\")"
   ]
  },
  {
   "cell_type": "code",
   "execution_count": null,
   "id": "b27a8e5f",
   "metadata": {
    "tags": []
   },
   "outputs": [],
   "source": [
    "frecuencia_ciberacoso = fg.grafico_frecuencia(tbl_ciberacoso, \"H\")"
   ]
  },
  {
   "cell_type": "code",
   "execution_count": null,
   "id": "d0b60c6b",
   "metadata": {
    "tags": []
   },
   "outputs": [],
   "source": [
    "temporalidad_ciberacoso = fg.grafico_temporalidad(tbl_ciberacoso, \"H\")"
   ]
  },
  {
   "cell_type": "code",
   "execution_count": null,
   "id": "0cebdb04",
   "metadata": {
    "tags": []
   },
   "outputs": [],
   "source": [
    "edad_ciberacoso = fg.grafico_edad(tbl_ciberacoso, \"H\")"
   ]
  },
  {
   "cell_type": "code",
   "execution_count": null,
   "id": "8611beec",
   "metadata": {
    "tags": []
   },
   "outputs": [],
   "source": [
    "parentesco_ciberacoso = fg.grafico_parentesco(tbl_ciberacoso, \"H\")"
   ]
  },
  {
   "cell_type": "code",
   "execution_count": null,
   "id": "dbe8c8f6",
   "metadata": {
    "tags": []
   },
   "outputs": [],
   "source": [
    "sexo_ciberacoso = fg.grafico_sexo_parentesco(tbl_ciberacoso, \"H\")"
   ]
  },
  {
   "cell_type": "code",
   "execution_count": null,
   "id": "e7e0da39",
   "metadata": {
    "tags": []
   },
   "outputs": [],
   "source": [
    "medios_ciberacoso = fg.grafico_medios(tbl_ciberacoso, \"H\")[2]"
   ]
  },
  {
   "cell_type": "markdown",
   "id": "2103c853",
   "metadata": {},
   "source": [
    "#### Resultados para los casos de doxxing"
   ]
  },
  {
   "cell_type": "code",
   "execution_count": null,
   "id": "2c00c55f",
   "metadata": {
    "tags": []
   },
   "outputs": [],
   "source": [
    "tbl_doxxing = datos.query(\"doxxing == 1\")[dic_violencias[\"doxxing\"]]"
   ]
  },
  {
   "cell_type": "code",
   "execution_count": null,
   "id": "7e1bd1b4-77aa-49f4-aabc-e71280a5a05b",
   "metadata": {
    "tags": []
   },
   "outputs": [],
   "source": [
    "print(f\"Se han reportado {tbl_doxxing.iloc[:, 0].sum()} casos de doxxing.\")"
   ]
  },
  {
   "cell_type": "code",
   "execution_count": null,
   "id": "9526178a",
   "metadata": {
    "tags": []
   },
   "outputs": [],
   "source": [
    "frecuencia_doxxing = fg.grafico_frecuencia(tbl_doxxing, \"H\")"
   ]
  },
  {
   "cell_type": "code",
   "execution_count": null,
   "id": "02a282d7",
   "metadata": {
    "tags": []
   },
   "outputs": [],
   "source": [
    "temporalidad_doxxing = fg.grafico_temporalidad(tbl_doxxing, \"H\")"
   ]
  },
  {
   "cell_type": "code",
   "execution_count": null,
   "id": "5c51cea3",
   "metadata": {},
   "outputs": [],
   "source": [
    "edad_doxxing = fg.grafico_edad(tbl_doxxing, \"H\")"
   ]
  },
  {
   "cell_type": "code",
   "execution_count": null,
   "id": "6ee9b250",
   "metadata": {
    "tags": []
   },
   "outputs": [],
   "source": [
    "parentesco_doxxing = fg.grafico_parentesco(tbl_doxxing, \"H\")"
   ]
  },
  {
   "cell_type": "code",
   "execution_count": null,
   "id": "cc11ba7d",
   "metadata": {
    "tags": []
   },
   "outputs": [],
   "source": [
    "sexo_doxxing = fg.grafico_sexo_parentesco(tbl_doxxing, \"H\")"
   ]
  },
  {
   "cell_type": "code",
   "execution_count": null,
   "id": "3c70cdd5",
   "metadata": {
    "tags": []
   },
   "outputs": [],
   "source": [
    "medios_doxxing = fg.grafico_medios(tbl_doxxing, \"H\")[2]"
   ]
  },
  {
   "cell_type": "code",
   "execution_count": null,
   "id": "89343a99",
   "metadata": {
    "tags": []
   },
   "outputs": [],
   "source": [
    "pd.DataFrame(tbl_doxxing.otraR_doxxing.value_counts()).rename_axis(\n",
    "    index={\"otraR_doxxing\": \"Otras aplicaciones o redes sociales\"}\n",
    ").rename(columns={\"count\": \"N° de hombres\"})"
   ]
  },
  {
   "cell_type": "markdown",
   "id": "acd7fad6",
   "metadata": {},
   "source": [
    "#### Resultados para los casos de mobbing"
   ]
  },
  {
   "cell_type": "code",
   "execution_count": null,
   "id": "4b6fb0e9",
   "metadata": {
    "tags": []
   },
   "outputs": [],
   "source": [
    "tbl_mobbing = datos.query(\"mobbing == 1\")[dic_violencias[\"mobbing\"]]"
   ]
  },
  {
   "cell_type": "code",
   "execution_count": null,
   "id": "31e6fc5f-5f82-4fb8-805d-1cb7811b46f3",
   "metadata": {
    "tags": []
   },
   "outputs": [],
   "source": [
    "print(f\"Se han reportado {tbl_mobbing.iloc[:, 0].sum()} casos de mobbing\")"
   ]
  },
  {
   "cell_type": "code",
   "execution_count": null,
   "id": "aed928d2",
   "metadata": {
    "tags": []
   },
   "outputs": [],
   "source": [
    "frecuencia_mobbing = fg.grafico_frecuencia(tbl_mobbing, \"H\")"
   ]
  },
  {
   "cell_type": "code",
   "execution_count": null,
   "id": "29436c89",
   "metadata": {
    "tags": []
   },
   "outputs": [],
   "source": [
    "temporalidad_mobbing = fg.grafico_temporalidad(tbl_mobbing, \"H\")"
   ]
  },
  {
   "cell_type": "code",
   "execution_count": null,
   "id": "ecd3c2d0",
   "metadata": {},
   "outputs": [],
   "source": [
    "edad_mobbing = fg.grafico_edad(tbl_mobbing, \"H\")"
   ]
  },
  {
   "cell_type": "code",
   "execution_count": null,
   "id": "650d7198",
   "metadata": {
    "tags": []
   },
   "outputs": [],
   "source": [
    "parentesco_mobbing = fg.grafico_parentesco(tbl_mobbing, \"H\")"
   ]
  },
  {
   "cell_type": "code",
   "execution_count": null,
   "id": "e28b3ec5",
   "metadata": {
    "tags": []
   },
   "outputs": [],
   "source": [
    "sexo_mobbing = fg.grafico_sexo_parentesco(tbl_mobbing, \"H\")"
   ]
  },
  {
   "cell_type": "code",
   "execution_count": null,
   "id": "ca565df7",
   "metadata": {
    "tags": []
   },
   "outputs": [],
   "source": [
    "medios_mobbing = fg.grafico_medios(tbl_mobbing, \"H\")[2]"
   ]
  },
  {
   "cell_type": "markdown",
   "id": "65bea3a7",
   "metadata": {},
   "source": [
    "#### Resultados para los casos de ciberdifamación"
   ]
  },
  {
   "cell_type": "code",
   "execution_count": null,
   "id": "622fa796",
   "metadata": {
    "tags": []
   },
   "outputs": [],
   "source": [
    "tbl_ciberdifamacion = datos.query(\"ciberdifamacion == 1\")[\n",
    "    dic_violencias[\"ciberdifamacion\"]\n",
    "]"
   ]
  },
  {
   "cell_type": "code",
   "execution_count": null,
   "id": "c6130c49-bdeb-4fe0-98ba-0b15d15aa70e",
   "metadata": {
    "tags": []
   },
   "outputs": [],
   "source": [
    "print(\n",
    "    f\"Se han reportado {tbl_ciberdifamacion.iloc[:, 0].sum()} casos de ciberdifamación.\"\n",
    ")"
   ]
  },
  {
   "cell_type": "code",
   "execution_count": null,
   "id": "22dd9c76",
   "metadata": {
    "tags": []
   },
   "outputs": [],
   "source": [
    "frecuencia_ciberdifamacion = fg.grafico_frecuencia(tbl_ciberdifamacion, \"H\")"
   ]
  },
  {
   "cell_type": "code",
   "execution_count": null,
   "id": "fc81f004",
   "metadata": {
    "tags": []
   },
   "outputs": [],
   "source": [
    "temporalidad_ciberdifamacion = fg.grafico_temporalidad(tbl_ciberdifamacion, \"H\")"
   ]
  },
  {
   "cell_type": "code",
   "execution_count": null,
   "id": "fc10f24a",
   "metadata": {},
   "outputs": [],
   "source": [
    "edad_ciberdifamacion = fg.grafico_edad(tbl_ciberdifamacion, \"H\")"
   ]
  },
  {
   "cell_type": "code",
   "execution_count": null,
   "id": "84f150ec",
   "metadata": {
    "tags": []
   },
   "outputs": [],
   "source": [
    "parentesco_ciberdifamacion = fg.grafico_parentesco(tbl_ciberdifamacion, \"H\")"
   ]
  },
  {
   "cell_type": "code",
   "execution_count": null,
   "id": "d6391a1a",
   "metadata": {
    "tags": []
   },
   "outputs": [],
   "source": [
    "sexo_ciberdifamacion = fg.grafico_sexo_parentesco(tbl_ciberdifamacion, \"H\")"
   ]
  },
  {
   "cell_type": "code",
   "execution_count": null,
   "id": "ab93a1cb",
   "metadata": {
    "tags": []
   },
   "outputs": [],
   "source": [
    "medios_ciberdifamacion = fg.grafico_medios(tbl_ciberdifamacion, \"H\")[2]"
   ]
  },
  {
   "cell_type": "markdown",
   "id": "07ab295c",
   "metadata": {},
   "source": [
    "#### Resultados para los casos de cibervigilancia (stalking)"
   ]
  },
  {
   "cell_type": "code",
   "execution_count": null,
   "id": "17764344",
   "metadata": {
    "tags": []
   },
   "outputs": [],
   "source": [
    "tbl_stalking = datos.query(\"stalking == 1\")[dic_violencias[\"stalking\"]]"
   ]
  },
  {
   "cell_type": "code",
   "execution_count": null,
   "id": "0e54cde0-698c-40f0-8165-57d064778cfe",
   "metadata": {
    "tags": []
   },
   "outputs": [],
   "source": [
    "print(\n",
    "    f\"Se han reportado {tbl_stalking.iloc[:, 0].sum()} casos de cibervigilancia (stalking).\"\n",
    ")"
   ]
  },
  {
   "cell_type": "code",
   "execution_count": null,
   "id": "fd853adb",
   "metadata": {
    "tags": []
   },
   "outputs": [],
   "source": [
    "frecuencia_stalking = fg.grafico_frecuencia(tbl_stalking, \"H\")"
   ]
  },
  {
   "cell_type": "code",
   "execution_count": null,
   "id": "026fa1de",
   "metadata": {
    "tags": []
   },
   "outputs": [],
   "source": [
    "temporalidad_stalking = fg.grafico_temporalidad(tbl_stalking, \"H\")"
   ]
  },
  {
   "cell_type": "code",
   "execution_count": null,
   "id": "be86ad94",
   "metadata": {},
   "outputs": [],
   "source": [
    "edad_stalking = fg.grafico_edad(tbl_stalking, \"H\")"
   ]
  },
  {
   "cell_type": "code",
   "execution_count": null,
   "id": "5e0e77ca",
   "metadata": {
    "tags": []
   },
   "outputs": [],
   "source": [
    "parentesco_stalking = fg.grafico_parentesco(tbl_stalking, \"H\")"
   ]
  },
  {
   "cell_type": "code",
   "execution_count": null,
   "id": "29666fbd",
   "metadata": {
    "tags": []
   },
   "outputs": [],
   "source": [
    "sexo_stalking = fg.grafico_sexo_parentesco(tbl_stalking, \"H\")"
   ]
  },
  {
   "cell_type": "code",
   "execution_count": null,
   "id": "ac49fd7d",
   "metadata": {
    "tags": []
   },
   "outputs": [],
   "source": [
    "medios_stalking = fg.grafico_medios(tbl_stalking, \"H\")[2]"
   ]
  },
  {
   "cell_type": "markdown",
   "id": "491c72a8",
   "metadata": {},
   "source": [
    "#### Resultados para los casos de ciberextorsión"
   ]
  },
  {
   "cell_type": "code",
   "execution_count": null,
   "id": "41668f55",
   "metadata": {
    "tags": []
   },
   "outputs": [],
   "source": [
    "tbl_ciberextorsion = datos.query(\"ciberextorsion == 1\")[\n",
    "    dic_violencias[\"ciberextorsion\"]\n",
    "]"
   ]
  },
  {
   "cell_type": "code",
   "execution_count": null,
   "id": "c3c85ebd-ba00-4eb0-b2b0-9f758e43e20f",
   "metadata": {},
   "outputs": [],
   "source": [
    "print(\n",
    "    f\"Se han reportado {tbl_ciberextorsion.iloc[:, 0].sum()} casos de ciberextorsión.\"\n",
    ")"
   ]
  },
  {
   "cell_type": "code",
   "execution_count": null,
   "id": "d8fb900e",
   "metadata": {
    "tags": []
   },
   "outputs": [],
   "source": [
    "frecuencia_ciberextorsion = fg.grafico_frecuencia(tbl_ciberextorsion, \"H\")"
   ]
  },
  {
   "cell_type": "code",
   "execution_count": null,
   "id": "b4a8f433",
   "metadata": {
    "tags": []
   },
   "outputs": [],
   "source": [
    "temporalidad_ciberextorsion = fg.grafico_temporalidad(tbl_ciberextorsion, \"H\")"
   ]
  },
  {
   "cell_type": "code",
   "execution_count": null,
   "id": "f6a70eae",
   "metadata": {},
   "outputs": [],
   "source": [
    "edad_ciberextorsion = fg.grafico_edad(tbl_ciberextorsion, \"H\")"
   ]
  },
  {
   "cell_type": "code",
   "execution_count": null,
   "id": "3346b761",
   "metadata": {
    "tags": []
   },
   "outputs": [],
   "source": [
    "parentesco_ciberextorsion = fg.grafico_parentesco(tbl_ciberextorsion, \"H\")"
   ]
  },
  {
   "cell_type": "code",
   "execution_count": null,
   "id": "f61e03db",
   "metadata": {
    "tags": []
   },
   "outputs": [],
   "source": [
    "sexo_ciberextorsion = fg.grafico_sexo_parentesco(tbl_ciberextorsion, \"H\")"
   ]
  },
  {
   "cell_type": "code",
   "execution_count": null,
   "id": "8ddcc8e4",
   "metadata": {
    "tags": []
   },
   "outputs": [],
   "source": [
    "medios_ciberextorsion = fg.grafico_medios(tbl_ciberextorsion, \"H\")[2]"
   ]
  },
  {
   "cell_type": "markdown",
   "id": "b0c64149",
   "metadata": {},
   "source": [
    "#### Resultados para los casos de grooming"
   ]
  },
  {
   "cell_type": "code",
   "execution_count": null,
   "id": "4050db8f",
   "metadata": {
    "tags": []
   },
   "outputs": [],
   "source": [
    "tbl_grooming = datos.query(\"grooming == 1\")[dic_violencias[\"grooming\"]]"
   ]
  },
  {
   "cell_type": "code",
   "execution_count": null,
   "id": "399161a0-f8db-4923-9bdf-08a2df760c71",
   "metadata": {
    "tags": []
   },
   "outputs": [],
   "source": [
    "print(f\"Se han reportado {tbl_grooming.iloc[:, 0].sum()} casos de grooming.\")"
   ]
  },
  {
   "cell_type": "code",
   "execution_count": null,
   "id": "036fe71c",
   "metadata": {
    "tags": []
   },
   "outputs": [],
   "source": [
    "frecuencia_grooming = fg.grafico_frecuencia(tbl_grooming, \"H\")"
   ]
  },
  {
   "cell_type": "code",
   "execution_count": null,
   "id": "213d03ef",
   "metadata": {
    "tags": []
   },
   "outputs": [],
   "source": [
    "temporalidad_grooming = fg.grafico_temporalidad(tbl_grooming, \"H\")"
   ]
  },
  {
   "cell_type": "code",
   "execution_count": null,
   "id": "aa6fd424",
   "metadata": {},
   "outputs": [],
   "source": [
    "edad_grooming = fg.grafico_edad(tbl_grooming, \"H\")"
   ]
  },
  {
   "cell_type": "code",
   "execution_count": null,
   "id": "8c241e7a",
   "metadata": {
    "tags": []
   },
   "outputs": [],
   "source": [
    "parentesco_grooming = fg.grafico_parentesco(tbl_grooming, \"H\")"
   ]
  },
  {
   "cell_type": "code",
   "execution_count": null,
   "id": "618d2097",
   "metadata": {
    "tags": []
   },
   "outputs": [],
   "source": [
    "sexo_grooming = fg.grafico_sexo_parentesco(tbl_grooming, \"H\")"
   ]
  },
  {
   "cell_type": "code",
   "execution_count": null,
   "id": "25fa247f",
   "metadata": {
    "tags": []
   },
   "outputs": [],
   "source": [
    "medios_grooming = fg.grafico_medios(tbl_grooming, \"H\")[2]"
   ]
  },
  {
   "cell_type": "code",
   "execution_count": null,
   "id": "49ddb7dc",
   "metadata": {
    "tags": []
   },
   "outputs": [],
   "source": [
    "pd.DataFrame(tbl_grooming.otraR_grooming.value_counts()).rename_axis(\n",
    "    index={\"otraR_grooming\": \"Otras aplicaciones o redes sociales\"}\n",
    ").rename(columns={\"count\": \"N° de hombres\"})"
   ]
  },
  {
   "cell_type": "markdown",
   "id": "d5c46b6b",
   "metadata": {},
   "source": [
    "#### Resultados para los casos de los casos de phishing/vishing/smishing"
   ]
  },
  {
   "cell_type": "code",
   "execution_count": null,
   "id": "2d27f1af",
   "metadata": {
    "tags": []
   },
   "outputs": [],
   "source": [
    "tbl_phishing_vs = datos.query(\"phishing_vs == 1\")[dic_violencias[\"phishing_vs\"]]"
   ]
  },
  {
   "cell_type": "code",
   "execution_count": null,
   "id": "46101fa6-5e28-4ed3-9b28-c6ad89132048",
   "metadata": {
    "tags": []
   },
   "outputs": [],
   "source": [
    "print(\n",
    "    f\"Se han reportado {tbl_phishing_vs.iloc[:, 0].sum()} casos de phishing/vishing/smishing.\"\n",
    ")"
   ]
  },
  {
   "cell_type": "code",
   "execution_count": null,
   "id": "e9d57376",
   "metadata": {
    "tags": []
   },
   "outputs": [],
   "source": [
    "frecuencia_phishing_vs = fg.grafico_frecuencia(tbl_phishing_vs, \"H\")"
   ]
  },
  {
   "cell_type": "code",
   "execution_count": null,
   "id": "f0484950",
   "metadata": {
    "tags": []
   },
   "outputs": [],
   "source": [
    "temporalidad_phishing_vs = fg.grafico_temporalidad(tbl_phishing_vs, \"H\")"
   ]
  },
  {
   "cell_type": "code",
   "execution_count": null,
   "id": "78adab6b",
   "metadata": {},
   "outputs": [],
   "source": [
    "edad_phishing_vs = fg.grafico_edad(tbl_phishing_vs, \"H\")"
   ]
  },
  {
   "cell_type": "code",
   "execution_count": null,
   "id": "36164d06",
   "metadata": {
    "tags": []
   },
   "outputs": [],
   "source": [
    "parentesco_phishing_vs = fg.grafico_parentesco(tbl_phishing_vs, \"H\")"
   ]
  },
  {
   "cell_type": "code",
   "execution_count": null,
   "id": "a79a6a26",
   "metadata": {
    "tags": []
   },
   "outputs": [],
   "source": [
    "sexo_phishing_vs = fg.grafico_sexo_parentesco(tbl_phishing_vs, \"H\")"
   ]
  },
  {
   "cell_type": "code",
   "execution_count": null,
   "id": "7d75388a",
   "metadata": {
    "tags": []
   },
   "outputs": [],
   "source": [
    "medios_phishing_vs = fg.grafico_medios(tbl_phishing_vs, \"H\")[2]"
   ]
  },
  {
   "cell_type": "markdown",
   "id": "c1568f53",
   "metadata": {},
   "source": [
    "#### Resultados para los casos de trata"
   ]
  },
  {
   "cell_type": "code",
   "execution_count": null,
   "id": "f7239f3a",
   "metadata": {
    "tags": []
   },
   "outputs": [],
   "source": [
    "for i in datos.query(\"otraR_trata == 'Instagram '\").index:\n",
    "    datos.loc[i, \"instagram_trata\"] = True"
   ]
  },
  {
   "cell_type": "code",
   "execution_count": null,
   "id": "0461d6ca",
   "metadata": {
    "tags": []
   },
   "outputs": [],
   "source": [
    "tbl_trata = datos.query(\"trata == 1\")[dic_violencias[\"trata\"]]"
   ]
  },
  {
   "cell_type": "code",
   "execution_count": null,
   "id": "6845c1dd-da4e-44db-89b0-dbd5b37db62b",
   "metadata": {
    "tags": []
   },
   "outputs": [],
   "source": [
    "print(\n",
    "    f\"Se han reportado {tbl_trata.iloc[:, 0].sum()} casos de trata de persona en línea.\"\n",
    ")"
   ]
  },
  {
   "cell_type": "code",
   "execution_count": null,
   "id": "724786f6",
   "metadata": {
    "tags": []
   },
   "outputs": [],
   "source": [
    "frecuencia_trata = fg.grafico_frecuencia(tbl_trata, \"H\")"
   ]
  },
  {
   "cell_type": "code",
   "execution_count": null,
   "id": "9349d339",
   "metadata": {
    "tags": []
   },
   "outputs": [],
   "source": [
    "temporalidad_trata = fg.grafico_temporalidad(tbl_trata, \"H\")"
   ]
  },
  {
   "cell_type": "code",
   "execution_count": null,
   "id": "30763fa1",
   "metadata": {},
   "outputs": [],
   "source": [
    "edad_trata = fg.grafico_edad(tbl_trata, \"H\")"
   ]
  },
  {
   "cell_type": "code",
   "execution_count": null,
   "id": "9f86b83c",
   "metadata": {
    "tags": []
   },
   "outputs": [],
   "source": [
    "parentesco_trata = fg.grafico_parentesco(tbl_trata, \"H\")"
   ]
  },
  {
   "cell_type": "code",
   "execution_count": null,
   "id": "8c0559db",
   "metadata": {
    "tags": []
   },
   "outputs": [],
   "source": [
    "medios_trata = fg.grafico_medios(tbl_trata, \"H\")[2]"
   ]
  },
  {
   "cell_type": "markdown",
   "id": "f1a138db",
   "metadata": {
    "tags": []
   },
   "source": [
    "#### Resultados para los casos de exclusión"
   ]
  },
  {
   "cell_type": "code",
   "execution_count": null,
   "id": "049f9b4c",
   "metadata": {
    "tags": []
   },
   "outputs": [],
   "source": [
    "tbl_exclusion = datos.query(\"exclusion == 1\")[dic_violencias[\"exclusion\"]]"
   ]
  },
  {
   "cell_type": "code",
   "execution_count": null,
   "id": "d85ae913-aea4-445b-b34a-22ed7b0a9125",
   "metadata": {
    "tags": []
   },
   "outputs": [],
   "source": [
    "print(\n",
    "    f\"Se han reportado {tbl_exclusion.iloc[:, 0].sum()} víctimas de exclusión digital.\"\n",
    ")"
   ]
  },
  {
   "cell_type": "code",
   "execution_count": null,
   "id": "5b092f52",
   "metadata": {
    "tags": []
   },
   "outputs": [],
   "source": [
    "frecuencia_exclusion = fg.grafico_frecuencia(tbl_exclusion, \"H\")"
   ]
  },
  {
   "cell_type": "code",
   "execution_count": null,
   "id": "e98ea7c2",
   "metadata": {
    "tags": []
   },
   "outputs": [],
   "source": [
    "temporalidad_exclusion = fg.grafico_temporalidad(tbl_exclusion, \"H\")"
   ]
  },
  {
   "cell_type": "code",
   "execution_count": null,
   "id": "b2a729bf",
   "metadata": {},
   "outputs": [],
   "source": [
    "edad_exclusion = fg.grafico_edad(tbl_exclusion, \"H\")"
   ]
  },
  {
   "cell_type": "markdown",
   "id": "932ba005",
   "metadata": {},
   "source": [
    "Para exclusión no se pregunto por agresor."
   ]
  },
  {
   "cell_type": "code",
   "execution_count": null,
   "id": "292175e4",
   "metadata": {
    "tags": []
   },
   "outputs": [],
   "source": [
    "medios_exclusion = fg.grafico_medios(tbl_exclusion, \"H\")[2]"
   ]
  },
  {
   "cell_type": "markdown",
   "id": "735258d7",
   "metadata": {
    "tags": []
   },
   "source": [
    "#### Resultados para los casos de cyberflashing"
   ]
  },
  {
   "cell_type": "code",
   "execution_count": null,
   "id": "4fb3c1d0",
   "metadata": {
    "tags": []
   },
   "outputs": [],
   "source": [
    "tbl_cyberflashing = datos.query(\"cyberflashing == 1\")[dic_violencias[\"cyberflashing\"]]"
   ]
  },
  {
   "cell_type": "code",
   "execution_count": null,
   "id": "ca9f5852-265e-49b6-aca2-6638d57b2a65",
   "metadata": {
    "tags": []
   },
   "outputs": [],
   "source": [
    "print(f\"Se han reportado {tbl_cyberflashing.iloc[:, 0].sum()} casos de cyberflashing\")"
   ]
  },
  {
   "cell_type": "code",
   "execution_count": null,
   "id": "d4e8ae09",
   "metadata": {
    "tags": []
   },
   "outputs": [],
   "source": [
    "frecuencia_cyberflashing = fg.grafico_frecuencia(tbl_cyberflashing, \"H\")"
   ]
  },
  {
   "cell_type": "code",
   "execution_count": null,
   "id": "34e69d88",
   "metadata": {
    "tags": []
   },
   "outputs": [],
   "source": [
    "temporalidad_cyberflashing = fg.grafico_temporalidad(tbl_cyberflashing, \"H\")"
   ]
  },
  {
   "cell_type": "code",
   "execution_count": null,
   "id": "058e3f87",
   "metadata": {},
   "outputs": [],
   "source": [
    "edad_cyberflashing = fg.grafico_edad(tbl_cyberflashing, \"H\")"
   ]
  },
  {
   "cell_type": "code",
   "execution_count": null,
   "id": "bef6529f",
   "metadata": {
    "tags": []
   },
   "outputs": [],
   "source": [
    "parentesco_cyberflashing = fg.grafico_parentesco(tbl_cyberflashing, \"H\")"
   ]
  },
  {
   "cell_type": "code",
   "execution_count": null,
   "id": "a9f7fe41",
   "metadata": {
    "tags": []
   },
   "outputs": [],
   "source": [
    "medios_cyberflashing = fg.grafico_medios(tbl_cyberflashing, \"H\")[2]"
   ]
  },
  {
   "cell_type": "markdown",
   "id": "ee5bf126",
   "metadata": {
    "tags": []
   },
   "source": [
    "#### Resultados para los casos de clonación de aplicaciones"
   ]
  },
  {
   "cell_type": "code",
   "execution_count": null,
   "id": "3740ebb0",
   "metadata": {
    "tags": []
   },
   "outputs": [],
   "source": [
    "tbl_clonacion = datos.query(\"clonacion == 1\")[dic_violencias[\"clonacion\"]]"
   ]
  },
  {
   "cell_type": "code",
   "execution_count": null,
   "id": "ffa888f9-495a-4afd-9c9f-e4b456227600",
   "metadata": {
    "tags": []
   },
   "outputs": [],
   "source": [
    "print(\n",
    "    f\"Se han reportado {tbl_clonacion.iloc[:, 0].sum()} casos de clonación de aplicaciones\"\n",
    ")"
   ]
  },
  {
   "cell_type": "code",
   "execution_count": null,
   "id": "fc88926c",
   "metadata": {
    "tags": []
   },
   "outputs": [],
   "source": [
    "frecuencia_clonacion = fg.grafico_frecuencia(tbl_clonacion, \"H\")"
   ]
  },
  {
   "cell_type": "code",
   "execution_count": null,
   "id": "f2e7afd5",
   "metadata": {
    "tags": []
   },
   "outputs": [],
   "source": [
    "temporalidad_clonacion = fg.grafico_temporalidad(tbl_clonacion, \"H\")"
   ]
  },
  {
   "cell_type": "code",
   "execution_count": null,
   "id": "85c31e25",
   "metadata": {},
   "outputs": [],
   "source": [
    "edad_clonacion = fg.grafico_edad(tbl_clonacion, \"H\")"
   ]
  },
  {
   "cell_type": "code",
   "execution_count": null,
   "id": "ea87917d",
   "metadata": {
    "tags": []
   },
   "outputs": [],
   "source": [
    "parentesco_clonacion = fg.grafico_parentesco(tbl_clonacion, \"H\")"
   ]
  },
  {
   "cell_type": "code",
   "execution_count": null,
   "id": "3a7e25cf",
   "metadata": {
    "tags": []
   },
   "outputs": [],
   "source": [
    "medios_clonacion = fg.grafico_medios(tbl_clonacion, \"H\")[2]"
   ]
  },
  {
   "cell_type": "markdown",
   "id": "cc3988a3",
   "metadata": {},
   "source": [
    "### Conocimiento sobre violencia digital basada en género"
   ]
  },
  {
   "cell_type": "code",
   "execution_count": null,
   "id": "0608b9c1",
   "metadata": {
    "tags": []
   },
   "outputs": [],
   "source": [
    "tbl_vdbg = datos.vdbg.value_counts()"
   ]
  },
  {
   "cell_type": "code",
   "execution_count": null,
   "id": "22286c83",
   "metadata": {
    "tags": []
   },
   "outputs": [],
   "source": [
    "fig = go.Figure(data=[go.Pie(labels=tbl_vdbg.index, values=tbl_vdbg)])\n",
    "fig.update_layout(\n",
    "    title_text=\"Conocimiento de VDBG\",\n",
    "    legend_title=\"¿Habías escuchado antes el término <br> Violencia Digital Basada en Género?\",\n",
    "    font=dict(family=\"Arial\", size=18, color=\"black\"),\n",
    ")\n",
    "fig.update_traces(\n",
    "    marker=dict(\n",
    "        colors=[\"rgb(39, 55, 77)\", \"rgb(82, 109, 130)\"],\n",
    "        line=dict(color=\"white\", width=1),\n",
    "    )\n",
    ")\n",
    "fig.show()\n",
    "fig.write_image(\"img/hombres/vdbg.png\")"
   ]
  },
  {
   "cell_type": "code",
   "execution_count": null,
   "id": "0bb240e0",
   "metadata": {
    "tags": []
   },
   "outputs": [],
   "source": [
    "vdbg_violencias = [s for s in list(datos.columns) if \"vdbg_\" in s]"
   ]
  },
  {
   "cell_type": "code",
   "execution_count": null,
   "id": "3e7d3faa",
   "metadata": {
    "tags": []
   },
   "outputs": [],
   "source": [
    "con_violencia = pd.DataFrame(\n",
    "    datos.query(\"vdbg == 'Sí'\")[vdbg_violencias[1:]].T.sum().value_counts()\n",
    ")\n",
    "con_violencia.index.name = \"Nº de violencias conocidas\"\n",
    "con_violencia[\"%\"] = round(con_violencia / len(datos) * 100, 2)\n",
    "con_violencia.rename(columns={\"count\": \"Cantidad de hombres\"}).sort_index()"
   ]
  },
  {
   "cell_type": "code",
   "execution_count": null,
   "id": "c074e86b",
   "metadata": {
    "tags": []
   },
   "outputs": [],
   "source": [
    "tbl_conocimiento_violencia = pd.DataFrame(datos[vdbg_violencias[1:]].sum())\n",
    "tbl_conocimiento_violencia.index = violencias\n",
    "tbl_conocimiento_violencia.rename(\n",
    "    index=violencias_nombres, columns={0: \"cantidad\"}, inplace=True\n",
    ")\n",
    "tbl_conocimiento_violencia = round(tbl_conocimiento_violencia / len(datos) * 100, 2)"
   ]
  },
  {
   "cell_type": "code",
   "execution_count": null,
   "id": "a564de7d",
   "metadata": {
    "tags": []
   },
   "outputs": [],
   "source": [
    "fig = px.bar(\n",
    "    tbl_conocimiento_violencia.sort_values(\"cantidad\", ascending=False),\n",
    "    y=\"cantidad\",\n",
    "    x=tbl_conocimiento_violencia.index,\n",
    "    text_auto=True,\n",
    ")\n",
    "fig.update_layout(\n",
    "    title=\"Conocimiento de la violencia\",\n",
    "    xaxis_title=\"Violencia\",\n",
    "    yaxis_title=\"% de hombres\",\n",
    "    font=dict(\n",
    "        family=\"Arial\",\n",
    "        size=18,\n",
    "        color=\"black\",\n",
    "    ),\n",
    ")\n",
    "fig.update_traces(\n",
    "    textfont_size=18,\n",
    "    textangle=0,\n",
    "    textposition=\"outside\",\n",
    "    cliponaxis=False,\n",
    "    showlegend=False,\n",
    "    marker_color=\"rgb(82, 109, 130)\",\n",
    "    marker_line_color=\"white\",\n",
    "    texttemplate=\"%{value: .4} %\",\n",
    ")\n",
    "fig.show()\n",
    "fig.write_image(\"img/hombres/conocimiento_violencia.png\")"
   ]
  },
  {
   "cell_type": "markdown",
   "id": "7a84170c",
   "metadata": {},
   "source": [
    "### Reacciones de las víctimas al sufrir la(s) violencia(s)"
   ]
  },
  {
   "cell_type": "code",
   "execution_count": null,
   "id": "3e858375",
   "metadata": {},
   "outputs": [],
   "source": [
    "reacciones = [s for s in list(datos.columns) if \"reaccion_\" in s]"
   ]
  },
  {
   "cell_type": "code",
   "execution_count": null,
   "id": "ea1f5a7c",
   "metadata": {
    "tags": []
   },
   "outputs": [],
   "source": [
    "tbl_reacciones = round(pd.DataFrame(datos[reacciones].sum() / len(datos) * 100), 2)"
   ]
  },
  {
   "cell_type": "code",
   "execution_count": null,
   "id": "e95f1db8",
   "metadata": {
    "tags": []
   },
   "outputs": [],
   "source": [
    "tbl_reacciones.rename(\n",
    "    index={\n",
    "        \"reaccion_ignorar\": \"Ignoraron al agresor\",\n",
    "        \"reaccion_contar\": \"Le contaron a un amigo(a) o familiar\",\n",
    "        \"reaccion_ayuda\": \"Acudieron a un centro de ayuda o denuncia\",\n",
    "        \"reaccion_reportar\": \"Reportaron el perfil o publicación en la red social\",\n",
    "        \"reaccion_internet\": \"Redujeron el uso en internet\",\n",
    "        \"reaccion_borrar\": \"Borraron la aplicación donde ocurrió\",\n",
    "        \"reaccion_eliminar\": \"Eliminaron la cuenta de usuario\",\n",
    "        \"reaccion_crear\": \"Crearon una cuenta de usuario distinta\",\n",
    "        \"reaccion_bloquear\": \"Bloquearon a la persona agresora\",\n",
    "        \"reaccion_enfrentar\": \"Enfrentaron a la persona agresora\",\n",
    "    },\n",
    "    columns={0: \"cantidad\"},\n",
    "    inplace=True,\n",
    ")"
   ]
  },
  {
   "cell_type": "code",
   "execution_count": null,
   "id": "da11d5e7",
   "metadata": {
    "tags": []
   },
   "outputs": [],
   "source": [
    "fig = px.bar(\n",
    "    tbl_reacciones.sort_values(\"cantidad\", ascending=False),\n",
    "    y=tbl_reacciones[\"cantidad\"],\n",
    "    x=tbl_reacciones.index,\n",
    "    text_auto=True,\n",
    ")\n",
    "fig.update_layout(\n",
    "    title=\"Reacción de la víctima al sufrir la(s) violencia(s)\",\n",
    "    xaxis_title=\"Violencia\",\n",
    "    yaxis_title=\"Nº de Hombres\",\n",
    "    font=dict(\n",
    "        family=\"Arial\",\n",
    "        size=18,\n",
    "        color=\"black\",\n",
    "    ),\n",
    ")\n",
    "fig.update_traces(\n",
    "    textfont_size=18,\n",
    "    textangle=0,\n",
    "    textposition=\"outside\",\n",
    "    cliponaxis=False,\n",
    "    showlegend=False,\n",
    "    marker_color=\"rgb(157, 178, 191)\",\n",
    "    marker_line_color=\"white\",\n",
    "    texttemplate=\"%{value: .4} %\",\n",
    ")\n",
    "fig.show()\n",
    "fig.write_image(\"img/hombres/reaccion_violencia.png\")"
   ]
  },
  {
   "cell_type": "markdown",
   "id": "2e67c4fc",
   "metadata": {},
   "source": [
    "### Conocimiento de víctimas"
   ]
  },
  {
   "cell_type": "code",
   "execution_count": null,
   "id": "14d940a9",
   "metadata": {
    "tags": []
   },
   "outputs": [],
   "source": [
    "tbl_victima = datos.victima.value_counts()"
   ]
  },
  {
   "cell_type": "code",
   "execution_count": null,
   "id": "3a31d6a8",
   "metadata": {
    "tags": []
   },
   "outputs": [],
   "source": [
    "fig = go.Figure(data=[go.Pie(labels=tbl_victima.index, values=tbl_victima)])\n",
    "fig.update_layout(\n",
    "    title_text=\"Conocimiento de Víctimas\",\n",
    "    legend_title=\"¿Conoces a alguna mujer que haya <br> sido víctima de violencia digital?\",\n",
    ")\n",
    "fig.update_traces(\n",
    "    marker=dict(\n",
    "        colors=[\"rgb(39, 55, 77)\", \"rgb(82, 109, 130)\"],\n",
    "        line=dict(color=\"white\", width=1),\n",
    "    )\n",
    ")\n",
    "fig.show()\n",
    "fig.write_image(\"img/hombres/victima.png\")"
   ]
  },
  {
   "cell_type": "code",
   "execution_count": null,
   "id": "dea2989d",
   "metadata": {
    "tags": []
   },
   "outputs": [],
   "source": [
    "num_victimas = pd.DataFrame(datos.numero_victima.value_counts())"
   ]
  },
  {
   "cell_type": "code",
   "execution_count": null,
   "id": "f0e7dd56-051b-4e7e-8310-ef00eb3d31c2",
   "metadata": {},
   "outputs": [],
   "source": [
    "fig = px.bar(\n",
    "    num_victimas.sort_index(),\n",
    "    y=num_victimas.sort_index()[\"count\"],\n",
    "    x=num_victimas.sort_index().index.values,\n",
    "    text=round(num_victimas.sort_index() / len(datos) * 100, 2)[\"count\"],\n",
    ")\n",
    "fig.update_layout(\n",
    "    title=\"Cantidad de víctimas conocidas\",\n",
    "    xaxis_title=\"Nº de victimas\",\n",
    "    yaxis_title=\"% de hombres\",\n",
    "    font=dict(\n",
    "        family=\"Arial\",\n",
    "        size=18,\n",
    "        color=\"black\",\n",
    "    ),\n",
    ")\n",
    "fig.update_traces(\n",
    "    textfont_size=18,\n",
    "    textangle=0,\n",
    "    textposition=\"outside\",\n",
    "    cliponaxis=False,\n",
    "    showlegend=False,\n",
    "    marker_color=\"rgb(82, 109, 130)\",\n",
    "    marker_line_color=\"white\",\n",
    "    texttemplate=\"%{text: .4} %\",\n",
    ")\n",
    "fig.show()\n",
    "fig.write_image(\"img/hombres/num_victimas.png\")"
   ]
  },
  {
   "cell_type": "markdown",
   "id": "609bbcb7",
   "metadata": {},
   "source": [
    "### Conocimiento de leyes y normas"
   ]
  },
  {
   "cell_type": "code",
   "execution_count": null,
   "id": "eb56555f",
   "metadata": {
    "tags": []
   },
   "outputs": [],
   "source": [
    "tbl_leyes = datos.leyes_normas.value_counts()"
   ]
  },
  {
   "cell_type": "code",
   "execution_count": null,
   "id": "cb97166e",
   "metadata": {
    "tags": []
   },
   "outputs": [],
   "source": [
    "fig = go.Figure(data=[go.Pie(labels=tbl_leyes.index, values=tbl_leyes)])\n",
    "fig.update_layout(\n",
    "    title_text=\"Conocimiento de Leyes y Normas\",\n",
    "    legend_title=\"¿Conoces leyes o normativas en el país <br> que contemplan las violencias digitales?\",\n",
    ")\n",
    "fig.update_traces(\n",
    "    marker=dict(\n",
    "        colors=[\"rgb(39, 55, 77)\", \"rgb(82, 109, 130)\"],\n",
    "        line=dict(color=\"white\", width=1),\n",
    "    )\n",
    ")\n",
    "fig.show()\n",
    "fig.write_image(\"img/hombres/ley.png\")"
   ]
  },
  {
   "cell_type": "markdown",
   "id": "963b40cc-58c7-43bc-b619-d6719ad870ba",
   "metadata": {},
   "source": [
    "### Interacciones entre ciertos ítems de la encuesta"
   ]
  },
  {
   "cell_type": "markdown",
   "id": "3d054e67",
   "metadata": {},
   "source": [
    "#### Tipos de violencia y edad en que ocurrió por primera vez"
   ]
  },
  {
   "cell_type": "code",
   "execution_count": null,
   "id": "cacae0e7",
   "metadata": {
    "tags": []
   },
   "outputs": [],
   "source": [
    "edades_violencias = [s for s in list(datos.columns) if \"edad_\" in s]"
   ]
  },
  {
   "cell_type": "code",
   "execution_count": null,
   "id": "f2317bdd",
   "metadata": {
    "tags": []
   },
   "outputs": [],
   "source": [
    "lista_edades_violencias = []\n",
    "for i in edades_violencias:\n",
    "    j = (\n",
    "        pd.cut(\n",
    "            datos[edades_violencias].loc[:, i],\n",
    "            bins=[0, 10, 15, 18, 25, 30, 40, 50, 60, 75],\n",
    "            right=False,\n",
    "        )\n",
    "        .value_counts()\n",
    "        .sort_index()\n",
    "    )\n",
    "    j = j.reset_index()\n",
    "    for k in violencias_nombres.keys():\n",
    "        if k in j.columns[0]:\n",
    "            j[\"violencia\"] = [violencias_nombres[k]] * len(j)\n",
    "    j = j.rename(columns={j.columns[0]: \"Edad\"})\n",
    "    lista_edades_violencias.append(j)"
   ]
  },
  {
   "cell_type": "code",
   "execution_count": null,
   "id": "1382ce39",
   "metadata": {
    "tags": []
   },
   "outputs": [],
   "source": [
    "tbl_edades_primera_vez = pd.concat(lista_edades_violencias, join=\"inner\").reset_index(\n",
    "    drop=True\n",
    ")"
   ]
  },
  {
   "cell_type": "code",
   "execution_count": null,
   "id": "f47f5e19",
   "metadata": {
    "tags": []
   },
   "outputs": [],
   "source": [
    "tbl_edades_primera_vez.Edad = tbl_edades_primera_vez.Edad.astype(\"str\")"
   ]
  },
  {
   "cell_type": "code",
   "execution_count": null,
   "id": "96990dbb",
   "metadata": {
    "tags": []
   },
   "outputs": [],
   "source": [
    "l_ = []\n",
    "for i in lista_edades_violencias:\n",
    "    j = round(i[\"count\"] / i[\"count\"].sum() * 100, 3)\n",
    "    i[\"count\"] = j\n",
    "    l_.append(i)"
   ]
  },
  {
   "cell_type": "code",
   "execution_count": null,
   "id": "6d60482b",
   "metadata": {
    "tags": []
   },
   "outputs": [],
   "source": [
    "edades_primera_vez = (\n",
    "    pd.concat(l_, join=\"inner\")\n",
    "    .reset_index(drop=True)\n",
    "    .rename_axis(columns={\"violencia\": \"Violencia\"})\n",
    ")"
   ]
  },
  {
   "cell_type": "code",
   "execution_count": null,
   "id": "3eb6f670",
   "metadata": {
    "tags": []
   },
   "outputs": [],
   "source": [
    "edades_primera_vez.Edad = edades_primera_vez.Edad.astype(\"str\")"
   ]
  },
  {
   "cell_type": "code",
   "execution_count": null,
   "id": "9f25ae0b",
   "metadata": {
    "tags": []
   },
   "outputs": [],
   "source": [
    "fig = px.bar(\n",
    "    edades_primera_vez,\n",
    "    x=\"Edad\",\n",
    "    y=\"count\",\n",
    "    color=\"violencia\",\n",
    "    title=\"Tasa de incidencia por grupo etario según tipo de violencia\",\n",
    "    barmode=\"group\",\n",
    "    color_discrete_sequence=px.colors.qualitative.Prism_r,\n",
    "    width=1200,\n",
    "    height=600,\n",
    ")\n",
    "fig.update_yaxes(title=\"% de hombres\")\n",
    "fig.update_xaxes(\n",
    "    title=\"Rangos de edad\",\n",
    "    labelalias={\n",
    "        \"[0, 10)\": \"0-9\",\n",
    "        \"[10, 15)\": \"10-14\",\n",
    "        \"[15, 18)\": \"15-17\",\n",
    "        \"[18, 25)\": \"18-24\",\n",
    "        \"[25, 30)\": \"24-29\",\n",
    "        \"[30, 40)\": \"30-39\",\n",
    "        \"[40, 50)\": \"40-49\",\n",
    "        \"[50, 60)\": \"50-59\",\n",
    "        \"[60, 75)\": \"60 y más\",\n",
    "    },\n",
    ")\n",
    "fig.show()\n",
    "fig.write_image(\"img/violencia_edad2.png\")"
   ]
  },
  {
   "cell_type": "markdown",
   "id": "917c697d",
   "metadata": {
    "tags": []
   },
   "source": [
    "#### Tipo de violencia según el medio por el cual ocurrió"
   ]
  },
  {
   "cell_type": "code",
   "execution_count": null,
   "id": "9f8b53a8",
   "metadata": {
    "tags": []
   },
   "outputs": [],
   "source": [
    "lista_medios_hombres = [s for s in list(vars()) if \"medios_\" in s]\n",
    "ls_medios = []\n",
    "for i in [s for s in list(vars()) if \"medios_\" in s]:\n",
    "    df = vars()[i]\n",
    "    ls_medios.append(df)"
   ]
  },
  {
   "cell_type": "code",
   "execution_count": null,
   "id": "a4660734",
   "metadata": {
    "tags": []
   },
   "outputs": [],
   "source": [
    "lista_df_medios_hombres = []\n",
    "for df, i in zip(ls_medios, lista_medios):\n",
    "    tbl = pd.DataFrame(df)\n",
    "    if i.split(\"_\")[1] in violencias_nombres.keys():\n",
    "        l_violencia = [violencias_nombres[i.split(\"_\")[1]]] * len(df)\n",
    "    else:\n",
    "        l_violencia = [\"Phishing/Vishing/Smishing\"] * len(df)\n",
    "    tbl[\"violencia\"] = l_violencia\n",
    "    tbl.rename(columns={0: \"cantidad\"}, inplace=True)\n",
    "    tbl.reset_index(inplace=True)\n",
    "    tbl.rename(columns={\"index\": \"Medio\"}, inplace=True)\n",
    "    lista_df_medios.append(tbl)"
   ]
  },
  {
   "cell_type": "code",
   "execution_count": null,
   "id": "3d19c645",
   "metadata": {
    "tags": []
   },
   "outputs": [],
   "source": [
    "tbl_violencia_medio = pd.concat(lista_df_medios)"
   ]
  },
  {
   "cell_type": "code",
   "execution_count": null,
   "id": "7f58c335",
   "metadata": {
    "tags": []
   },
   "outputs": [],
   "source": [
    "tbl_violencia_medio.reset_index(drop=True, inplace=True)"
   ]
  },
  {
   "cell_type": "code",
   "execution_count": null,
   "id": "fd50f3aa",
   "metadata": {
    "tags": []
   },
   "outputs": [],
   "source": [
    "tbl_violencia_medio = tbl_violencia_medio.astype(\n",
    "    {\"cantidad\": \"float\", \"violencia\": \"str\", \"Medio\": \"str\"}\n",
    ")"
   ]
  },
  {
   "cell_type": "code",
   "execution_count": null,
   "id": "0bfc6f61",
   "metadata": {},
   "outputs": [],
   "source": [
    "fig = px.bar(\n",
    "    tbl_violencia_medio.sort_values(\"cantidad\", ascending=False),\n",
    "    x=\"cantidad\",\n",
    "    y=\"violencia\",\n",
    "    color=\"Medio\",\n",
    "    title=\"Tipo de violencia según el medio por el cual ocurrió\",\n",
    "    barmode=\"stack\",\n",
    "    orientation=\"h\",\n",
    "    color_discrete_sequence=px.colors.qualitative.Antique_r,\n",
    "    width=1600,\n",
    "    height=600,\n",
    ")\n",
    "fig.update_yaxes(title=\"Violencia\")\n",
    "fig.update_xaxes(title=\"% de hombres\")\n",
    "fig.show()\n",
    "fig.write_image(\"img/hombres/violencia_medio1.png\")"
   ]
  },
  {
   "cell_type": "markdown",
   "id": "13f6e1bc",
   "metadata": {},
   "source": [
    "#### Parentesco de la persona agresora con las mujeres que han sufrido violencias"
   ]
  },
  {
   "cell_type": "code",
   "execution_count": null,
   "id": "78791ba9",
   "metadata": {
    "tags": []
   },
   "outputs": [],
   "source": [
    "lista_df_parentescos = [\n",
    "    parentesco_identidad[2],\n",
    "    parentesco_ciberacoso[2],\n",
    "    parentesco_doxxing[2],\n",
    "    parentesco_ciberdifamacion[2],\n",
    "    parentesco_stalking[2],\n",
    "    parentesco_ciberextorsion[2],\n",
    "    parentesco_cyberflashing[2],\n",
    "    parentesco_clonacion[2],\n",
    "]"
   ]
  },
  {
   "cell_type": "code",
   "execution_count": null,
   "id": "e2fb73a9",
   "metadata": {
    "tags": []
   },
   "outputs": [],
   "source": [
    "parentescos_ = [\n",
    "    \"identidad\",\n",
    "    \"ciberacoso\",\n",
    "    \"doxxing\",\n",
    "    \"ciberdifamacion\",\n",
    "    \"stalking\",\n",
    "    \"ciberextorsion\",\n",
    "    \"explotacion\",\n",
    "    \"cyberflashing\",\n",
    "    \"deepfake\",\n",
    "    \"clonacion\",\n",
    "]"
   ]
  },
  {
   "cell_type": "code",
   "execution_count": null,
   "id": "05feda2f",
   "metadata": {
    "tags": []
   },
   "outputs": [],
   "source": [
    "for i, j in zip(lista_df_parentescos, parentescos_):\n",
    "    if j in violencias_nombres.keys():\n",
    "        ls_index = [violencias_nombres[j]] * len(i)\n",
    "    i[\"violencia\"] = ls_index"
   ]
  },
  {
   "cell_type": "code",
   "execution_count": null,
   "id": "3c881194",
   "metadata": {
    "tags": []
   },
   "outputs": [],
   "source": [
    "tbl_parentesco_ = pd.concat(lista_df_parentescos)"
   ]
  },
  {
   "cell_type": "code",
   "execution_count": null,
   "id": "d4f6528f",
   "metadata": {
    "tags": []
   },
   "outputs": [],
   "source": [
    "tbl_parentesco_.reset_index(inplace=True)"
   ]
  },
  {
   "cell_type": "code",
   "execution_count": null,
   "id": "d55d2d32",
   "metadata": {
    "tags": []
   },
   "outputs": [],
   "source": [
    "fig = px.bar(\n",
    "    tbl_parentesco_,\n",
    "    x=\"violencia\",\n",
    "    y=\"count\",\n",
    "    color=\"parentesco\",\n",
    "    title=\"Parentesco del agresor con los hombres que han sufrido violencias\",\n",
    "    barmode=\"group\",\n",
    "    color_discrete_sequence=px.colors.qualitative.Prism_r,\n",
    "    width=1200,\n",
    "    height=600,\n",
    ")\n",
    "fig.update_layout(\n",
    "    legend_title=\"Parentesco con el agresor(a):\",\n",
    "    font=dict(family=\"Arial\", size=18, color=\"black\"),\n",
    ")\n",
    "fig.update_xaxes(title=\"Violencia\")\n",
    "fig.update_yaxes(title=\"% de hombres\")\n",
    "fig.show()\n",
    "fig.write_image(\"img/hombres/violencia_parentesco1.png\")"
   ]
  },
  {
   "cell_type": "markdown",
   "id": "d95fb24f-d10d-4962-b402-fe49340313f0",
   "metadata": {},
   "source": [
    "NOTA: Para las siguientes violencias la pregunta sobre parentesco se reformulo a si logró o no identificar el agresor."
   ]
  },
  {
   "cell_type": "code",
   "execution_count": null,
   "id": "7dc53708",
   "metadata": {
    "tags": []
   },
   "outputs": [],
   "source": [
    "parentesco_violencia = tbl_parentesco_.pivot(\n",
    "    index=\"violencia\", columns=\"parentesco\", values=\"count\"\n",
    ").fillna(0)"
   ]
  },
  {
   "cell_type": "code",
   "execution_count": null,
   "id": "1705a7cd",
   "metadata": {
    "tags": []
   },
   "outputs": [],
   "source": [
    "tbl_grooPt = (\n",
    "    pd.concat(\n",
    "        [parentesco_grooming[2], parentesco_phishing_vs[2], parentesco_trata[2]],\n",
    "        axis=1,\n",
    "        keys=[\"Grooming\", \"Phishing\", \"Trata\"],\n",
    "    )\n",
    "    .T.reset_index(level=1, drop=True)\n",
    "    .fillna(0)\n",
    ")\n",
    "tbl_grooPt"
   ]
  },
  {
   "cell_type": "markdown",
   "id": "7beb2eb4-f455-4027-946b-375d9ace7c0d",
   "metadata": {},
   "source": [
    "NOTA: Para mobbing la víctima por la naturaleza de la agresión conoce a su agresor(a)."
   ]
  },
  {
   "cell_type": "code",
   "execution_count": null,
   "id": "a266553d",
   "metadata": {
    "tags": []
   },
   "outputs": [],
   "source": [
    "tbl_parentesco_mobbing = parentesco_mobbing[1]"
   ]
  },
  {
   "cell_type": "code",
   "execution_count": null,
   "id": "1af4d21e",
   "metadata": {
    "tags": []
   },
   "outputs": [],
   "source": [
    "tbl_parentesco_mobbing.astype({\"count\": \"int\"}).rename_axis(\n",
    "    index={\"parentesco_mobbing\": \"Relación laboral\"}\n",
    ").rename(columns={\"count\": \"N° de hombres\"})"
   ]
  },
  {
   "cell_type": "markdown",
   "id": "677af3cf",
   "metadata": {},
   "source": [
    "#### Identificación de la persona agresora"
   ]
  },
  {
   "cell_type": "code",
   "execution_count": null,
   "id": "c0cc9aaf",
   "metadata": {
    "tags": []
   },
   "outputs": [],
   "source": [
    "tbl_identificacion_si = round(\n",
    "    pd.DataFrame(\n",
    "        parentesco_violencia[\n",
    "            [\n",
    "                \"Fue mi ex-pareja en ese momento\",\n",
    "                \"Fue un compañero(a) de trabajo\",\n",
    "                \"No conocía a quien me agredió, pero le identifiqué\",\n",
    "                \"Teníamos una amistad\",\n",
    "            ]\n",
    "        ].sum(1)\n",
    "    ).rename(columns={0: \"Sí\"}),\n",
    "    2,\n",
    ")"
   ]
  },
  {
   "cell_type": "code",
   "execution_count": null,
   "id": "d2207cad",
   "metadata": {
    "tags": []
   },
   "outputs": [],
   "source": [
    "tbl_identificacion_no = pd.DataFrame(\n",
    "    parentesco_violencia[\"No le pude identificar\"]\n",
    ").rename(columns={\"No le pude identificar\": \"No\"})"
   ]
  },
  {
   "cell_type": "code",
   "execution_count": null,
   "id": "7ed0e8a1",
   "metadata": {
    "tags": []
   },
   "outputs": [],
   "source": [
    "tabla_identificacion = pd.concat(\n",
    "    [tbl_identificacion_si.join(tbl_identificacion_no), tbl_grooPt]\n",
    ")"
   ]
  },
  {
   "cell_type": "code",
   "execution_count": null,
   "id": "cda3c58e",
   "metadata": {
    "tags": []
   },
   "outputs": [],
   "source": [
    "porcentaje_identificacion = round(\n",
    "    (tabla_identificacion.T / tabla_identificacion.sum(1) * 100).T, 2\n",
    ").fillna(0)"
   ]
  },
  {
   "cell_type": "code",
   "execution_count": null,
   "id": "46ed9d24",
   "metadata": {
    "tags": []
   },
   "outputs": [],
   "source": [
    "fig = px.bar(\n",
    "    porcentaje_identificacion,\n",
    "    barmode=\"group\",\n",
    "    text_auto=\"True\",\n",
    "    color_discrete_map={\"Sí\": \"rgb(39, 55, 77)\", \"No\": \"rgb(82, 109, 130)\"},\n",
    "    width=1200,\n",
    "    height=600,\n",
    ")\n",
    "fig.update_layout(\n",
    "    title=\"Identificación del agresor(a)\",\n",
    "    xaxis_title=\"Violencia\",\n",
    "    yaxis_title=\"% de hombres\",\n",
    "    legend_title=\"¿Identificó al agresor(a)?\",\n",
    "    font=dict(\n",
    "        family=\"Arial\",\n",
    "        size=18,\n",
    "        color=\"black\",\n",
    "    ),\n",
    ")\n",
    "fig.update_traces(\n",
    "    textfont_size=18,\n",
    "    textangle=0,\n",
    "    textposition=\"outside\",\n",
    "    cliponaxis=False,\n",
    "    texttemplate=\"%{value} %\",\n",
    ")\n",
    "\n",
    "fig.show()\n",
    "fig.write_image(\"img/hombres/id_agresor.png\")"
   ]
  },
  {
   "cell_type": "markdown",
   "id": "1ba316d2",
   "metadata": {},
   "source": [
    "#### Sexo del agresor por tipo de violencia"
   ]
  },
  {
   "cell_type": "code",
   "execution_count": null,
   "id": "5b562519",
   "metadata": {
    "tags": []
   },
   "outputs": [],
   "source": [
    "variables_sexo = [\n",
    "    \"sexo_identidad\",\n",
    "    \"sexo_ciberacoso\",\n",
    "    \"sexo_doxxing\",\n",
    "    \"sexo_mobbing\",\n",
    "    \"sexo_ciberdifamacion\",\n",
    "    \"sexo_stalking\",\n",
    "    \"sexo_ciberextorsion\",\n",
    "    \"sexo_grooming\",\n",
    "    \"sexo_phishing_vs\",\n",
    "]"
   ]
  },
  {
   "cell_type": "code",
   "execution_count": null,
   "id": "3229cfdb",
   "metadata": {
    "tags": []
   },
   "outputs": [],
   "source": [
    "sexo_violencias = []\n",
    "names_ = []\n",
    "for i in variables_sexo:\n",
    "    df = vars()[i]\n",
    "    names_.append(df[1].index.name.split)\n",
    "    sexo_violencias.append(df[1])"
   ]
  },
  {
   "cell_type": "code",
   "execution_count": null,
   "id": "acbefe71",
   "metadata": {
    "tags": []
   },
   "outputs": [],
   "source": [
    "tbl_sexo_violencias = (\n",
    "    pd.concat(\n",
    "        sexo_violencias,\n",
    "        join=\"outer\",\n",
    "        axis=1,\n",
    "        keys=[\n",
    "            \"Duplicación de identidad\",\n",
    "            \"Ciberacoso\",\n",
    "            \"Doxxing\",\n",
    "            \"Mobbing\",\n",
    "            \"Ciberdifamación\",\n",
    "            \"Cibervigilancia (stalking)\",\n",
    "            \"Ciberextorsión\",\n",
    "            \"Grooming\",\n",
    "            \"Phishing/Vishing/Smishing\",\n",
    "            \"Clonación\",\n",
    "        ],\n",
    "    )\n",
    "    .T.reset_index(1, drop=True)\n",
    "    .fillna(0)\n",
    ")"
   ]
  },
  {
   "cell_type": "code",
   "execution_count": null,
   "id": "cbc3b720",
   "metadata": {
    "tags": []
   },
   "outputs": [],
   "source": [
    "sexo_porcentaje = round((tbl_sexo_violencias.T / tbl_sexo_violencias.sum(1) * 100).T, 2)"
   ]
  },
  {
   "cell_type": "code",
   "execution_count": null,
   "id": "24ce06f2",
   "metadata": {
    "tags": []
   },
   "outputs": [],
   "source": [
    "fig = px.bar(\n",
    "    sexo_porcentaje,\n",
    "    barmode=\"group\",\n",
    "    color_discrete_sequence=[\n",
    "        \"rgb(39, 55, 77)\",\n",
    "        \"rgb(82, 109, 130)\",\n",
    "        \"rgb(157, 178, 191)\",\n",
    "    ],\n",
    "    width=1200,\n",
    "    height=600,\n",
    "    text_auto=True,\n",
    ")\n",
    "fig.update_layout(\n",
    "    title=\"Sexo del agresor por tipo de violencia\",\n",
    "    xaxis_title=\"Violencia\",\n",
    "    yaxis_title=\"% de hombres\",\n",
    "    legend_title=\"Sexo del agresor\",\n",
    "    font=dict(\n",
    "        family=\"Arial\",\n",
    "        size=18,\n",
    "        color=\"black\",\n",
    "    ),\n",
    ")\n",
    "fig.update_traces(\n",
    "    textfont_size=18,\n",
    "    textangle=0,\n",
    "    textposition=\"outside\",\n",
    "    cliponaxis=False,\n",
    "    texttemplate=\"%{value: } %\",\n",
    ")\n",
    "\n",
    "fig.show()\n",
    "fig.write_image(\"img/hombres/sexo_agresor_violencia.png\")"
   ]
  },
  {
   "cell_type": "code",
   "execution_count": null,
   "id": "fb19f28f",
   "metadata": {
    "tags": []
   },
   "outputs": [],
   "source": [
    "cruce = porcentaje_identificacion.join(sexo_porcentaje)"
   ]
  },
  {
   "cell_type": "code",
   "execution_count": null,
   "id": "0f70e5b5",
   "metadata": {
    "tags": []
   },
   "outputs": [],
   "source": [
    "cruce.columns = pd.MultiIndex.from_tuples(\n",
    "    [\n",
    "        (\"Sí\", \"%\"),\n",
    "        (\"No\", \"%\"),\n",
    "        (\"Sí\", \"Mujer\"),\n",
    "        (\"Sí\", \"Hombre\"),\n",
    "        (\"Sí\", \"Un grupo de personas\"),\n",
    "    ]\n",
    ")"
   ]
  },
  {
   "cell_type": "code",
   "execution_count": null,
   "id": "5d8880ce",
   "metadata": {},
   "outputs": [],
   "source": [
    "variables = [\n",
    "    s\n",
    "    for s in tbl_identidad.columns\n",
    "    if s.startswith(\"sexo_\") or s.startswith(\"parentesco_\")\n",
    "]"
   ]
  },
  {
   "cell_type": "code",
   "execution_count": null,
   "id": "8b4b31c7",
   "metadata": {
    "tags": []
   },
   "outputs": [],
   "source": [
    "lista = []\n",
    "for j, k in zip(tbl_identidad[variables[0]], tbl_identidad[variables[1]]):\n",
    "    if j != \"No le pude identificar\" and j != \"No\":\n",
    "        lista.append((j, k))\n",
    "df = pd.DataFrame(lista, columns=[\"Parentesco\", \"Sexo\"]).value_counts()"
   ]
  },
  {
   "cell_type": "code",
   "execution_count": null,
   "id": "7322531e",
   "metadata": {
    "tags": []
   },
   "outputs": [],
   "source": [
    "dic_sexo = {}\n",
    "for i in [s for s in violencias if s != \"exclusion\"]:\n",
    "    lista = []\n",
    "    g = datos.query(f\"{i} == 1\")\n",
    "    for j, k in zip(g[dic_violencias[i][4]], g[dic_violencias[i][5]]):\n",
    "        if j != \"No le pude identificar\" and j != \"No\":\n",
    "            lista.append((j, k))\n",
    "    dic_sexo[i] = pd.DataFrame(lista, columns=[\"Parentesco\", \"Sexo\"]).value_counts()"
   ]
  },
  {
   "cell_type": "code",
   "execution_count": null,
   "id": "0f93e279",
   "metadata": {},
   "outputs": [],
   "source": [
    "for i in [s for s in violencias if s != \"exclusion\"]:\n",
    "    lista = []\n",
    "    g = datos.query(f\"{i} == 1\")\n",
    "    for j, k in zip(g[dic_violencias[i][4]], g[dic_violencias[i][5]]):\n",
    "        if j != \"No le pude identificar\" and j != \"No\":\n",
    "            lista.append((j, k))\n",
    "    dic_sexo[i] = pd.DataFrame(lista, columns=[\"Parentesco\", \"Sexo\"]).value_counts()"
   ]
  },
  {
   "cell_type": "markdown",
   "id": "845a15ae",
   "metadata": {
    "tags": []
   },
   "source": [
    "#### Sexo del agresor(a) y parentesco con la víctima por tipo de violencia"
   ]
  },
  {
   "cell_type": "code",
   "execution_count": null,
   "id": "eee7e84a",
   "metadata": {
    "tags": []
   },
   "outputs": [],
   "source": [
    "dic_sexo = {}\n",
    "for i in [s for s in violencias if s != \"exclusion\"]:\n",
    "    lista = []\n",
    "    g = datos.query(f\"{i} == 1\")\n",
    "    for j, k in zip(g[dic_violencias[i][4]], g[dic_violencias[i][5]]):\n",
    "        if j != \"No le pude identificar\" and j != \"No\":\n",
    "            lista.append((i, j, k))\n",
    "    dic_sexo[i] = pd.DataFrame(\n",
    "        lista, columns=[\"Violencia\", \"Parentesco\", \"Sexo\"]\n",
    "    ).value_counts()"
   ]
  },
  {
   "cell_type": "code",
   "execution_count": null,
   "id": "96e16395",
   "metadata": {
    "tags": []
   },
   "outputs": [],
   "source": [
    "lista_sexo = [\n",
    "    dic_sexo[i].reset_index(level=0, drop=True)\n",
    "    for i in dic_sexo\n",
    "    if i\n",
    "    in [\n",
    "        \"identidad\",\n",
    "        \"ciberacoso\",\n",
    "        \"doxxing\",\n",
    "        \"ciberdifamacion\",\n",
    "        \"stalking\",\n",
    "        \"ciberextorsion\",\n",
    "        \"explotacion\",\n",
    "        \"cyberflashing\",\n",
    "        \"deepfake\",\n",
    "        \"clonacion\",\n",
    "    ]\n",
    "]"
   ]
  },
  {
   "cell_type": "code",
   "execution_count": null,
   "id": "67066af5",
   "metadata": {
    "tags": []
   },
   "outputs": [],
   "source": [
    "lista_parentesco_sexo = [\n",
    "    round(dic_sexo[i] / dic_sexo[i].sum() * 100, 2).reset_index()\n",
    "    for i in dic_sexo\n",
    "    if i\n",
    "    in [\n",
    "        \"identidad\",\n",
    "        \"ciberacoso\",\n",
    "        \"doxxing\",\n",
    "        \"ciberdifamacion\",\n",
    "        \"stalking\",\n",
    "        \"ciberextorsion\",\n",
    "        \"explotacion\",\n",
    "        \"cyberflashing\",\n",
    "        \"deepfake\",\n",
    "        \"clonacion\",\n",
    "    ]\n",
    "]"
   ]
  },
  {
   "cell_type": "code",
   "execution_count": null,
   "id": "51d4c27d",
   "metadata": {
    "tags": []
   },
   "outputs": [],
   "source": [
    "porcentaje_parentesco_sexo = pd.concat(lista_parentesco_sexo)"
   ]
  },
  {
   "cell_type": "code",
   "execution_count": null,
   "id": "5e75a640",
   "metadata": {
    "tags": []
   },
   "outputs": [],
   "source": [
    "porcentaje_parentesco_sexo.Violencia.replace(violencias_nombres, inplace=True)"
   ]
  },
  {
   "cell_type": "code",
   "execution_count": null,
   "id": "007e6347",
   "metadata": {
    "tags": []
   },
   "outputs": [],
   "source": [
    "porcentaje_parentesco_sexo.reset_index(drop=True, inplace=True)"
   ]
  },
  {
   "cell_type": "code",
   "execution_count": null,
   "id": "b9a2313f",
   "metadata": {
    "tags": []
   },
   "outputs": [],
   "source": [
    "fig = px.bar(\n",
    "    porcentaje_parentesco_sexo,\n",
    "    x=\"Parentesco\",\n",
    "    y=\"count\",\n",
    "    color=\"Sexo\",\n",
    "    barmode=\"group\",\n",
    "    facet_col=\"Violencia\",\n",
    "    facet_col_wrap=2,\n",
    "    color_discrete_map={\"Mujer\": \"rgb(39, 55, 77)\", \"Hombre\": \"rgb(82, 109, 130)\"},\n",
    "    width=1000,\n",
    "    height=1500,\n",
    "    text_auto=True,\n",
    ")\n",
    "fig.update_layout(\n",
    "    title=\"Sexo del agresor y parentesco de la víctima por tipo de violencia\",\n",
    "    legend_title=\"Sexo del agresor\",\n",
    "    font=dict(\n",
    "        family=\"Arial\",\n",
    "        size=18,\n",
    "        color=\"black\",\n",
    "    ),\n",
    ")\n",
    "fig.update_traces(\n",
    "    textfont_size=18,\n",
    "    textangle=0,\n",
    "    textposition=\"outside\",\n",
    "    cliponaxis=False,\n",
    "    texttemplate=\"%{value} %\",\n",
    ")\n",
    "fig.for_each_annotation(lambda a: a.update(text=a.text.split(\"=\")[-1]))\n",
    "fig.for_each_yaxis(lambda y: y.update(title=\"\"))\n",
    "fig.add_annotation(\n",
    "    x=-0.07,\n",
    "    y=0.5,\n",
    "    text=\"Porcentaje de agresores\",\n",
    "    textangle=-90,\n",
    "    xref=\"paper\",\n",
    "    yref=\"paper\",\n",
    ")\n",
    "fig.show()\n",
    "fig.write_image(\"img/hombres/violencia_parentesco_sexo.png\")"
   ]
  },
  {
   "cell_type": "code",
   "execution_count": null,
   "id": "7bcdee75",
   "metadata": {
    "tags": []
   },
   "outputs": [],
   "source": [
    "tbl_parentco_sexo = (\n",
    "    pd.concat(\n",
    "        lista_sexo,\n",
    "        join=\"outer\",\n",
    "        keys=[\n",
    "            \"identidad\",\n",
    "            \"ciberacoso\",\n",
    "            \"doxxing\",\n",
    "            \"ciberdifamacion\",\n",
    "            \"stalking\",\n",
    "            \"ciberextorsion\",\n",
    "            \"explotacion\",\n",
    "            \"cyberflashing\",\n",
    "            \"deepfake\",\n",
    "            \"clonacion\",\n",
    "        ],\n",
    "        axis=1,\n",
    "    )\n",
    "    .fillna(0)\n",
    "    .sort_index(level=0)\n",
    "    .T\n",
    ")"
   ]
  },
  {
   "cell_type": "markdown",
   "id": "79b122c3",
   "metadata": {},
   "source": [
    "#### Sexo del agresor(a) y parentesco con la víctima por tipo de violencia: individual"
   ]
  },
  {
   "cell_type": "code",
   "execution_count": null,
   "id": "36f5b48c",
   "metadata": {
    "tags": []
   },
   "outputs": [],
   "source": [
    "sp_df = []\n",
    "lista_para_graficar = []\n",
    "for i in lista_parentesco_sexo:\n",
    "    df = i.pivot(index=\"Parentesco\", columns=\"Sexo\", values=\"count\").fillna(0)\n",
    "    if \"Hombre\" in df.columns:\n",
    "        df.Hombre = df.Hombre * -1\n",
    "        sp_df.append(df)\n",
    "        lista_para_graficar.append(i)"
   ]
  },
  {
   "cell_type": "code",
   "execution_count": null,
   "id": "bca481a9",
   "metadata": {
    "tags": []
   },
   "outputs": [],
   "source": [
    "for i, j in zip(sp_df, lista_para_graficar):\n",
    "    v = j.Violencia[0]\n",
    "    if len(i.columns) < 2:\n",
    "        print(f\"El sexo de las personas agresoras es {i.columns.values} para {v}\")\n",
    "    else:\n",
    "        if v in violencias_nombres.keys():\n",
    "            # Creating instance of the figure\n",
    "            fig = go.Figure()\n",
    "\n",
    "            # Adding Male data to the figure\n",
    "            fig.add_trace(\n",
    "                go.Bar(\n",
    "                    y=i.index,\n",
    "                    x=i.Hombre,\n",
    "                    name=\"Hombre\",\n",
    "                    orientation=\"h\",\n",
    "                    text=-1 * i.Hombre.values.astype(\"float\"),\n",
    "                    marker_color=\"rgb(39, 55, 77)\",\n",
    "                )\n",
    "            )\n",
    "\n",
    "            # Adding Female data to the figure\n",
    "            fig.add_trace(\n",
    "                go.Bar(\n",
    "                    y=i.index,\n",
    "                    x=i.Mujer,\n",
    "                    name=\"Mujer\",\n",
    "                    orientation=\"h\",\n",
    "                    text=i.Mujer,\n",
    "                    marker_color=\"rgb(82, 109, 130)\",\n",
    "                )\n",
    "            )\n",
    "\n",
    "            # Updating the layout for our graph\n",
    "            fig.update_layout(\n",
    "                title=\" \".join(\n",
    "                    [\n",
    "                        \"Sexo del agresor y parentesco con la víctima de\",\n",
    "                        violencias_nombres[v].casefold(),\n",
    "                    ]\n",
    "                ),\n",
    "                legend_title=\"Sexo del agresor\",\n",
    "                title_font_size=22,\n",
    "                barmode=\"relative\",\n",
    "                bargap=0.0,\n",
    "                bargroupgap=0.5,\n",
    "                xaxis=dict(\n",
    "                    title=\"% de hombres\",\n",
    "                    title_font_size=14,\n",
    "                    tickvals=[-100, -50, 0, 0, 50, 100],\n",
    "                    ticktext=[\"100\", \"50\", \"0\", \"0\", \"50\", \"100\"],\n",
    "                ),\n",
    "                width=1200,\n",
    "                height=400,\n",
    "                margin=dict(l=30),\n",
    "                font=dict(\n",
    "                    family=\"Arial\",\n",
    "                    size=18,\n",
    "                    color=\"black\",\n",
    "                ),\n",
    "            )\n",
    "            fig.update_traces(\n",
    "                textfont_size=10,\n",
    "                textangle=0,\n",
    "                textposition=\"outside\",\n",
    "                cliponaxis=False,\n",
    "                texttemplate=\"%{text: 4}%\",\n",
    "            )\n",
    "            fig.show()\n",
    "            fig.write_image(\"\".join([\"img/hombres/piramide_\", v, \".png\"]))"
   ]
  },
  {
   "cell_type": "code",
   "execution_count": null,
   "id": "80a978a9",
   "metadata": {
    "tags": []
   },
   "outputs": [],
   "source": [
    "veces_violencias = [s for s in list(datos.columns) if \"veces_\" in s]"
   ]
  },
  {
   "cell_type": "code",
   "execution_count": null,
   "id": "4aa63721",
   "metadata": {
    "tags": []
   },
   "outputs": [],
   "source": [
    "violencias_6 = [s for s in list(datos.columns) if \"6_\" in s]"
   ]
  },
  {
   "cell_type": "code",
   "execution_count": null,
   "id": "74c68103",
   "metadata": {
    "tags": []
   },
   "outputs": [],
   "source": [
    "r_inf = []\n",
    "r_sup = []\n",
    "for i in datos[\"edad\"]:\n",
    "    if i == \"Más de 60\":\n",
    "        r_inf.append(60)\n",
    "        r_sup.append(100)\n",
    "    else:\n",
    "        r_inf.append(int(i.split(\"-\")[0]))\n",
    "        r_sup.append(int(i.split(\"-\")[1]))"
   ]
  },
  {
   "cell_type": "code",
   "execution_count": null,
   "id": "a35b7bbd-b968-4db8-9c6b-965f69bda571",
   "metadata": {
    "tags": []
   },
   "outputs": [],
   "source": [
    "datos[\"r_inf\"] = r_inf"
   ]
  },
  {
   "cell_type": "code",
   "execution_count": null,
   "id": "ecc70cdd-051c-48a3-ba9c-a51ad278a8ab",
   "metadata": {
    "tags": []
   },
   "outputs": [],
   "source": [
    "datos[\"r_sup\"] = r_sup"
   ]
  },
  {
   "cell_type": "markdown",
   "id": "51a796b2-f468-4d55-b84c-91da7d94b807",
   "metadata": {},
   "source": [
    "#### Violencias por ocupación"
   ]
  },
  {
   "cell_type": "code",
   "execution_count": null,
   "id": "b136003f",
   "metadata": {
    "tags": []
   },
   "outputs": [],
   "source": [
    "dict_violencias_ocupaciones = {}\n",
    "for i in violencias:\n",
    "    df = datos.query(f\"{i} == 1 and ocupacion != 'Otra'\")[\"ocupacion\"].value_counts()\n",
    "    df = round(df[:10] / df.sum() * 100, 2)\n",
    "    dict_violencias_ocupaciones[violencias_nombres[i]] = df"
   ]
  },
  {
   "cell_type": "code",
   "execution_count": null,
   "id": "08de0e19",
   "metadata": {
    "tags": []
   },
   "outputs": [],
   "source": [
    "tbl_vo = pd.DataFrame.from_dict(dict_violencias_ocupaciones, orient=\"index\").fillna(0)"
   ]
  },
  {
   "cell_type": "code",
   "execution_count": null,
   "id": "e83e236a",
   "metadata": {
    "tags": []
   },
   "outputs": [],
   "source": [
    "fig = px.bar(\n",
    "    tbl_vo.sort_values(\"Abogado(a)\"),\n",
    "    orientation=\"h\",\n",
    "    color_discrete_sequence=px.colors.qualitative.Antique_r,\n",
    "    width=1200,\n",
    "    height=600,\n",
    ")\n",
    "fig.update_layout(\n",
    "    title=\"Ocupaciones más frecuentes por violencia sufrida\",\n",
    "    xaxis_title=\"% de hombres\",\n",
    "    yaxis_title=\"Violencia\",\n",
    "    legend_title=\"Ocupaciones\",\n",
    "    font=dict(\n",
    "        family=\"Arial\",\n",
    "        size=18,\n",
    "        color=\"black\",\n",
    "    ),\n",
    ")\n",
    "\n",
    "fig.show()\n",
    "fig.write_image(\"img/hombres/violencia_ocupacion.png\")"
   ]
  },
  {
   "cell_type": "markdown",
   "id": "ee9fd4e6",
   "metadata": {},
   "source": [
    "#### Violencias por estados"
   ]
  },
  {
   "cell_type": "code",
   "execution_count": null,
   "id": "bbd6a163",
   "metadata": {
    "tags": []
   },
   "outputs": [],
   "source": [
    "for i in violencias:\n",
    "    df_ = datos.query(f\"{i} == 1\")[\"estado\"].value_counts()\n",
    "    df = df_ / df_.sum() * 100\n",
    "\n",
    "    lista_valores = []\n",
    "    for j in df_mapa.ESTADO:\n",
    "        if j in df.index:\n",
    "            lista_valores.append(df.loc[j])\n",
    "        else:\n",
    "            lista_valores.append(0)\n",
    "    df_mapa[violencias_nombres[i]] = lista_valores"
   ]
  },
  {
   "cell_type": "code",
   "execution_count": null,
   "id": "77f44e41",
   "metadata": {
    "tags": []
   },
   "outputs": [],
   "source": [
    "tbl_violencia_estado = df_mapa.drop(columns=\"Hombres\")"
   ]
  },
  {
   "cell_type": "code",
   "execution_count": null,
   "id": "c8578607",
   "metadata": {
    "tags": []
   },
   "outputs": [],
   "source": [
    "tbl_ve = round(\n",
    "    pd.melt(\n",
    "        tbl_violencia_estado,\n",
    "        id_vars=[\"ESTADO\"],\n",
    "        value_vars=[violencias_nombres[s] for s in violencias_nombres.keys()],\n",
    "        var_name=\"violencia\",\n",
    "        value_name=\"porcentaje\",\n",
    "    )\n",
    "    .pivot(index=\"violencia\", columns=\"ESTADO\", values=\"porcentaje\")\n",
    "    .sort_index(axis=0),\n",
    "    2,\n",
    ")"
   ]
  },
  {
   "cell_type": "code",
   "execution_count": null,
   "id": "73ef6e95",
   "metadata": {
    "tags": []
   },
   "outputs": [],
   "source": [
    "fig = px.bar(\n",
    "    tbl_ve.sort_index(axis=1),\n",
    "    orientation=\"h\",\n",
    "    color_discrete_sequence=px.colors.qualitative.Antique_r,\n",
    "    width=1500,\n",
    "    height=800,\n",
    ")\n",
    "fig.update_layout(\n",
    "    title=\"Ubicación de las víctimas por violencia sufrida\",\n",
    "    xaxis_title=\"% de hombres\",\n",
    "    yaxis_title=\"Violencia\",\n",
    "    legend_title=\"Estado\",\n",
    "    font=dict(\n",
    "        family=\"Arial\",\n",
    "        size=17,\n",
    "        color=\"black\",\n",
    "    ),\n",
    ")\n",
    "fig.update_traces(\n",
    "    textfont_size=18,\n",
    "    textangle=0,\n",
    "    cliponaxis=False,\n",
    "    marker_line_color=\"white\",\n",
    "    texttemplate=\"%{value: 4} %\",\n",
    ")\n",
    "fig.show()\n",
    "fig.write_image(\"img/hombres/violencia_estado.png\")"
   ]
  },
  {
   "cell_type": "markdown",
   "id": "c730f403",
   "metadata": {},
   "source": [
    "#### Promedio de incidencias"
   ]
  },
  {
   "cell_type": "code",
   "execution_count": null,
   "id": "d8e030ab",
   "metadata": {
    "tags": []
   },
   "outputs": [],
   "source": [
    "round(\n",
    "    (tbl_numero_violencia.index * tbl_numero_violencia[\"count\"]).sum()\n",
    "    / tbl_numero_violencia.sum().iloc[0],\n",
    "    2,\n",
    ")"
   ]
  },
  {
   "cell_type": "markdown",
   "id": "e412661f-6577-4784-b67f-eb663ec74e75",
   "metadata": {},
   "source": [
    "En promedio, una mujer es víctima de 3 violencias."
   ]
  },
  {
   "cell_type": "markdown",
   "id": "d2c351d1",
   "metadata": {},
   "source": [
    "#### Cantidad de veces en que la víctima reporta haber sufrido la violencia"
   ]
  },
  {
   "cell_type": "code",
   "execution_count": null,
   "id": "9b6b0b26",
   "metadata": {
    "tags": []
   },
   "outputs": [],
   "source": [
    "repeticiones = []\n",
    "for j in [i for i in list(vars().keys()) if \"frecuencia_\" in i]:\n",
    "    df = vars()[j][2].rename(columns={\"count\": fg.violencias_names[j.split(\"_\")[1]]})\n",
    "    df.rename(index={\"Sólo una vez\": \"Solo una vez\"}, inplace=True)\n",
    "    repeticiones.append(df)"
   ]
  },
  {
   "cell_type": "code",
   "execution_count": null,
   "id": "8f682a4e",
   "metadata": {
    "tags": []
   },
   "outputs": [],
   "source": [
    "tbl_repeticiones = pd.concat(repeticiones, axis=1).fillna(0).T"
   ]
  },
  {
   "cell_type": "code",
   "execution_count": null,
   "id": "642eb77d",
   "metadata": {},
   "outputs": [],
   "source": [
    "fig = px.bar(\n",
    "    tbl_repeticiones.sort_values(\"Solo una vez\"),\n",
    "    orientation=\"h\",\n",
    "    color_discrete_sequence=px.colors.qualitative.Antique_r,\n",
    "    width=1500,\n",
    "    height=800,\n",
    ")\n",
    "fig.update_layout(\n",
    "    title=\"Cantidad de veces que la víctima reporta haber sufrido la violencia\",\n",
    "    xaxis_title=\"% de hombres\",\n",
    "    yaxis_title=\"Violencia\",\n",
    "    legend_title=\"Frecuencias\",\n",
    "    font=dict(\n",
    "        family=\"Arial\",\n",
    "        size=18,\n",
    "        color=\"black\",\n",
    "    ),\n",
    ")\n",
    "fig.update_traces(\n",
    "    textfont_size=18,\n",
    "    textangle=0,\n",
    "    cliponaxis=False,\n",
    "    marker_line_color=\"white\",\n",
    "    texttemplate=\"%{value: 4} %\",\n",
    ")\n",
    "fig.show()\n",
    "fig.write_image(\"img/hombres/repeticiones_violencia.png\")"
   ]
  },
  {
   "cell_type": "markdown",
   "id": "05e94872",
   "metadata": {},
   "source": [
    "#### Patrón de uso de aplicaciones por tipo de violencias y según medio más frecuente por el que ocurrió"
   ]
  },
  {
   "cell_type": "code",
   "execution_count": null,
   "id": "3769d166",
   "metadata": {
    "tags": []
   },
   "outputs": [],
   "source": [
    "dict_medios_medios = {}\n",
    "medio_frecuente = []\n",
    "for i in violencias:\n",
    "    df = datos.query(f\"{i} == 1\")\n",
    "    if len(df) != 0:\n",
    "        variable = [s for s in df.columns if \"\".join([\"medio_\", i]) in s]\n",
    "        start_cols = list(range(23, 40))\n",
    "        var_idx = df.columns.get_loc(variable[0])\n",
    "        end_col = df.columns.get_loc(\"\".join([\"otraR_\", i]))\n",
    "\n",
    "        # concatenar rangos de columnas con np.r_[]\n",
    "        col_range = np.r_[start_cols, var_idx + 1 : end_col]\n",
    "\n",
    "        # seleccionar las columnas del DataFrame\n",
    "        info = df.iloc[:, col_range]\n",
    "\n",
    "        # Cálculo del valor máximo en el medio de la violencia\n",
    "        medio_mas_freq = (\n",
    "            info.loc[:, \"\".join([\"twitter_\", i]) :].sum().astype(int).idxmax()\n",
    "        )\n",
    "        medio_frecuente.append(medio_mas_freq.split(\"_\")[0])\n",
    "\n",
    "        df_medios = info.query(f\"{medio_mas_freq} == 1\")[redes]\n",
    "\n",
    "        dicts = {}\n",
    "        for red_app in redes:\n",
    "            dicts[red_app.capitalize()] = (\n",
    "                df_medios[[red_app]]\n",
    "                .value_counts()\n",
    "                .reset_index()\n",
    "                .set_index(red_app)[\"count\"]\n",
    "            )\n",
    "\n",
    "        aplicaciones = pd.DataFrame.from_dict(dicts, orient=\"index\").fillna(0)\n",
    "\n",
    "        dict_medios_medios[violencias_nombres[i]] = round(\n",
    "            aplicaciones / len(df) * 100, 2\n",
    "        )"
   ]
  },
  {
   "cell_type": "code",
   "execution_count": null,
   "id": "c79e92fd",
   "metadata": {
    "tags": []
   },
   "outputs": [],
   "source": [
    "for i, j in zip(dict_medios_medios.keys(), medio_frecuente):\n",
    "    fig = px.bar(\n",
    "        dict_medios_medios[i],\n",
    "        orientation=\"v\",\n",
    "        barmode=\"group\",\n",
    "        color_discrete_sequence=px.colors.qualitative.Antique_r,\n",
    "        width=1500,\n",
    "        height=800,\n",
    "    )\n",
    "    fig.update_layout(\n",
    "        title=f\"Patrón de uso de aplicaciones para {i.casefold()} sufrida por {j} \",\n",
    "        yaxis_title=\"% de hombres\",\n",
    "        xaxis_title=\"Aplicaciones o red social\",\n",
    "        legend_title=\"Frecuencia de uso\",\n",
    "        font=dict(\n",
    "            family=\"Arial\",\n",
    "            size=18,\n",
    "            color=\"black\",\n",
    "        ),\n",
    "    )\n",
    "    fig.update_traces(\n",
    "        textfont_size=17,\n",
    "        textangle=0,\n",
    "        textposition=\"outside\",\n",
    "        cliponaxis=False,\n",
    "        texttemplate=\"%{value: 4}%\",\n",
    "    )\n",
    "    fig.show()\n",
    "    fig.write_image(f\"img/hombres/apps{i[:8]}.png\")"
   ]
  },
  {
   "cell_type": "markdown",
   "id": "8ee576e4",
   "metadata": {
    "tags": []
   },
   "source": [
    "#### Víctimas y conocimiento del nombre de la violencia que sufrieron"
   ]
  },
  {
   "cell_type": "code",
   "execution_count": null,
   "id": "f5500bc2",
   "metadata": {
    "tags": []
   },
   "outputs": [],
   "source": [
    "dict_conocimiento_frecuencia = {}\n",
    "for i in violencias:\n",
    "    df = datos.query(f\"{i} == 1\")[[\"vdbg\"]].value_counts()\n",
    "    dict_conocimiento_frecuencia[violencias_nombres[i]] = round(df / df.sum() * 100, 2)"
   ]
  },
  {
   "cell_type": "code",
   "execution_count": null,
   "id": "0165fef6-b77a-40b6-87d6-5a37eb3d335c",
   "metadata": {
    "tags": []
   },
   "outputs": [],
   "source": [
    "df_victima_conocimiento = pd.DataFrame.from_dict(\n",
    "    dict_conocimiento_frecuencia, orient=\"index\"\n",
    ").fillna(0)\n",
    "\n",
    "df_victima_conocimiento.columns.name = \"Conocimiento del nombre de la violencia\"\n",
    "\n",
    "df_victima_conocimiento"
   ]
  },
  {
   "cell_type": "markdown",
   "id": "2c20f9fb-e7d7-4b05-a5ec-3e49708540ef",
   "metadata": {},
   "source": [
    "Esta tabla contiene la información de las mujeres que sufrieron las violencias y se compara con la respuesta de si conoce o no el nombre."
   ]
  },
  {
   "cell_type": "code",
   "execution_count": null,
   "id": "56db0590-0ec6-4618-ae82-5cf40140fb20",
   "metadata": {
    "collapsed": true,
    "jupyter": {
     "outputs_hidden": true
    }
   },
   "outputs": [],
   "source": []
  }
 ],
 "metadata": {
  "kernelspec": {
   "display_name": "Python 3 (ipykernel)",
   "language": "python",
   "name": "python3"
  },
  "language_info": {
   "codemirror_mode": {
    "name": "ipython",
    "version": 3
   },
   "file_extension": ".py",
   "mimetype": "text/x-python",
   "name": "python",
   "nbconvert_exporter": "python",
   "pygments_lexer": "ipython3",
   "version": "3.13.0"
  },
  "widgets": {
   "application/vnd.jupyter.widget-state+json": {
    "state": {},
    "version_major": 2,
    "version_minor": 0
   }
  }
 },
 "nbformat": 4,
 "nbformat_minor": 5
}
